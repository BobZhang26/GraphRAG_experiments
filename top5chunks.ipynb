{
 "cells": [
  {
   "cell_type": "markdown",
   "metadata": {},
   "source": [
    "# Get the Top 5 Chunks to Check Paper's Stance"
   ]
  },
  {
   "cell_type": "markdown",
   "metadata": {},
   "source": [
    "## Step 0: Environment Setup"
   ]
  },
  {
   "cell_type": "code",
   "execution_count": 1,
   "metadata": {},
   "outputs": [
    {
     "data": {
      "text/plain": [
       "True"
      ]
     },
     "execution_count": 1,
     "metadata": {},
     "output_type": "execute_result"
    }
   ],
   "source": [
    "from dotenv import load_dotenv # type: ignore\n",
    "import os\n",
    "from langchain_neo4j import Neo4jGraph # type: ignore\n",
    "from libs import embed_entity\n",
    "import pandas as pd # type: ignore\n",
    "from conn import connect2Googlesheet\n",
    "from typing import List, Tuple, Dict, Optional\n",
    "# Force reload of the .env file\n",
    "load_dotenv()"
   ]
  },
  {
   "cell_type": "code",
   "execution_count": 2,
   "metadata": {},
   "outputs": [
    {
     "name": "stdout",
     "output_type": "stream",
     "text": [
      "Connected to Neo4j database successfully.\n"
     ]
    }
   ],
   "source": [
    "# Connect to Neo4j database\n",
    "try:\n",
    "    graph = Neo4jGraph(\n",
    "        url=os.getenv(\"NEO4J_URL\"),\n",
    "        username=os.getenv(\"NEO4J_USERNAME\"),\n",
    "        password=os.getenv(\"NEO4J_PASSWORD\")\n",
    "    )\n",
    "    print(\"Connected to Neo4j database successfully.\")\n",
    "except ValueError as e:\n",
    "    print(f\"Could not connect to Neo4j database: {e}\")"
   ]
  },
  {
   "cell_type": "markdown",
   "metadata": {},
   "source": [
    "## Step 1: Load Questions from Google Sheet"
   ]
  },
  {
   "cell_type": "code",
   "execution_count": 3,
   "metadata": {},
   "outputs": [
    {
     "data": {
      "text/html": [
       "<div>\n",
       "<style scoped>\n",
       "    .dataframe tbody tr th:only-of-type {\n",
       "        vertical-align: middle;\n",
       "    }\n",
       "\n",
       "    .dataframe tbody tr th {\n",
       "        vertical-align: top;\n",
       "    }\n",
       "\n",
       "    .dataframe thead th {\n",
       "        text-align: right;\n",
       "    }\n",
       "</style>\n",
       "<table border=\"1\" class=\"dataframe\">\n",
       "  <thead>\n",
       "    <tr style=\"text-align: right;\">\n",
       "      <th></th>\n",
       "      <th>condition</th>\n",
       "      <th>number</th>\n",
       "      <th>docs</th>\n",
       "      <th>Question</th>\n",
       "      <th>Mahmud's Note</th>\n",
       "      <th>status</th>\n",
       "      <th>comments</th>\n",
       "      <th></th>\n",
       "    </tr>\n",
       "  </thead>\n",
       "  <tbody>\n",
       "    <tr>\n",
       "      <th>0</th>\n",
       "      <td>ARDS</td>\n",
       "      <td>1</td>\n",
       "      <td>ACURASYS</td>\n",
       "      <td>Does early administration of neuromuscular blo...</td>\n",
       "      <td>Like</td>\n",
       "      <td></td>\n",
       "      <td></td>\n",
       "      <td></td>\n",
       "    </tr>\n",
       "    <tr>\n",
       "      <th>1</th>\n",
       "      <td>ARDS</td>\n",
       "      <td>2</td>\n",
       "      <td>ACURASYS</td>\n",
       "      <td>Do patients with severe ARDS being treated wit...</td>\n",
       "      <td>Replace</td>\n",
       "      <td>fixed</td>\n",
       "      <td></td>\n",
       "      <td></td>\n",
       "    </tr>\n",
       "    <tr>\n",
       "      <th>2</th>\n",
       "      <td>ARDS</td>\n",
       "      <td>3</td>\n",
       "      <td>ROSE</td>\n",
       "      <td>In patients with moderate to severe ARDS, does...</td>\n",
       "      <td>Maybe this question: In patients with moderate...</td>\n",
       "      <td>fixed</td>\n",
       "      <td></td>\n",
       "      <td></td>\n",
       "    </tr>\n",
       "    <tr>\n",
       "      <th>3</th>\n",
       "      <td>ARDS</td>\n",
       "      <td>4</td>\n",
       "      <td>ROSE</td>\n",
       "      <td>Do patients with moderate-to-severe ARDS have ...</td>\n",
       "      <td>Local question (not sure if this is the aim of...</td>\n",
       "      <td>fixed</td>\n",
       "      <td>Wrong concept since PEEP by itself is mandator...</td>\n",
       "      <td>Does the use of neuromuscular blockers in pati...</td>\n",
       "    </tr>\n",
       "    <tr>\n",
       "      <th>4</th>\n",
       "      <td>ARDS</td>\n",
       "      <td>5</td>\n",
       "      <td>FACTT</td>\n",
       "      <td>Among patients with ALI/ARDS, does a conservat...</td>\n",
       "      <td>Local question (not sure if this is the aim of...</td>\n",
       "      <td>fixed</td>\n",
       "      <td>Check if studies defined conservative by CVP &lt;...</td>\n",
       "      <td></td>\n",
       "    </tr>\n",
       "  </tbody>\n",
       "</table>\n",
       "</div>"
      ],
      "text/plain": [
       "  condition  number      docs  \\\n",
       "0      ARDS       1  ACURASYS   \n",
       "1      ARDS       2  ACURASYS   \n",
       "2      ARDS       3      ROSE   \n",
       "3      ARDS       4      ROSE   \n",
       "4      ARDS       5     FACTT   \n",
       "\n",
       "                                            Question  \\\n",
       "0  Does early administration of neuromuscular blo...   \n",
       "1  Do patients with severe ARDS being treated wit...   \n",
       "2  In patients with moderate to severe ARDS, does...   \n",
       "3  Do patients with moderate-to-severe ARDS have ...   \n",
       "4  Among patients with ALI/ARDS, does a conservat...   \n",
       "\n",
       "                                       Mahmud's Note status  \\\n",
       "0                                               Like          \n",
       "1                                            Replace  fixed   \n",
       "2  Maybe this question: In patients with moderate...  fixed   \n",
       "3  Local question (not sure if this is the aim of...  fixed   \n",
       "4  Local question (not sure if this is the aim of...  fixed   \n",
       "\n",
       "                                            comments  \\\n",
       "0                                                      \n",
       "1                                                      \n",
       "2                                                      \n",
       "3  Wrong concept since PEEP by itself is mandator...   \n",
       "4  Check if studies defined conservative by CVP <...   \n",
       "\n",
       "                                                      \n",
       "0                                                     \n",
       "1                                                     \n",
       "2                                                     \n",
       "3  Does the use of neuromuscular blockers in pati...  \n",
       "4                                                     "
      ]
     },
     "execution_count": 3,
     "metadata": {},
     "output_type": "execute_result"
    }
   ],
   "source": [
    "spreadsheet = connect2Googlesheet()\n",
    "\n",
    "# Select the worksheet: relevance\n",
    "worksheet = spreadsheet.get_worksheet(2)  \n",
    "\n",
    "# Get all records as a list of dictionaries\n",
    "data = worksheet.get_all_records()\n",
    "\n",
    "# Convert to Pandas DataFrame\n",
    "df_MedQ = pd.DataFrame(data)\n",
    "df_MedQ.head()"
   ]
  },
  {
   "cell_type": "markdown",
   "metadata": {},
   "source": [
    "## Step 3: Get the "
   ]
  },
  {
   "cell_type": "code",
   "execution_count": 24,
   "metadata": {},
   "outputs": [],
   "source": [
    "def get_top_chunks_per_paper(\n",
    "    graph,\n",
    "    questions: List[str],\n",
    "    limit_per_paper: int = 5,\n",
    "    similarity_threshold: float = 0.5\n",
    ") -> pd.DataFrame:\n",
    "    \"\"\"\n",
    "    For each question, find the top chunks from each paper based on similarity.\n",
    "    \n",
    "    Args:\n",
    "        graph: Neo4j graph connection\n",
    "        questions: List of questions to process\n",
    "        limit_per_paper: Number of top chunks to retrieve per paper (default=5)\n",
    "        similarity_threshold: Minimum similarity score to consider (default=0.5)\n",
    "    \n",
    "    Returns:\n",
    "        DataFrame with columns: question_number, question, paper_name, chunks, similarities\n",
    "    \"\"\"\n",
    "    results = []\n",
    "    \n",
    "    for idx, question in enumerate(questions):\n",
    "        # Get question embedding\n",
    "        query_embedding = embed_entity(question)\n",
    "        print(f\"Processing question {idx + 1}: {question}\")\n",
    "        #print(f\"Query embedding: {query_embedding}\")\n",
    "        params = {\n",
    "            \"query_embedding\": query_embedding,\n",
    "            \"threshold\": similarity_threshold,\n",
    "            \"limit\": limit_per_paper\n",
    "        }\n",
    "\n",
    "        # Query to get top chunks per paper\n",
    "        query = \"\"\"\n",
    "            MATCH (c:Chunk)\n",
    "            WHERE c.fileName = \"ACURASYS.pdf\"\n",
    "            CALL db.index.vector.queryNodes(\"entities\", 50, $query_embedding)\n",
    "            YIELD node, score\n",
    "            WHERE score >= $threshold\n",
    "            ORDER BY score DESC\n",
    "            LIMIT 5\n",
    "            RETURN\n",
    "                c.fileName as paper_name, \n",
    "                c.text as chunk_text,\n",
    "                c.position as position,\n",
    "                c.page_number as page,\n",
    "                score\n",
    "            \n",
    "        \"\"\"\n",
    "        \n",
    "        result = graph.query(query, params=params)\n",
    "        print(result)\n",
    "        # Process results\n",
    "        # for record in result:\n",
    "        #     chunk = record[\"chunk\"]  # Now chunk is a dictionary\n",
    "        #     results.append({\n",
    "        #         \"question_number\": idx,\n",
    "        #         \"question\": question,\n",
    "        #         \"paper_name\": \"ACURASYS.pdf\",\n",
    "        #         \"chunk_text\": chunk[\"chunk_text\"],\n",
    "        #         \"position\": chunk[\"position\"],\n",
    "        #         \"page\": chunk[\"page_number\"],\n",
    "        #         \"score\": chunk[\"score\"]\n",
    "        #     })\n",
    "    \n",
    "    # Convert to DataFrame\n",
    "    #df_results = pd.DataFrame(results)\n",
    "    \n",
    "    # Sort by question number and average similarity\n",
    "    # df_results = df_results.sort_values(\n",
    "    #     [\"question_number\", \"avg_similarity\"],\n",
    "    #     ascending=[True, False]\n",
    "    # )\n",
    "    \n",
    "    return #df_results.sort_values([\"question_number\", \"score\"], ascending=[True, False])"
   ]
  },
  {
   "cell_type": "code",
   "execution_count": 25,
   "metadata": {},
   "outputs": [
    {
     "name": "stdout",
     "output_type": "stream",
     "text": [
      "Processing question 1: Patients with septic shock undergoing mechanical ventilation, did continuous infusion of hydrocortisone result in lower 90-day mortality?\n",
      "[{'paper_name': 'ACURASYS.pdf', 'chunk_text': 'D., Didier Perez, M.D.,   Jean-Marie Seghboyan, M.D., Jean-Michel Constantin, M.D., Ph.D., Pierre Courant, M.D., Jean-Yves Lefrant, M.D., Ph.D.,   Claude Guérin, M.D., Ph.D., Gwenaël Prat, M.D., Sophie Morange, M.D., and Antoine R', 'position': 3, 'page': 1, 'score': 0.8569455146789551}, {'paper_name': 'ACURASYS.pdf', 'chunk_text': 'l Prat, M.D., Sophie Morange, M.D., and Antoine Roch, M.D., Ph.D.,   for the ACURASYS Study Investigators* Abstr act From Assistance Publique–Hôpitaux de  Marseille Unité de Recherche sur les Mal- adies Infectieuses et Tropicales Émer- gentes (URMITE), Centre National de la  Recherche Scientifique–Unité Mix', 'position': 4, 'page': 1, 'score': 0.8569455146789551}, {'paper_name': 'ACURASYS.pdf', 'chunk_text': 'n engl j med 363;12\\u2003 nejm.org\\u2003 september 16, 2010 1107 The new england   journal of medicine established in 1812\\t september 16, 2010\\t vol. 363\\u2003 no. 12 Neuromuscular Blockers in Early Acute Respiratory   Distress Syndrome Laurent Papazian, M.D., Ph.D., Jean-Marie Forel, M.D., Arnaud G', 'position': 1, 'page': 1, 'score': 0.8569455146789551}, {'paper_name': 'ACURASYS.pdf', 'chunk_text': 'D., Ph.D., Jean-Marie Forel, M.D., Arnaud Gacouin, M.D., Christine Penot-Ragon, Pharm.D.,  Gilles Perrin, M.D., Anderson Loundou, Ph.D., Samir Jaber, M.D., Ph.D., Jean-Michel Arnal, M.D., Didier Perez, M.D.,   Jean-Marie Seghboyan,', 'position': 2, 'page': 1, 'score': 0.8569455146789551}, {'paper_name': 'ACURASYS.pdf', 'chunk_text': ' (URMITE), Centre National de la  Recherche Scientifique–Unité Mixte de  Recherche (CNRS-UMR) 6236 (L.P., J.-M.F.,  A.R.) and Faculté de Médecine (A.L.), Uni- versité de la Méditerranée Aix–Marseille  II; Hôpital Sainte-Marguerite (C.P.-', 'position': 5, 'page': 1, 'score': 0.8569455146789551}]\n",
      "Processing question 2: A 7-day treatment with low doses of steriods significantly reduced the risk of death in patients with septic shock and relative adrenal insufficiency without increasing adverse events\n",
      "[{'paper_name': 'ACURASYS.pdf', 'chunk_text': 'D., Didier Perez, M.D.,   Jean-Marie Seghboyan, M.D., Jean-Michel Constantin, M.D., Ph.D., Pierre Courant, M.D., Jean-Yves Lefrant, M.D., Ph.D.,   Claude Guérin, M.D., Ph.D., Gwenaël Prat, M.D., Sophie Morange, M.D., and Antoine R', 'position': 3, 'page': 1, 'score': 0.8307840824127197}, {'paper_name': 'ACURASYS.pdf', 'chunk_text': 'l Prat, M.D., Sophie Morange, M.D., and Antoine Roch, M.D., Ph.D.,   for the ACURASYS Study Investigators* Abstr act From Assistance Publique–Hôpitaux de  Marseille Unité de Recherche sur les Mal- adies Infectieuses et Tropicales Émer- gentes (URMITE), Centre National de la  Recherche Scientifique–Unité Mix', 'position': 4, 'page': 1, 'score': 0.8307840824127197}, {'paper_name': 'ACURASYS.pdf', 'chunk_text': 'n engl j med 363;12\\u2003 nejm.org\\u2003 september 16, 2010 1107 The new england   journal of medicine established in 1812\\t september 16, 2010\\t vol. 363\\u2003 no. 12 Neuromuscular Blockers in Early Acute Respiratory   Distress Syndrome Laurent Papazian, M.D., Ph.D., Jean-Marie Forel, M.D., Arnaud G', 'position': 1, 'page': 1, 'score': 0.8307840824127197}, {'paper_name': 'ACURASYS.pdf', 'chunk_text': 'D., Ph.D., Jean-Marie Forel, M.D., Arnaud Gacouin, M.D., Christine Penot-Ragon, Pharm.D.,  Gilles Perrin, M.D., Anderson Loundou, Ph.D., Samir Jaber, M.D., Ph.D., Jean-Michel Arnal, M.D., Didier Perez, M.D.,   Jean-Marie Seghboyan,', 'position': 2, 'page': 1, 'score': 0.8307840824127197}, {'paper_name': 'ACURASYS.pdf', 'chunk_text': ' (URMITE), Centre National de la  Recherche Scientifique–Unité Mixte de  Recherche (CNRS-UMR) 6236 (L.P., J.-M.F.,  A.R.) and Faculté de Médecine (A.L.), Uni- versité de la Méditerranée Aix–Marseille  II; Hôpital Sainte-Marguerite (C.P.-', 'position': 5, 'page': 1, 'score': 0.8307840824127197}]\n"
     ]
    }
   ],
   "source": [
    "# Get first two questions using proper DataFrame indexing\n",
    "test_questions = df_MedQ.iloc[10:12]['Question'].tolist()\n",
    "\n",
    "# # Print selected questions to verify\n",
    "# print(\"\\nSelected questions:\")\n",
    "# for i, q in enumerate(test_questions, 1):\n",
    "#     print(f\"Q{i}: {q}\")\n",
    "\n",
    "# Call the function with correct parameters\n",
    "df_results = get_top_chunks_per_paper(\n",
    "    graph=graph,\n",
    "    questions=test_questions\n",
    ")\n"
   ]
  },
  {
   "cell_type": "code",
   "execution_count": null,
   "metadata": {},
   "outputs": [
    {
     "name": "stdout",
     "output_type": "stream",
     "text": [
      "Processing question 1: Does early administration of neuromuscular blocking agents increases the ventilator free days?\n",
      "Found 5 results.\n",
      "Paper: ACURASYS.pdf\n",
      "Chunks: D., Didier Perez, M.D.,   Jean-Marie Seghboyan, M.D., Jean-Michel Constantin, M.D., Ph.D., Pierre Courant, M.D., Jean-Yves Lefrant, M.D., Ph.D.,   Claude Guérin, M.D., Ph.D., Gwenaël Prat, M.D., Sophie Morange, M.D., and Antoine R\n"
     ]
    },
    {
     "ename": "TypeError",
     "evalue": "string indices must be integers, not 'str'",
     "output_type": "error",
     "traceback": [
      "\u001b[0;31m---------------------------------------------------------------------------\u001b[0m",
      "\u001b[0;31mTypeError\u001b[0m                                 Traceback (most recent call last)",
      "Cell \u001b[0;32mIn[5], line 1\u001b[0m\n\u001b[0;32m----> 1\u001b[0m df_results \u001b[38;5;241m=\u001b[39m \u001b[43mget_top_chunks_per_paper\u001b[49m\u001b[43m(\u001b[49m\u001b[43mgraph\u001b[49m\u001b[43m,\u001b[49m\u001b[43m \u001b[49m\u001b[43mdf_MedQ\u001b[49m\u001b[43m[\u001b[49m\u001b[38;5;124;43m\"\u001b[39;49m\u001b[38;5;124;43mQuestion\u001b[39;49m\u001b[38;5;124;43m\"\u001b[39;49m\u001b[43m]\u001b[49m\u001b[38;5;241;43m.\u001b[39;49m\u001b[43miloc\u001b[49m\u001b[43m[\u001b[49m\u001b[43m:\u001b[49m\u001b[38;5;241;43m2\u001b[39;49m\u001b[43m]\u001b[49m\u001b[38;5;241;43m.\u001b[39;49m\u001b[43mtolist\u001b[49m\u001b[43m(\u001b[49m\u001b[43m)\u001b[49m\u001b[43m)\u001b[49m\n\u001b[1;32m      2\u001b[0m df_results\u001b[38;5;241m.\u001b[39mhead()\n",
      "Cell \u001b[0;32mIn[4], line 60\u001b[0m, in \u001b[0;36mget_top_chunks_per_paper\u001b[0;34m(graph, questions, limit_per_paper, similarity_threshold)\u001b[0m\n\u001b[1;32m     57\u001b[0m \u001b[38;5;28mprint\u001b[39m(\u001b[38;5;124mf\u001b[39m\u001b[38;5;124m\"\u001b[39m\u001b[38;5;124mChunks: \u001b[39m\u001b[38;5;132;01m{\u001b[39;00mchunks\u001b[38;5;132;01m}\u001b[39;00m\u001b[38;5;124m\"\u001b[39m)\n\u001b[1;32m     59\u001b[0m \u001b[38;5;66;03m# Extract chunk texts and similarities\u001b[39;00m\n\u001b[0;32m---> 60\u001b[0m chunk_texts \u001b[38;5;241m=\u001b[39m \u001b[43m[\u001b[49m\u001b[43mchunk\u001b[49m\u001b[43m[\u001b[49m\u001b[38;5;124;43m\"\u001b[39;49m\u001b[38;5;124;43mchunk_text\u001b[39;49m\u001b[38;5;124;43m\"\u001b[39;49m\u001b[43m]\u001b[49m\u001b[43m \u001b[49m\u001b[38;5;28;43;01mfor\u001b[39;49;00m\u001b[43m \u001b[49m\u001b[43mchunk\u001b[49m\u001b[43m \u001b[49m\u001b[38;5;129;43;01min\u001b[39;49;00m\u001b[43m \u001b[49m\u001b[43mchunks\u001b[49m\u001b[43m]\u001b[49m\n\u001b[1;32m     61\u001b[0m similarities \u001b[38;5;241m=\u001b[39m [chunk[\u001b[38;5;124m\"\u001b[39m\u001b[38;5;124mscore\u001b[39m\u001b[38;5;124m\"\u001b[39m] \u001b[38;5;28;01mfor\u001b[39;00m chunk \u001b[38;5;129;01min\u001b[39;00m chunks]\n\u001b[1;32m     63\u001b[0m results\u001b[38;5;241m.\u001b[39mappend({\n\u001b[1;32m     64\u001b[0m     \u001b[38;5;124m\"\u001b[39m\u001b[38;5;124mquestion_number\u001b[39m\u001b[38;5;124m\"\u001b[39m: idx,\n\u001b[1;32m     65\u001b[0m     \u001b[38;5;124m\"\u001b[39m\u001b[38;5;124mquestion\u001b[39m\u001b[38;5;124m\"\u001b[39m: question,\n\u001b[0;32m   (...)\u001b[0m\n\u001b[1;32m     69\u001b[0m     \u001b[38;5;124m\"\u001b[39m\u001b[38;5;124mavg_similarity\u001b[39m\u001b[38;5;124m\"\u001b[39m: \u001b[38;5;28msum\u001b[39m(similarities) \u001b[38;5;241m/\u001b[39m \u001b[38;5;28mlen\u001b[39m(similarities) \u001b[38;5;28;01mif\u001b[39;00m similarities \u001b[38;5;28;01melse\u001b[39;00m \u001b[38;5;241m0\u001b[39m\n\u001b[1;32m     70\u001b[0m })\n",
      "Cell \u001b[0;32mIn[4], line 60\u001b[0m, in \u001b[0;36m<listcomp>\u001b[0;34m(.0)\u001b[0m\n\u001b[1;32m     57\u001b[0m \u001b[38;5;28mprint\u001b[39m(\u001b[38;5;124mf\u001b[39m\u001b[38;5;124m\"\u001b[39m\u001b[38;5;124mChunks: \u001b[39m\u001b[38;5;132;01m{\u001b[39;00mchunks\u001b[38;5;132;01m}\u001b[39;00m\u001b[38;5;124m\"\u001b[39m)\n\u001b[1;32m     59\u001b[0m \u001b[38;5;66;03m# Extract chunk texts and similarities\u001b[39;00m\n\u001b[0;32m---> 60\u001b[0m chunk_texts \u001b[38;5;241m=\u001b[39m [\u001b[43mchunk\u001b[49m\u001b[43m[\u001b[49m\u001b[38;5;124;43m\"\u001b[39;49m\u001b[38;5;124;43mchunk_text\u001b[39;49m\u001b[38;5;124;43m\"\u001b[39;49m\u001b[43m]\u001b[49m \u001b[38;5;28;01mfor\u001b[39;00m chunk \u001b[38;5;129;01min\u001b[39;00m chunks]\n\u001b[1;32m     61\u001b[0m similarities \u001b[38;5;241m=\u001b[39m [chunk[\u001b[38;5;124m\"\u001b[39m\u001b[38;5;124mscore\u001b[39m\u001b[38;5;124m\"\u001b[39m] \u001b[38;5;28;01mfor\u001b[39;00m chunk \u001b[38;5;129;01min\u001b[39;00m chunks]\n\u001b[1;32m     63\u001b[0m results\u001b[38;5;241m.\u001b[39mappend({\n\u001b[1;32m     64\u001b[0m     \u001b[38;5;124m\"\u001b[39m\u001b[38;5;124mquestion_number\u001b[39m\u001b[38;5;124m\"\u001b[39m: idx,\n\u001b[1;32m     65\u001b[0m     \u001b[38;5;124m\"\u001b[39m\u001b[38;5;124mquestion\u001b[39m\u001b[38;5;124m\"\u001b[39m: question,\n\u001b[0;32m   (...)\u001b[0m\n\u001b[1;32m     69\u001b[0m     \u001b[38;5;124m\"\u001b[39m\u001b[38;5;124mavg_similarity\u001b[39m\u001b[38;5;124m\"\u001b[39m: \u001b[38;5;28msum\u001b[39m(similarities) \u001b[38;5;241m/\u001b[39m \u001b[38;5;28mlen\u001b[39m(similarities) \u001b[38;5;28;01mif\u001b[39;00m similarities \u001b[38;5;28;01melse\u001b[39;00m \u001b[38;5;241m0\u001b[39m\n\u001b[1;32m     70\u001b[0m })\n",
      "\u001b[0;31mTypeError\u001b[0m: string indices must be integers, not 'str'"
     ]
    }
   ],
   "source": [
    "df_results = get_top_chunks_per_paper(graph, df_MedQ.iloc[:4][\"Question\"].tolist())\n",
    "df_results.head()"
   ]
  }
 ],
 "metadata": {
  "kernelspec": {
   "display_name": ".venv",
   "language": "python",
   "name": "python3"
  },
  "language_info": {
   "codemirror_mode": {
    "name": "ipython",
    "version": 3
   },
   "file_extension": ".py",
   "mimetype": "text/x-python",
   "name": "python",
   "nbconvert_exporter": "python",
   "pygments_lexer": "ipython3",
   "version": "3.11.6"
  }
 },
 "nbformat": 4,
 "nbformat_minor": 2
}
