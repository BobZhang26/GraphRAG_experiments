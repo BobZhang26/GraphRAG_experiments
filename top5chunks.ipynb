{
 "cells": [
  {
   "cell_type": "markdown",
   "metadata": {},
   "source": [
    "# Get the Top 5 Chunks to Check Paper's Stance"
   ]
  },
  {
   "cell_type": "markdown",
   "metadata": {},
   "source": [
    "## Step 0: Environment Setup"
   ]
  },
  {
   "cell_type": "code",
   "execution_count": 1,
   "metadata": {},
   "outputs": [
    {
     "data": {
      "text/plain": [
       "True"
      ]
     },
     "execution_count": 1,
     "metadata": {},
     "output_type": "execute_result"
    }
   ],
   "source": [
    "from dotenv import load_dotenv # type: ignore\n",
    "import os\n",
    "from langchain_neo4j import Neo4jGraph # type: ignore\n",
    "from libs import create_vector_index\n",
    "import pandas as pd # type: ignore\n",
    "from conn import connect2Googlesheet\n",
    "from annolibs import get_all_chunks_per_paper, compare_embeddings\n",
    "from openai import OpenAI\n",
    "load_dotenv()"
   ]
  },
  {
   "cell_type": "code",
   "execution_count": 2,
   "metadata": {},
   "outputs": [
    {
     "name": "stdout",
     "output_type": "stream",
     "text": [
      "Connected to Neo4j database successfully.\n",
      "The 'entities' index already exists.\n"
     ]
    }
   ],
   "source": [
    "# Connect to Neo4j database\n",
    "try:\n",
    "    graph = Neo4jGraph(\n",
    "        url=os.getenv(\"NEO4J_URL\"),\n",
    "        username=os.getenv(\"NEO4J_USERNAME\"),\n",
    "        password=os.getenv(\"NEO4J_PASSWORD\")\n",
    "    )\n",
    "    print(\"Connected to Neo4j database successfully.\")\n",
    "except ValueError as e:\n",
    "    print(f\"Could not connect to Neo4j database: {e}\")\n",
    "\n",
    "# Check if the entities index exists\n",
    "index_name = \"entities\"\n",
    "query = \"SHOW INDEXES YIELD name, type WHERE type = 'VECTOR' AND name = $index_name\"\n",
    "\n",
    "result = graph.query(query, params={\"index_name\": index_name})\n",
    "if result:\n",
    "    print(\"The 'entities' index already exists.\")\n",
    "else:\n",
    "    create_vector_index(graph, \"entities\")"
   ]
  },
  {
   "cell_type": "markdown",
   "metadata": {},
   "source": [
    "## Step 1: Load Questions from Google Sheet"
   ]
  },
  {
   "cell_type": "code",
   "execution_count": 3,
   "metadata": {},
   "outputs": [
    {
     "data": {
      "text/html": [
       "<div>\n",
       "<style scoped>\n",
       "    .dataframe tbody tr th:only-of-type {\n",
       "        vertical-align: middle;\n",
       "    }\n",
       "\n",
       "    .dataframe tbody tr th {\n",
       "        vertical-align: top;\n",
       "    }\n",
       "\n",
       "    .dataframe thead th {\n",
       "        text-align: right;\n",
       "    }\n",
       "</style>\n",
       "<table border=\"1\" class=\"dataframe\">\n",
       "  <thead>\n",
       "    <tr style=\"text-align: right;\">\n",
       "      <th></th>\n",
       "      <th>condition</th>\n",
       "      <th>number</th>\n",
       "      <th>docs</th>\n",
       "      <th>Question</th>\n",
       "      <th>Mahmud's Note</th>\n",
       "      <th>status</th>\n",
       "      <th>comments</th>\n",
       "      <th></th>\n",
       "    </tr>\n",
       "  </thead>\n",
       "  <tbody>\n",
       "    <tr>\n",
       "      <th>0</th>\n",
       "      <td>ARDS</td>\n",
       "      <td>1</td>\n",
       "      <td>ACURASYS</td>\n",
       "      <td>Does early administration of neuromuscular blo...</td>\n",
       "      <td>Like</td>\n",
       "      <td></td>\n",
       "      <td></td>\n",
       "      <td></td>\n",
       "    </tr>\n",
       "    <tr>\n",
       "      <th>1</th>\n",
       "      <td>ARDS</td>\n",
       "      <td>2</td>\n",
       "      <td>ACURASYS</td>\n",
       "      <td>Do patients with severe ARDS being treated wit...</td>\n",
       "      <td>Replace</td>\n",
       "      <td>fixed</td>\n",
       "      <td></td>\n",
       "      <td></td>\n",
       "    </tr>\n",
       "    <tr>\n",
       "      <th>2</th>\n",
       "      <td>ARDS</td>\n",
       "      <td>3</td>\n",
       "      <td>ROSE</td>\n",
       "      <td>In patients with moderate to severe ARDS, does...</td>\n",
       "      <td>Maybe this question: In patients with moderate...</td>\n",
       "      <td>fixed</td>\n",
       "      <td></td>\n",
       "      <td></td>\n",
       "    </tr>\n",
       "    <tr>\n",
       "      <th>3</th>\n",
       "      <td>ARDS</td>\n",
       "      <td>4</td>\n",
       "      <td>ROSE</td>\n",
       "      <td>Do patients with moderate-to-severe ARDS have ...</td>\n",
       "      <td>Local question (not sure if this is the aim of...</td>\n",
       "      <td>fixed</td>\n",
       "      <td>Wrong concept since PEEP by itself is mandator...</td>\n",
       "      <td>Does the use of neuromuscular blockers in pati...</td>\n",
       "    </tr>\n",
       "    <tr>\n",
       "      <th>4</th>\n",
       "      <td>ARDS</td>\n",
       "      <td>5</td>\n",
       "      <td>FACTT</td>\n",
       "      <td>Among patients with ALI/ARDS, does a conservat...</td>\n",
       "      <td>Local question (not sure if this is the aim of...</td>\n",
       "      <td>fixed</td>\n",
       "      <td>Check if studies defined conservative by CVP &lt;...</td>\n",
       "      <td></td>\n",
       "    </tr>\n",
       "  </tbody>\n",
       "</table>\n",
       "</div>"
      ],
      "text/plain": [
       "  condition  number      docs  \\\n",
       "0      ARDS       1  ACURASYS   \n",
       "1      ARDS       2  ACURASYS   \n",
       "2      ARDS       3      ROSE   \n",
       "3      ARDS       4      ROSE   \n",
       "4      ARDS       5     FACTT   \n",
       "\n",
       "                                            Question  \\\n",
       "0  Does early administration of neuromuscular blo...   \n",
       "1  Do patients with severe ARDS being treated wit...   \n",
       "2  In patients with moderate to severe ARDS, does...   \n",
       "3  Do patients with moderate-to-severe ARDS have ...   \n",
       "4  Among patients with ALI/ARDS, does a conservat...   \n",
       "\n",
       "                                       Mahmud's Note status  \\\n",
       "0                                               Like          \n",
       "1                                            Replace  fixed   \n",
       "2  Maybe this question: In patients with moderate...  fixed   \n",
       "3  Local question (not sure if this is the aim of...  fixed   \n",
       "4  Local question (not sure if this is the aim of...  fixed   \n",
       "\n",
       "                                            comments  \\\n",
       "0                                                      \n",
       "1                                                      \n",
       "2                                                      \n",
       "3  Wrong concept since PEEP by itself is mandator...   \n",
       "4  Check if studies defined conservative by CVP <...   \n",
       "\n",
       "                                                      \n",
       "0                                                     \n",
       "1                                                     \n",
       "2                                                     \n",
       "3  Does the use of neuromuscular blockers in pati...  \n",
       "4                                                     "
      ]
     },
     "execution_count": 3,
     "metadata": {},
     "output_type": "execute_result"
    }
   ],
   "source": [
    "spreadsheet = connect2Googlesheet()\n",
    "\n",
    "# Select the worksheet: relevance\n",
    "worksheet = spreadsheet.get_worksheet(2)  \n",
    "\n",
    "# Get all records as a list of dictionaries\n",
    "data = worksheet.get_all_records()\n",
    "\n",
    "# Convert to Pandas DataFrame\n",
    "df_Paper = pd.DataFrame(data)\n",
    "df_Paper.head()"
   ]
  },
  {
   "cell_type": "markdown",
   "metadata": {},
   "source": [
    "## Step 3: Get the chunks from each paper"
   ]
  },
  {
   "cell_type": "code",
   "execution_count": 7,
   "metadata": {},
   "outputs": [
    {
     "name": "stdout",
     "output_type": "stream",
     "text": [
      "Found 27 papers related to Delirium:\n",
      "Number of unique paper names: 24\n",
      "Found 100 chunks in paper AID-ICU\n",
      "Found 100 chunks in paper MIND-USA\n",
      "Found 100 chunks in paper SPICE-III\n",
      "Found 100 chunks in paper SEDCOM\n",
      "Found 0 chunks in paper DPSMVAS\n",
      "Found 100 chunks in paper ETSDMV\n",
      "Found 98 chunks in paper SMDLTSWCI\n",
      "Found 100 chunks in paper EDvsLSMENDS\n",
      "Found 100 chunks in paper DDMLSMVICP\n",
      "Found 100 chunks in paper HDDSICU\n",
      "Found 100 chunks in paper ESDDVCIP\n",
      "Found 69 chunks in paper RDSCI\n",
      "Found 100 chunks in paper DIICU\n",
      "Found 100 chunks in paper RAEATICU\n",
      "Found 100 chunks in paper AMTD\n",
      "Found 100 chunks in paper AUDDICU\n",
      "Found 100 chunks in paper AUPTICUPP\n",
      "Found 100 chunks in paper RUSGATICUD\n",
      "Found 94 chunks in paper ATD\n",
      "Found 100 chunks in paper DPD\n",
      "Found 100 chunks in paper ND\n",
      "Found 59 chunks in paper PDHP\n",
      "Found 99 chunks in paper ASD\n",
      "Found 100 chunks in paper FDSD\n"
     ]
    }
   ],
   "source": [
    "# Filter papers with 'Delirium' in condition\n",
    "delirium_papers = df_Paper[df_Paper['condition'].str.contains('Delirium', case=False, na=False)]\n",
    "\n",
    "# Display the filtered papers\n",
    "print(f\"Found {len(delirium_papers)} papers related to Delirium:\")\n",
    "# display(delirium_papers)\n",
    "\n",
    "# Get unique paper names\n",
    "delirium_paper_names = delirium_papers['docs'].str.strip().unique()\n",
    "print(f\"Number of unique paper names: {len(delirium_paper_names)}\")\n",
    "delirium_papers_chunks = get_all_chunks_per_paper(graph, delirium_paper_names)"
   ]
  },
  {
   "cell_type": "code",
   "execution_count": 5,
   "metadata": {},
   "outputs": [
    {
     "name": "stdout",
     "output_type": "stream",
     "text": [
      "Missing papers:\n",
      "- DPSMVAS\n"
     ]
    }
   ],
   "source": [
    "# check if the expected number of papers match the actual number of papers\n",
    "# Get list of expected papers\n",
    "expected_papers = delirium_paper_names.tolist()\n",
    "\n",
    "# Get list of actual papers from chunks_of_paper directory\n",
    "actual_papers = [f.replace('chunks_of_', '').replace('.csv', '') \n",
    "                 for f in os.listdir('./chunks_of_paper') \n",
    "                 if f.endswith('.csv')]\n",
    "\n",
    "# Find missing papers\n",
    "missing_papers = set(expected_papers) - set(actual_papers)\n",
    "\n",
    "print(\"Missing papers:\")\n",
    "for paper in missing_papers:\n",
    "    print(f\"- {paper}\")"
   ]
  },
  {
   "cell_type": "markdown",
   "metadata": {},
   "source": [
    "## Step 4: Compare Question Embedding and Paper Chunk Embeddings"
   ]
  },
  {
   "cell_type": "code",
   "execution_count": 6,
   "metadata": {},
   "outputs": [
    {
     "name": "stdout",
     "output_type": "stream",
     "text": [
      "Question 36: is there a difference in outcomes in patients who receive dexmedetomidine than propofol among mechanically ventilated adults with sepsis?\n",
      "\n",
      "Paper 1: AID-ICU\n"
     ]
    },
    {
     "data": {
      "text/plain": [
       "'No, there is no mention of dexmedetomidine in the text chunks provided.'"
      ]
     },
     "metadata": {},
     "output_type": "display_data"
    },
    {
     "name": "stdout",
     "output_type": "stream",
     "text": [
      "\n",
      "Paper 2: MIND-USA\n"
     ]
    },
    {
     "data": {
      "text/plain": [
       "'No.'"
      ]
     },
     "metadata": {},
     "output_type": "display_data"
    },
    {
     "name": "stdout",
     "output_type": "stream",
     "text": [
      "\n",
      "Paper 3: SPICE-III\n"
     ]
    },
    {
     "data": {
      "text/plain": [
       "'Yes, the question is relevant as it pertains to comparing outcomes in patients receiving dexmedetomidine versus propofol among mechanically ventilated adults with sepsis.'"
      ]
     },
     "metadata": {},
     "output_type": "display_data"
    },
    {
     "name": "stdout",
     "output_type": "stream",
     "text": [
      "\n",
      "Paper 4: SEDCOM\n"
     ]
    },
    {
     "data": {
      "text/plain": [
       "'Yes, there is relevance to the question in the text chunks provided, as they discuss a study comparing dexmedetomidine to midazolam for sedation of critically ill patients.'"
      ]
     },
     "metadata": {},
     "output_type": "display_data"
    },
    {
     "name": "stdout",
     "output_type": "stream",
     "text": [
      "\n",
      "Paper 5: DPSMVAS\n",
      "No chunk data found for paper: DPSMVAS\n"
     ]
    },
    {
     "data": {
      "text/plain": [
       "'No, the text chunks do not address outcomes in patients who receive dexmedetomidine versus propofol among mechanically ventilated adults with sepsis.'"
      ]
     },
     "metadata": {},
     "output_type": "display_data"
    },
    {
     "name": "stdout",
     "output_type": "stream",
     "text": [
      "\n",
      "Paper 6: ETSDMV\n"
     ]
    },
    {
     "data": {
      "text/plain": [
       "'Yes, the question of whether there is a difference in outcomes between dexmedetomidine and propofol in mechanically ventilated adults with sepsis is relevant to the text chunks provided.'"
      ]
     },
     "metadata": {},
     "output_type": "display_data"
    },
    {
     "name": "stdout",
     "output_type": "stream",
     "text": [
      "\n",
      "Paper 7: SMDLTSWCI\n"
     ]
    },
    {
     "data": {
      "text/plain": [
       "'Yes, the question is relevant as it pertains to comparing outcomes of patients who receive dexmedetomidine versus propofol among mechanically ventilated adults with sepsis.'"
      ]
     },
     "metadata": {},
     "output_type": "display_data"
    },
    {
     "name": "stdout",
     "output_type": "stream",
     "text": [
      "\n",
      "Paper 8: EDvsLSMENDS\n"
     ]
    },
    {
     "data": {
      "text/plain": [
       "'Yes, the question is relevant to the text chunks as they discuss the outcomes of patients with sepsis who receive dexmedetomidine compared to propofol.'"
      ]
     },
     "metadata": {},
     "output_type": "display_data"
    },
    {
     "name": "stdout",
     "output_type": "stream",
     "text": [
      "\n",
      "Paper 9: DDMLSMVICP\n"
     ]
    },
    {
     "data": {
      "text/plain": [
       "'Yes, it is relevant because the text includes information about the SEDCOM trial, which compared dexmedetomidine with other sedatives.'"
      ]
     },
     "metadata": {},
     "output_type": "display_data"
    },
    {
     "name": "stdout",
     "output_type": "stream",
     "text": [
      "\n",
      "Paper 10: HDDSICU\n"
     ]
    },
    {
     "data": {
      "text/plain": [
       "'Yes, the question is relevant to the text chunks as they discuss the use of dexmedetomidine in mechanically ventilated patients and the outcomes of different doses on sedation and other parameters.'"
      ]
     },
     "metadata": {},
     "output_type": "display_data"
    },
    {
     "name": "stdout",
     "output_type": "stream",
     "text": [
      "\n",
      "Paper 11: ESDDVCIP\n"
     ]
    },
    {
     "data": {
      "text/plain": [
       "'Yes, the question is relevant as the text chunks discuss the outcomes of using dexmedetomidine in mechanically ventilated adults, including differences in mortality rates based on age and operative status.'"
      ]
     },
     "metadata": {},
     "output_type": "display_data"
    },
    {
     "name": "stdout",
     "output_type": "stream",
     "text": [
      "\n",
      "Paper 12: RDSCI\n"
     ]
    },
    {
     "data": {
      "text/plain": [
       "'Yes, the question is relevant to the text chunks as they mention studies comparing outcomes of patients with sepsis who receive dexmedetomidine versus propofol.'"
      ]
     },
     "metadata": {},
     "output_type": "display_data"
    },
    {
     "name": "stdout",
     "output_type": "stream",
     "text": [
      "\n",
      "Paper 13: DIICU\n"
     ]
    },
    {
     "data": {
      "text/plain": [
       "'Yes, it does have relevance as it compares outcomes in patients sedated with dexmedetomidine to those sedated with propofol.'"
      ]
     },
     "metadata": {},
     "output_type": "display_data"
    },
    {
     "name": "stdout",
     "output_type": "stream",
     "text": [
      "\n",
      "Paper 14: RAEATICU\n"
     ]
    },
    {
     "data": {
      "text/plain": [
       "'Yes, the question is relevant as it involves comparing outcomes in patients who receive dexmedetomidine versus propofol among mechanically ventilated adults with sepsis.'"
      ]
     },
     "metadata": {},
     "output_type": "display_data"
    },
    {
     "name": "stdout",
     "output_type": "stream",
     "text": [
      "\n",
      "Paper 15: AMTD\n"
     ]
    },
    {
     "data": {
      "text/plain": [
       "'No.'"
      ]
     },
     "metadata": {},
     "output_type": "display_data"
    },
    {
     "name": "stdout",
     "output_type": "stream",
     "text": [
      "\n",
      "Paper 16: AUDDICU\n"
     ]
    },
    {
     "data": {
      "text/plain": [
       "'No.'"
      ]
     },
     "metadata": {},
     "output_type": "display_data"
    },
    {
     "name": "stdout",
     "output_type": "stream",
     "text": [
      "\n",
      "Paper 17: AUPTICUPP\n"
     ]
    },
    {
     "data": {
      "text/plain": [
       "'No.'"
      ]
     },
     "metadata": {},
     "output_type": "display_data"
    },
    {
     "name": "stdout",
     "output_type": "stream",
     "text": [
      "\n",
      "Paper 18: RUSGATICUD\n"
     ]
    },
    {
     "data": {
      "text/plain": [
       "'No, the question is not relevant to the text chunks provided.'"
      ]
     },
     "metadata": {},
     "output_type": "display_data"
    },
    {
     "name": "stdout",
     "output_type": "stream",
     "text": [
      "\n",
      "Paper 19: ATD\n"
     ]
    },
    {
     "data": {
      "text/plain": [
       "'No, there is no relevance to the question in the provided text chunks.'"
      ]
     },
     "metadata": {},
     "output_type": "display_data"
    },
    {
     "name": "stdout",
     "output_type": "stream",
     "text": [
      "\n",
      "Paper 20: DPD\n"
     ]
    },
    {
     "data": {
      "text/plain": [
       "'No, the question is about outcomes in patients receiving different medications for sepsis, while the text chunks are about delirium and catatonia in hospitalized patients.'"
      ]
     },
     "metadata": {},
     "output_type": "display_data"
    },
    {
     "name": "stdout",
     "output_type": "stream",
     "text": [
      "\n",
      "Paper 21: ND\n"
     ]
    },
    {
     "data": {
      "text/plain": [
       "'No.'"
      ]
     },
     "metadata": {},
     "output_type": "display_data"
    },
    {
     "name": "stdout",
     "output_type": "stream",
     "text": [
      "\n",
      "Paper 22: PDHP\n"
     ]
    },
    {
     "data": {
      "text/plain": [
       "'No, the question is not relevant to the text chunks provided.'"
      ]
     },
     "metadata": {},
     "output_type": "display_data"
    },
    {
     "name": "stdout",
     "output_type": "stream",
     "text": [
      "\n",
      "Paper 23: ASD\n"
     ]
    },
    {
     "data": {
      "text/plain": [
       "'No, the question is not relevant to the text chunks provided.'"
      ]
     },
     "metadata": {},
     "output_type": "display_data"
    },
    {
     "name": "stdout",
     "output_type": "stream",
     "text": [
      "\n",
      "Paper 24: FDSD\n"
     ]
    },
    {
     "data": {
      "text/plain": [
       "'Yes, the question is relevant as it involves comparing outcomes in patients who receive different medications (dexmedetomidine vs. propofol) among mechanically ventilated adults with sepsis, which is related to the text discussing delirium in adult in-patients.'"
      ]
     },
     "metadata": {},
     "output_type": "display_data"
    }
   ],
   "source": [
    "api_key = os.getenv(\"OPENAI_API_KEY\")\n",
    "if not api_key:\n",
    "    raise ValueError(\"OPENAI_API_KEY not found in .env file\")\n",
    "\n",
    "client = OpenAI(api_key=api_key)\n",
    "\n",
    "pd.set_option('display.max_colwidth', None)\n",
    "pd.set_option('display.max_rows', None)\n",
    "pd.set_option('display.max_columns', None)\n",
    "\n",
    "idx = 35 # index of the question. Change this to test different questions\n",
    "test_question = df_Paper['Question'].iloc[idx]\n",
    "print(f\"Question {idx+1}: {test_question}\")\n",
    "\n",
    "for i, paper in enumerate(delirium_paper_names):\n",
    "    print(f\"\\nPaper {i+1}: {paper}\")\n",
    "    paper_name = str(paper)  # without .pdf extension\n",
    "    top5chunks = compare_embeddings(\n",
    "        question=test_question,\n",
    "        paper=paper_name,\n",
    "        top_k=5\n",
    "    )\n",
    "    \n",
    "    prompt = f\"Does the following question have any relevance to the text chunks below? Keep your answer short\\n\\nQuestion: {test_question}\\n\\nText Chunks:\\n\" + \\\n",
    "         '\\n'.join([f\"{i+1}. {text}\" for i, text in enumerate(top5chunks['chunk_text'])])\n",
    "    \n",
    "    try:\n",
    "        response = client.chat.completions.create(\n",
    "            model=\"gpt-3.5-turbo\",\n",
    "            messages=[{\"role\": \"user\", \"content\": prompt}],\n",
    "            max_tokens=200\n",
    "        )\n",
    "    except Exception as e:\n",
    "        print(f\"Error: {e}\")\n",
    "        continue\n",
    "\n",
    "    output = response.choices[0].message.content.strip()\n",
    "    display(output)"
   ]
  }
 ],
 "metadata": {
  "kernelspec": {
   "display_name": ".venv",
   "language": "python",
   "name": "python3"
  },
  "language_info": {
   "codemirror_mode": {
    "name": "ipython",
    "version": 3
   },
   "file_extension": ".py",
   "mimetype": "text/x-python",
   "name": "python",
   "nbconvert_exporter": "python",
   "pygments_lexer": "ipython3",
   "version": "3.11.6"
  }
 },
 "nbformat": 4,
 "nbformat_minor": 2
}
