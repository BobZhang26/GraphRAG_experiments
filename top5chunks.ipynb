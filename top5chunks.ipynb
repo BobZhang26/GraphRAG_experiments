{
 "cells": [
  {
   "cell_type": "markdown",
   "metadata": {},
   "source": [
    "# Get the Top 5 Chunks to Check Paper's Stance"
   ]
  },
  {
   "cell_type": "markdown",
   "metadata": {},
   "source": [
    "## Step 0: Environment Setup"
   ]
  },
  {
   "cell_type": "code",
   "execution_count": 7,
   "metadata": {},
   "outputs": [
    {
     "data": {
      "text/plain": [
       "True"
      ]
     },
     "execution_count": 7,
     "metadata": {},
     "output_type": "execute_result"
    }
   ],
   "source": [
    "from dotenv import load_dotenv # type: ignore\n",
    "import os\n",
    "from langchain_neo4j import Neo4jGraph # type: ignore\n",
    "from libs import create_vector_index\n",
    "import pandas as pd # type: ignore\n",
    "from conn import connect2Googlesheet\n",
    "from annolibs import get_all_chunks_per_paper, compare_embeddings\n",
    "from openai import OpenAI\n",
    "load_dotenv()"
   ]
  },
  {
   "cell_type": "code",
   "execution_count": 8,
   "metadata": {},
   "outputs": [
    {
     "name": "stdout",
     "output_type": "stream",
     "text": [
      "Connected to Neo4j database successfully.\n",
      "The 'entities' index already exists.\n"
     ]
    }
   ],
   "source": [
    "# Connect to Neo4j database\n",
    "try:\n",
    "    graph = Neo4jGraph(\n",
    "        url=os.getenv(\"NEO4J_URL\"),\n",
    "        username=os.getenv(\"NEO4J_USERNAME\"),\n",
    "        password=os.getenv(\"NEO4J_PASSWORD\")\n",
    "    )\n",
    "    print(\"Connected to Neo4j database successfully.\")\n",
    "except ValueError as e:\n",
    "    print(f\"Could not connect to Neo4j database: {e}\")\n",
    "\n",
    "# Check if the entities index exists\n",
    "index_name = \"entities\"\n",
    "query = \"SHOW INDEXES YIELD name, type WHERE type = 'VECTOR' AND name = $index_name\"\n",
    "\n",
    "result = graph.query(query, params={\"index_name\": index_name})\n",
    "if result:\n",
    "    print(\"The 'entities' index already exists.\")\n",
    "else:\n",
    "    create_vector_index(graph, \"entities\")"
   ]
  },
  {
   "cell_type": "markdown",
   "metadata": {},
   "source": [
    "## Step 1: Load Questions from Google Sheet"
   ]
  },
  {
   "cell_type": "code",
   "execution_count": 9,
   "metadata": {},
   "outputs": [
    {
     "data": {
      "text/html": [
       "<div>\n",
       "<style scoped>\n",
       "    .dataframe tbody tr th:only-of-type {\n",
       "        vertical-align: middle;\n",
       "    }\n",
       "\n",
       "    .dataframe tbody tr th {\n",
       "        vertical-align: top;\n",
       "    }\n",
       "\n",
       "    .dataframe thead th {\n",
       "        text-align: right;\n",
       "    }\n",
       "</style>\n",
       "<table border=\"1\" class=\"dataframe\">\n",
       "  <thead>\n",
       "    <tr style=\"text-align: right;\">\n",
       "      <th></th>\n",
       "      <th>condition</th>\n",
       "      <th>number</th>\n",
       "      <th>docs</th>\n",
       "      <th>Question</th>\n",
       "      <th>Mahmud's Note</th>\n",
       "      <th>status</th>\n",
       "      <th>comments</th>\n",
       "      <th></th>\n",
       "    </tr>\n",
       "  </thead>\n",
       "  <tbody>\n",
       "    <tr>\n",
       "      <th>0</th>\n",
       "      <td>ARDS</td>\n",
       "      <td>1</td>\n",
       "      <td>ACURASYS</td>\n",
       "      <td>Does early administration of neuromuscular blocking agents increases the ventilator free days?</td>\n",
       "      <td>Like</td>\n",
       "      <td></td>\n",
       "      <td></td>\n",
       "      <td></td>\n",
       "    </tr>\n",
       "    <tr>\n",
       "      <th>1</th>\n",
       "      <td>ARDS</td>\n",
       "      <td>2</td>\n",
       "      <td>ACURASYS</td>\n",
       "      <td>Do patients with severe ARDS being treated with neuromuscular blocking agents have increased muscle weakness?</td>\n",
       "      <td>Replace</td>\n",
       "      <td>fixed</td>\n",
       "      <td></td>\n",
       "      <td></td>\n",
       "    </tr>\n",
       "    <tr>\n",
       "      <th>2</th>\n",
       "      <td>ARDS</td>\n",
       "      <td>3</td>\n",
       "      <td>ROSE</td>\n",
       "      <td>In patients with moderate to severe ARDS, does early use of continuous neuromuscular blockade improve mortality?</td>\n",
       "      <td>Maybe this question: In patients with moderate to severe ARDS, does early use of continuous neuromuscular blockade improve mortality?</td>\n",
       "      <td>fixed</td>\n",
       "      <td></td>\n",
       "      <td></td>\n",
       "    </tr>\n",
       "    <tr>\n",
       "      <th>3</th>\n",
       "      <td>ARDS</td>\n",
       "      <td>4</td>\n",
       "      <td>ROSE</td>\n",
       "      <td>Do patients with moderate-to-severe ARDS have a significance difference in mortality rate beween patients who recieved an early and continous cisatracurium infusion than those with usual care approach with lighter sedation targets?</td>\n",
       "      <td>Local question (not sure if this is the aim of your project) It will be nice as second step after proving the general summarization is working but focusing in general summarization would be priority in my opinion so you can have meanigful tool.</td>\n",
       "      <td>fixed</td>\n",
       "      <td>Wrong concept since PEEP by itself is mandatory component in ventilator.</td>\n",
       "      <td>Does the use of neuromuscular blockers in patients with moderate-to-severe ARDS impact cardiovascular stability, particularly in terms of vasopressor requirements and hemodynamic effects, compared to sedation strategy without routine neuromuscular blockade?</td>\n",
       "    </tr>\n",
       "    <tr>\n",
       "      <th>4</th>\n",
       "      <td>ARDS</td>\n",
       "      <td>5</td>\n",
       "      <td>FACTT</td>\n",
       "      <td>Among patients with ALI/ARDS, does a conservative fluid management strategy improves lung function and decrease ventilator days compared to liberal strategy?</td>\n",
       "      <td>Local question (not sure if this is the aim of your project) consider (WikiJournal): In patients with ALI/ARDS that are intubated and receiving positive pressure ventilation, how does the conservative compare to the liberal fluid management strategy in reducing mortality?</td>\n",
       "      <td>fixed</td>\n",
       "      <td>Check if studies defined conservative by CVP &lt; 4  or elese just dont mention how much the CVP (i prefer the last approach)</td>\n",
       "      <td></td>\n",
       "    </tr>\n",
       "  </tbody>\n",
       "</table>\n",
       "</div>"
      ],
      "text/plain": [
       "  condition  number      docs  \\\n",
       "0      ARDS       1  ACURASYS   \n",
       "1      ARDS       2  ACURASYS   \n",
       "2      ARDS       3      ROSE   \n",
       "3      ARDS       4      ROSE   \n",
       "4      ARDS       5     FACTT   \n",
       "\n",
       "                                                                                                                                                                                                                                  Question  \\\n",
       "0                                                                                                                                           Does early administration of neuromuscular blocking agents increases the ventilator free days?   \n",
       "1                                                                                                                            Do patients with severe ARDS being treated with neuromuscular blocking agents have increased muscle weakness?   \n",
       "2                                                                                                                         In patients with moderate to severe ARDS, does early use of continuous neuromuscular blockade improve mortality?   \n",
       "3  Do patients with moderate-to-severe ARDS have a significance difference in mortality rate beween patients who recieved an early and continous cisatracurium infusion than those with usual care approach with lighter sedation targets?   \n",
       "4                                                                            Among patients with ALI/ARDS, does a conservative fluid management strategy improves lung function and decrease ventilator days compared to liberal strategy?   \n",
       "\n",
       "                                                                                                                                                                                                                                                                       Mahmud's Note  \\\n",
       "0                                                                                                                                                                                                                                                                               Like   \n",
       "1                                                                                                                                                                                                                                                                            Replace   \n",
       "2                                                                                                                                              Maybe this question: In patients with moderate to severe ARDS, does early use of continuous neuromuscular blockade improve mortality?   \n",
       "3                               Local question (not sure if this is the aim of your project) It will be nice as second step after proving the general summarization is working but focusing in general summarization would be priority in my opinion so you can have meanigful tool.   \n",
       "4  Local question (not sure if this is the aim of your project) consider (WikiJournal): In patients with ALI/ARDS that are intubated and receiving positive pressure ventilation, how does the conservative compare to the liberal fluid management strategy in reducing mortality?    \n",
       "\n",
       "  status  \\\n",
       "0          \n",
       "1  fixed   \n",
       "2  fixed   \n",
       "3  fixed   \n",
       "4  fixed   \n",
       "\n",
       "                                                                                                                     comments  \\\n",
       "0                                                                                                                               \n",
       "1                                                                                                                               \n",
       "2                                                                                                                               \n",
       "3                                                   Wrong concept since PEEP by itself is mandatory component in ventilator.    \n",
       "4  Check if studies defined conservative by CVP < 4  or elese just dont mention how much the CVP (i prefer the last approach)   \n",
       "\n",
       "                                                                                                                                                                                                                                                                      \n",
       "0                                                                                                                                                                                                                                                                     \n",
       "1                                                                                                                                                                                                                                                                     \n",
       "2                                                                                                                                                                                                                                                                     \n",
       "3  Does the use of neuromuscular blockers in patients with moderate-to-severe ARDS impact cardiovascular stability, particularly in terms of vasopressor requirements and hemodynamic effects, compared to sedation strategy without routine neuromuscular blockade?  \n",
       "4                                                                                                                                                                                                                                                                     "
      ]
     },
     "execution_count": 9,
     "metadata": {},
     "output_type": "execute_result"
    }
   ],
   "source": [
    "spreadsheet = connect2Googlesheet()\n",
    "\n",
    "# Select the worksheet: relevance\n",
    "worksheet = spreadsheet.get_worksheet(2)  \n",
    "\n",
    "# Get all records as a list of dictionaries\n",
    "data = worksheet.get_all_records()\n",
    "\n",
    "# Convert to Pandas DataFrame\n",
    "df_Paper = pd.DataFrame(data)\n",
    "df_Paper.head()"
   ]
  },
  {
   "cell_type": "markdown",
   "metadata": {},
   "source": [
    "## Step 3: Get the Chunks from Each Paper"
   ]
  },
  {
   "cell_type": "code",
   "execution_count": 10,
   "metadata": {},
   "outputs": [
    {
     "name": "stdout",
     "output_type": "stream",
     "text": [
      "Found 37 papers related to ARDS:\n",
      "Number of unique paper names: 33\n",
      "Found 100 chunks in paper ACURASYS\n",
      "Found 99 chunks in paper ROSE\n",
      "Found 100 chunks in paper FACTT\n",
      "Found 100 chunks in paper ARDSNet\n",
      "Found 100 chunks in paper PROSEVA\n",
      "Found 100 chunks in paper OSCILLATE\n",
      "Found 100 chunks in paper ESCPARDS\n",
      "Found 100 chunks in paper LCOTARDS\n",
      "Found 100 chunks in paper ETSDMV\n",
      "Found 98 chunks in paper SMDLTSWCI\n",
      "Found 100 chunks in paper PESDCOMV\n",
      "Found 100 chunks in paper LSPA\n",
      "Found 100 chunks in paper NBSARDS\n",
      "Found 100 chunks in paper TOF-ARDS\n",
      "Found 100 chunks in paper EDPMARDSLPMV\n",
      "Found 100 chunks in paper ARDSSRDRFMS\n",
      "Found 100 chunks in paper FMWSCPARDS\n",
      "Found 0 chunks in paper PAC-in-FACTT\n",
      "Found 52 chunks in paper DIHRFARDSNET\n",
      "Found 100 chunks in paper DLASPEEPvsARDSNET\n",
      "Found 100 chunks in paper BMIMSARDS\n",
      "Found 100 chunks in paper PPATDSHMA\n",
      "Found 100 chunks in paper CEIIUPPSARDS\n",
      "Found 100 chunks in paper PVOEMVRARDS\n",
      "Found 100 chunks in paper CHEST\n",
      "Found 100 chunks in paper ENB\n",
      "Found 100 chunks in paper ESCNBC\n",
      "Found 0 chunks in paper CCCARDS\n",
      "Found 72 chunks in paper RARDS\n",
      "Found 100 chunks in paper APV\n",
      "Found 55 chunks in paper HARDST\n",
      "Found 100 chunks in paper DTNP\n",
      "Found 100 chunks in paper PTARDS\n"
     ]
    }
   ],
   "source": [
    "# Filter papers with 'ARDS' in condition\n",
    "ARDS_papers = df_Paper[df_Paper['condition'].str.contains('ARDS', case=False, na=False)]\n",
    "\n",
    "# Display the filtered papers\n",
    "print(f\"Found {len(ARDS_papers)} papers related to ARDS:\")\n",
    "\n",
    "\n",
    "# Get unique paper names\n",
    "ARDS_paper_names = ARDS_papers['docs'].str.strip().unique()\n",
    "print(f\"Number of unique paper names: {len(ARDS_paper_names)}\")\n",
    "ARDS_papers_chunks = get_all_chunks_per_paper(graph, ARDS_paper_names)"
   ]
  },
  {
   "cell_type": "code",
   "execution_count": 11,
   "metadata": {},
   "outputs": [
    {
     "name": "stdout",
     "output_type": "stream",
     "text": [
      "Missing papers:\n",
      "- CCCARDS\n",
      "- PAC-in-FACTT\n"
     ]
    }
   ],
   "source": [
    "# check if the expected number of papers match the actual number of papers\n",
    "# Get list of expected papers\n",
    "expected_papers = ARDS_paper_names.tolist()\n",
    "\n",
    "# Get list of actual papers from chunks_of_paper directory\n",
    "actual_papers = [f.replace('chunks_of_', '').replace('.csv', '') \n",
    "                 for f in os.listdir('./chunks_of_paper') \n",
    "                 if f.endswith('.csv')]\n",
    "\n",
    "# Find missing papers\n",
    "missing_papers = set(expected_papers) - set(actual_papers)\n",
    "\n",
    "print(\"Missing papers:\")\n",
    "for paper in missing_papers:\n",
    "    print(f\"- {paper}\")"
   ]
  },
  {
   "cell_type": "markdown",
   "metadata": {},
   "source": [
    "## Step 4: Compare Question Embedding and Paper Chunk Embeddings"
   ]
  },
  {
   "cell_type": "code",
   "execution_count": 23,
   "metadata": {},
   "outputs": [
    {
     "name": "stdout",
     "output_type": "stream",
     "text": [
      "Question 1: Does early administration of neuromuscular blocking agents increases the ventilator free days?\n",
      "\n",
      "Paper 1: ACURASYS\n"
     ]
    },
    {
     "data": {
      "text/plain": [
       "'Yes, the question is relevant as the text chunks discuss the effects of early administration of neuromuscular blocking agents on patients with ARDS, including the impact on ventilator use.'"
      ]
     },
     "metadata": {},
     "output_type": "display_data"
    },
    {
     "data": {
      "text/plain": [
       "'The Avg similarity of the top5chunks is:'"
      ]
     },
     "metadata": {},
     "output_type": "display_data"
    },
    {
     "data": {
      "text/plain": [
       "0.6337400000000001"
      ]
     },
     "metadata": {},
     "output_type": "display_data"
    },
    {
     "data": {
      "text/html": [
       "<div>\n",
       "<style scoped>\n",
       "    .dataframe tbody tr th:only-of-type {\n",
       "        vertical-align: middle;\n",
       "    }\n",
       "\n",
       "    .dataframe tbody tr th {\n",
       "        vertical-align: top;\n",
       "    }\n",
       "\n",
       "    .dataframe thead th {\n",
       "        text-align: right;\n",
       "    }\n",
       "</style>\n",
       "<table border=\"1\" class=\"dataframe\">\n",
       "  <thead>\n",
       "    <tr style=\"text-align: right;\">\n",
       "      <th></th>\n",
       "      <th>paper_name</th>\n",
       "      <th>position</th>\n",
       "      <th>chunk_text</th>\n",
       "      <th>similarity_score</th>\n",
       "    </tr>\n",
       "  </thead>\n",
       "  <tbody>\n",
       "    <tr>\n",
       "      <th>63</th>\n",
       "      <td>ACURASYS.pdf</td>\n",
       "      <td>64</td>\n",
       "      <td>Neuromuscular Blocking Agents in ARDS n engl j med 363;12  nejm.org  september 16, 2010 1111 without the aid of a ventilator, for a period of at  least 48 hours for weaning from the ventilator to be  considered successful. The number of ventilator- free days was considered to be zero for patients  who were weaned from mechanical ventilation but  who died before day 28 or</td>\n",
       "      <td>0.7262</td>\n",
       "    </tr>\n",
       "    <tr>\n",
       "      <th>34</th>\n",
       "      <td>ACURASYS.pdf</td>\n",
       "      <td>35</td>\n",
       "      <td>Neuromuscular Blocking Agents in ARDS n engl j med 363;12  nejm.org  september 16, 2010 1109 sure were adjusted as in the Prospective, Random- ized, Multi-Center Trial of 12 ml/kg Tidal Volume  Positive Pressure Ventilation for Treatment of  Acute Lung Injury and Acute Respiratory Distress  Syndrome (ARMA).14 An open-label, rapid, intravenous injection</td>\n",
       "      <td>0.6263</td>\n",
       "    </tr>\n",
       "    <tr>\n",
       "      <th>10</th>\n",
       "      <td>ACURASYS.pdf</td>\n",
       "      <td>11</td>\n",
       "      <td>mechanical ventilation for the acute respiratory distress syn- drome (ARDS), neuromuscular blocking agents may improve oxygenation and de- crease ventilator-induced lung injury but may also cause muscle weakness. We evalu- ated clinical outcomes after 2 days of therapy with neuromuscular blocking agents in  patients with early, severe ARDS. Methods In this multicenter, double-blind trial, 340 patients presenting to the intensive care  unit (ICU) with an onset</td>\n",
       "      <td>0.6136</td>\n",
       "    </tr>\n",
       "    <tr>\n",
       "      <th>22</th>\n",
       "      <td>ACURASYS.pdf</td>\n",
       "      <td>23</td>\n",
       "      <td>did not receive a blocking agent;  P = 0.06). However, this study was not designed or  powered to evaluate mortality. Thus, the benefits  and risks of adjunctive therapy with neuromuscu- lar blocking agents in patients with ARDS who  were receiving lung-protective mechanical venti- lation14 require further evaluation. We conducted a multicenter, randomized, pla- cebo-controlled, double-blind trial to determine</td>\n",
       "      <td>0.6120</td>\n",
       "    </tr>\n",
       "    <tr>\n",
       "      <th>16</th>\n",
       "      <td>ACURASYS.pdf</td>\n",
       "      <td>17</td>\n",
       "      <td>�= 0.05). The rate of ICU-acquired  paresis did not differ significantly between the two groups. Conclusions In patients with severe ARDS, early administration of a neuromuscular blocking  agent improved the adjusted 90-day survival and increased the time off the ventilator  without increasing muscle weakness. (Funded by Assistance Publique–Hôpitaux de  Marseille and the Programme Hospitalier de Recherche Clinique Rég</td>\n",
       "      <td>0.5906</td>\n",
       "    </tr>\n",
       "  </tbody>\n",
       "</table>\n",
       "</div>"
      ],
      "text/plain": [
       "      paper_name  position  \\\n",
       "63  ACURASYS.pdf        64   \n",
       "34  ACURASYS.pdf        35   \n",
       "10  ACURASYS.pdf        11   \n",
       "22  ACURASYS.pdf        23   \n",
       "16  ACURASYS.pdf        17   \n",
       "\n",
       "                                                                                                                                                                                                                                                                                                                                                                                                                                                                          chunk_text  \\\n",
       "63                                                                                             Neuromuscular Blocking Agents in ARDS n engl j med 363;12  nejm.org  september 16, 2010 1111 without the aid of a ventilator, for a period of at  least 48 hours for weaning from the ventilator to be  considered successful. The number of ventilator- free days was considered to be zero for patients  who were weaned from mechanical ventilation but  who died before day 28 or   \n",
       "34                                                                                                                Neuromuscular Blocking Agents in ARDS n engl j med 363;12  nejm.org  september 16, 2010 1109 sure were adjusted as in the Prospective, Random- ized, Multi-Center Trial of 12 ml/kg Tidal Volume  Positive Pressure Ventilation for Treatment of  Acute Lung Injury and Acute Respiratory Distress  Syndrome (ARMA).14 An open-label, rapid, intravenous injection   \n",
       "10   mechanical ventilation for the acute respiratory distress syn- drome (ARDS), neuromuscular blocking agents may improve oxygenation and de- crease ventilator-induced lung injury but may also cause muscle weakness. We evalu- ated clinical outcomes after 2 days of therapy with neuromuscular blocking agents in  patients with early, severe ARDS. Methods In this multicenter, double-blind trial, 340 patients presenting to the intensive care  unit (ICU) with an onset   \n",
       "22                                                     did not receive a blocking agent;  P = 0.06). However, this study was not designed or  powered to evaluate mortality. Thus, the benefits  and risks of adjunctive therapy with neuromuscu- lar blocking agents in patients with ARDS who  were receiving lung-protective mechanical venti- lation14 require further evaluation. We conducted a multicenter, randomized, pla- cebo-controlled, double-blind trial to determine   \n",
       "16                                             �= 0.05). The rate of ICU-acquired  paresis did not differ significantly between the two groups. Conclusions In patients with severe ARDS, early administration of a neuromuscular blocking  agent improved the adjusted 90-day survival and increased the time off the ventilator  without increasing muscle weakness. (Funded by Assistance Publique–Hôpitaux de  Marseille and the Programme Hospitalier de Recherche Clinique Rég   \n",
       "\n",
       "    similarity_score  \n",
       "63            0.7262  \n",
       "34            0.6263  \n",
       "10            0.6136  \n",
       "22            0.6120  \n",
       "16            0.5906  "
      ]
     },
     "metadata": {},
     "output_type": "display_data"
    },
    {
     "name": "stdout",
     "output_type": "stream",
     "text": [
      "\n",
      "Paper 2: ROSE\n"
     ]
    },
    {
     "data": {
      "text/plain": [
       "'Yes, the question is relevant as it pertains to the impact of early administration of neuromuscular blocking agents on ventilator free days in patients with ARDS.'"
      ]
     },
     "metadata": {},
     "output_type": "display_data"
    },
    {
     "data": {
      "text/plain": [
       "'The Avg similarity of the top5chunks is:'"
      ]
     },
     "metadata": {},
     "output_type": "display_data"
    },
    {
     "data": {
      "text/plain": [
       "0.5403999999999999"
      ]
     },
     "metadata": {},
     "output_type": "display_data"
    },
    {
     "data": {
      "text/html": [
       "<div>\n",
       "<style scoped>\n",
       "    .dataframe tbody tr th:only-of-type {\n",
       "        vertical-align: middle;\n",
       "    }\n",
       "\n",
       "    .dataframe tbody tr th {\n",
       "        vertical-align: top;\n",
       "    }\n",
       "\n",
       "    .dataframe thead th {\n",
       "        text-align: right;\n",
       "    }\n",
       "</style>\n",
       "<table border=\"1\" class=\"dataframe\">\n",
       "  <thead>\n",
       "    <tr style=\"text-align: right;\">\n",
       "      <th></th>\n",
       "      <th>paper_name</th>\n",
       "      <th>position</th>\n",
       "      <th>chunk_text</th>\n",
       "      <th>similarity_score</th>\n",
       "    </tr>\n",
       "  </thead>\n",
       "  <tbody>\n",
       "    <tr>\n",
       "      <th>16</th>\n",
       "      <td>ROSE.pdf</td>\n",
       "      <td>17</td>\n",
       "      <td>veolar fluid; patients with ARDS could benefit  from these outcomes.2 However, prolonged ad- ministration of neuromuscular blocking agents is  associated with subsequent neuromuscular weak- ness.3,4 The largest multicenter trial to date (the  ARDS et Curarisation Systematique [ACURASYS]  trial)5 was conducted a decade ago, and ICU  practices have changed since then. The investi- gators of that</td>\n",
       "      <td>0.5785</td>\n",
       "    </tr>\n",
       "    <tr>\n",
       "      <th>80</th>\n",
       "      <td>ROSE.pdf</td>\n",
       "      <td>82</td>\n",
       "      <td>of neuromuscu- lar blocking agents are provided in Table S3 in  the Supplementary Appendix. Patients in the  intervention group were under deeper sedation  than patients in the control group both during  the 48-hour intervention period and on the third  trial day (Fig. 2). During the first 24 hours, pa- tients in the intervention group had lower PEEP  requirements than patients in the control group  (between-group difference, −0.9 cm of</td>\n",
       "      <td>0.5517</td>\n",
       "    </tr>\n",
       "    <tr>\n",
       "      <th>5</th>\n",
       "      <td>ROSE.pdf</td>\n",
       "      <td>6</td>\n",
       "      <td>Treatment of  Acute Lung Injury (PETAL) network is  provided in the Supplementary Appen- dix, available at NEJM.org. This article was published on May 19, 2019,  and updated on June 5, 2019, at NEJM.org. N Engl J Med 2019;380:1997-2008. DOI: 10.1056/NEJMoa1901686 Copyright © 2019 Massachusetts Medical Society. BACKGROUND The benefits of early continuous neuromuscular</td>\n",
       "      <td>0.5435</td>\n",
       "    </tr>\n",
       "    <tr>\n",
       "      <th>32</th>\n",
       "      <td>ROSE.pdf</td>\n",
       "      <td>33</td>\n",
       "      <td>.5 mg per hour for 48  hours. Although treatment was not administered  in a blinded manner, we chose not to adjust the  dose of the neuromuscular blocking agent accord- ing to peripheral nerve stimulation both to rep- licate the dosing regimen used in the ACURASYS  trial and to facilitate adherence to the trial pro- tocol. Neuromuscular blockade could be stopped  early if the patient met the criteria for freedom  from mechanical ventilation (F</td>\n",
       "      <td>0.5182</td>\n",
       "    </tr>\n",
       "    <tr>\n",
       "      <th>6</th>\n",
       "      <td>ROSE.pdf</td>\n",
       "      <td>7</td>\n",
       "      <td>01686 Copyright © 2019 Massachusetts Medical Society. BACKGROUND The benefits of early continuous neuromuscular blockade in patients with acute  respiratory distress syndrome (ARDS) who are receiving mechanical ventilation  remain unclear. METHODS We randomly assigned patients with moderate-to-severe ARDS (defined by a  ratio of the partial pressure of arterial oxygen to the fraction of inspired oxygen  of &lt;150 mm Hg with a positive end-expiratory pressure [PEEP] of ≥8 cm</td>\n",
       "      <td>0.5101</td>\n",
       "    </tr>\n",
       "  </tbody>\n",
       "</table>\n",
       "</div>"
      ],
      "text/plain": [
       "   paper_name  position  \\\n",
       "16   ROSE.pdf        17   \n",
       "80   ROSE.pdf        82   \n",
       "5    ROSE.pdf         6   \n",
       "32   ROSE.pdf        33   \n",
       "6    ROSE.pdf         7   \n",
       "\n",
       "                                                                                                                                                                                                                                                                                                                                                                                                                                                                                      chunk_text  \\\n",
       "16                                                                                  veolar fluid; patients with ARDS could benefit  from these outcomes.2 However, prolonged ad- ministration of neuromuscular blocking agents is  associated with subsequent neuromuscular weak- ness.3,4 The largest multicenter trial to date (the  ARDS et Curarisation Systematique [ACURASYS]  trial)5 was conducted a decade ago, and ICU  practices have changed since then. The investi- gators of that   \n",
       "80                                      of neuromuscu- lar blocking agents are provided in Table S3 in  the Supplementary Appendix. Patients in the  intervention group were under deeper sedation  than patients in the control group both during  the 48-hour intervention period and on the third  trial day (Fig. 2). During the first 24 hours, pa- tients in the intervention group had lower PEEP  requirements than patients in the control group  (between-group difference, −0.9 cm of   \n",
       "5                                                                                                              Treatment of  Acute Lung Injury (PETAL) network is  provided in the Supplementary Appen- dix, available at NEJM.org. This article was published on May 19, 2019,  and updated on June 5, 2019, at NEJM.org. N Engl J Med 2019;380:1997-2008. DOI: 10.1056/NEJMoa1901686 Copyright © 2019 Massachusetts Medical Society. BACKGROUND The benefits of early continuous neuromuscular   \n",
       "32                               .5 mg per hour for 48  hours. Although treatment was not administered  in a blinded manner, we chose not to adjust the  dose of the neuromuscular blocking agent accord- ing to peripheral nerve stimulation both to rep- licate the dosing regimen used in the ACURASYS  trial and to facilitate adherence to the trial pro- tocol. Neuromuscular blockade could be stopped  early if the patient met the criteria for freedom  from mechanical ventilation (F   \n",
       "6   01686 Copyright © 2019 Massachusetts Medical Society. BACKGROUND The benefits of early continuous neuromuscular blockade in patients with acute  respiratory distress syndrome (ARDS) who are receiving mechanical ventilation  remain unclear. METHODS We randomly assigned patients with moderate-to-severe ARDS (defined by a  ratio of the partial pressure of arterial oxygen to the fraction of inspired oxygen  of <150 mm Hg with a positive end-expiratory pressure [PEEP] of ≥8 cm   \n",
       "\n",
       "    similarity_score  \n",
       "16            0.5785  \n",
       "80            0.5517  \n",
       "5             0.5435  \n",
       "32            0.5182  \n",
       "6             0.5101  "
      ]
     },
     "metadata": {},
     "output_type": "display_data"
    },
    {
     "name": "stdout",
     "output_type": "stream",
     "text": [
      "\n",
      "Paper 3: FACTT\n"
     ]
    },
    {
     "data": {
      "text/plain": [
       "'Yes, the text chunk talks about the number of ventilator-free days being increased with a certain strategy.'"
      ]
     },
     "metadata": {},
     "output_type": "display_data"
    },
    {
     "data": {
      "text/plain": [
       "'The Avg similarity of the top5chunks is:'"
      ]
     },
     "metadata": {},
     "output_type": "display_data"
    },
    {
     "data": {
      "text/plain": [
       "0.36334"
      ]
     },
     "metadata": {},
     "output_type": "display_data"
    },
    {
     "data": {
      "text/html": [
       "<div>\n",
       "<style scoped>\n",
       "    .dataframe tbody tr th:only-of-type {\n",
       "        vertical-align: middle;\n",
       "    }\n",
       "\n",
       "    .dataframe tbody tr th {\n",
       "        vertical-align: top;\n",
       "    }\n",
       "\n",
       "    .dataframe thead th {\n",
       "        text-align: right;\n",
       "    }\n",
       "</style>\n",
       "<table border=\"1\" class=\"dataframe\">\n",
       "  <thead>\n",
       "    <tr style=\"text-align: right;\">\n",
       "      <th></th>\n",
       "      <th>paper_name</th>\n",
       "      <th>position</th>\n",
       "      <th>chunk_text</th>\n",
       "      <th>similarity_score</th>\n",
       "    </tr>\n",
       "  </thead>\n",
       "  <tbody>\n",
       "    <tr>\n",
       "      <th>3</th>\n",
       "      <td>FACTT.pdf</td>\n",
       "      <td>4</td>\n",
       "      <td>abin, Ph.D.,  National Institutes of Health, National  Heart, Lung, and Blood Institute, Bethes- da, Md.) assume responsibility for the  integrity of the article. Address reprint  requests to Dr. Wiedemann at the Depart- ment of Pulmonary, Allergy, and Critical  Care Medicine, Cleveland Clinic, 9500 Eu- clid Ave., Desk A-90, Cleveland, OH 44195,  or at wiedemh@</td>\n",
       "      <td>0.3746</td>\n",
       "    </tr>\n",
       "    <tr>\n",
       "      <th>56</th>\n",
       "      <td>FACTT.pdf</td>\n",
       "      <td>57</td>\n",
       "      <td>, coexisting illness- es, severity of illness, organ function, fluid balance  before the study began, vasopressor use, and pres- ence of shock (Table 1). Protocol Conduct and Instructions The mean time from admission to the ICU to the  first protocol instruction was 41.3±1.6 hours in  Table 1. Baseline Characteristics.* Characteristic Conservative Strategy  (N = 503) Liberal Strategy  (N = 497) P Value Age (yr</td>\n",
       "      <td>0.3640</td>\n",
       "    </tr>\n",
       "    <tr>\n",
       "      <th>9</th>\n",
       "      <td>FACTT.pdf</td>\n",
       "      <td>10</td>\n",
       "      <td>unit (13.4±0.4 vs. 11.2±0.4, P&lt;0.001) during the first 28 days but did not increase  the incidence or prevalence of shock during the study or the use of dialysis during  the first 60 days (10 percent vs. 14 percent, P = 0.06). Conclusions Although there was no significant difference in the primary outcome of 60-day  mortality, the conservative strategy of fluid management improved lung function and</td>\n",
       "      <td>0.3602</td>\n",
       "    </tr>\n",
       "    <tr>\n",
       "      <th>8</th>\n",
       "      <td>FACTT.pdf</td>\n",
       "      <td>9</td>\n",
       "      <td>ation index ([mean airway  pressure × the ratio of the fraction of inspired oxygen to the partial pressure of arte- rial oxygen] × 100) and the lung injury score and increased the number of ventilator- free days (14.6±0.5 vs. 12.1±0.5, P&lt;0.001) and days not spent in the intensive care  unit (13.4±0.4 vs. 11.2±0.4, P</td>\n",
       "      <td>0.3600</td>\n",
       "    </tr>\n",
       "    <tr>\n",
       "      <th>46</th>\n",
       "      <td>FACTT.pdf</td>\n",
       "      <td>47</td>\n",
       "      <td>the  scores can range from 0 to 4, with a lower score  indicating better lung function. Statistical Analysis The study had a statistical power of 90 percent to  detect a reduction by 10 percentage points (from  31 percent to 21 percent) in the primary end point,  death before discharge home during the first 60  days after randomization, with the planned en- rollment of 1000 patients. We assumed patients  who went home without the use of assisted ven- tilation before day 60</td>\n",
       "      <td>0.3579</td>\n",
       "    </tr>\n",
       "  </tbody>\n",
       "</table>\n",
       "</div>"
      ],
      "text/plain": [
       "   paper_name  position  \\\n",
       "3   FACTT.pdf         4   \n",
       "56  FACTT.pdf        57   \n",
       "9   FACTT.pdf        10   \n",
       "8   FACTT.pdf         9   \n",
       "46  FACTT.pdf        47   \n",
       "\n",
       "                                                                                                                                                                                                                                                                                                                                                                                                                                                                                        chunk_text  \\\n",
       "3                                                                                                                      abin, Ph.D.,  National Institutes of Health, National  Heart, Lung, and Blood Institute, Bethes- da, Md.) assume responsibility for the  integrity of the article. Address reprint  requests to Dr. Wiedemann at the Depart- ment of Pulmonary, Allergy, and Critical  Care Medicine, Cleveland Clinic, 9500 Eu- clid Ave., Desk A-90, Cleveland, OH 44195,  or at wiedemh@   \n",
       "56                                                                   , coexisting illness- es, severity of illness, organ function, fluid balance  before the study began, vasopressor use, and pres- ence of shock (Table 1). Protocol Conduct and Instructions The mean time from admission to the ICU to the  first protocol instruction was 41.3±1.6 hours in  Table 1. Baseline Characteristics.* Characteristic Conservative Strategy  (N = 503) Liberal Strategy  (N = 497) P Value Age (yr   \n",
       "9                                                                               unit (13.4±0.4 vs. 11.2±0.4, P<0.001) during the first 28 days but did not increase  the incidence or prevalence of shock during the study or the use of dialysis during  the first 60 days (10 percent vs. 14 percent, P = 0.06). Conclusions Although there was no significant difference in the primary outcome of 60-day  mortality, the conservative strategy of fluid management improved lung function and    \n",
       "8                                                                                                                                                                    ation index ([mean airway  pressure × the ratio of the fraction of inspired oxygen to the partial pressure of arte- rial oxygen] × 100) and the lung injury score and increased the number of ventilator- free days (14.6±0.5 vs. 12.1±0.5, P<0.001) and days not spent in the intensive care  unit (13.4±0.4 vs. 11.2±0.4, P   \n",
       "46   the  scores can range from 0 to 4, with a lower score  indicating better lung function. Statistical Analysis The study had a statistical power of 90 percent to  detect a reduction by 10 percentage points (from  31 percent to 21 percent) in the primary end point,  death before discharge home during the first 60  days after randomization, with the planned en- rollment of 1000 patients. We assumed patients  who went home without the use of assisted ven- tilation before day 60   \n",
       "\n",
       "    similarity_score  \n",
       "3             0.3746  \n",
       "56            0.3640  \n",
       "9             0.3602  \n",
       "8             0.3600  \n",
       "46            0.3579  "
      ]
     },
     "metadata": {},
     "output_type": "display_data"
    },
    {
     "name": "stdout",
     "output_type": "stream",
     "text": [
      "\n",
      "Paper 4: ARDSNet\n"
     ]
    },
    {
     "data": {
      "text/plain": [
       "'Yes, the question is relevant as it discusses the number of days without ventilator use, which is mentioned in the text chunks.'"
      ]
     },
     "metadata": {},
     "output_type": "display_data"
    },
    {
     "data": {
      "text/plain": [
       "'The Avg similarity of the top5chunks is:'"
      ]
     },
     "metadata": {},
     "output_type": "display_data"
    },
    {
     "data": {
      "text/plain": [
       "0.48982000000000003"
      ]
     },
     "metadata": {},
     "output_type": "display_data"
    },
    {
     "data": {
      "text/html": [
       "<div>\n",
       "<style scoped>\n",
       "    .dataframe tbody tr th:only-of-type {\n",
       "        vertical-align: middle;\n",
       "    }\n",
       "\n",
       "    .dataframe tbody tr th {\n",
       "        vertical-align: top;\n",
       "    }\n",
       "\n",
       "    .dataframe thead th {\n",
       "        text-align: right;\n",
       "    }\n",
       "</style>\n",
       "<table border=\"1\" class=\"dataframe\">\n",
       "  <thead>\n",
       "    <tr style=\"text-align: right;\">\n",
       "      <th></th>\n",
       "      <th>paper_name</th>\n",
       "      <th>position</th>\n",
       "      <th>chunk_text</th>\n",
       "      <th>similarity_score</th>\n",
       "    </tr>\n",
       "  </thead>\n",
       "  <tbody>\n",
       "    <tr>\n",
       "      <th>68</th>\n",
       "      <td>ARDSNet.pdf</td>\n",
       "      <td>69</td>\n",
       "      <td>VENTILATION WITH LOWER TIDAL VOLUMES IN PATIENTS WITH THE ACUTE RESPIRATORY DISTRESS SYNDROME Volume 342 Number 18 · 1305 incidence of barotrauma after randomization was sim- ilar in the two groups. There were no significant differences between groups in the percentages of days on which neuro- muscular-blocking drugs were used among patients who were discharged home and breathing without assistance (6±14 percent in the group treated with lower</td>\n",
       "      <td>0.5284</td>\n",
       "    </tr>\n",
       "    <tr>\n",
       "      <th>6</th>\n",
       "      <td>ARDSNet.pdf</td>\n",
       "      <td>7</td>\n",
       "      <td>P&lt;0.001), respectively. Conclusions In patients with acute lung injury and the acute respiratory distress syndrome, mechanical ventilation with a lower tidal volume than is tradition- ally used results in decreased mortality and increas- es the number of days without ventilator use. (N Engl J Med 2000;342:1301-8.) ©2000, Massachusetts Medical Society. The writing committee (Roy G. Brower, M.D., Johns Hopkins Univer- sity, Baltimore</td>\n",
       "      <td>0.4961</td>\n",
       "    </tr>\n",
       "    <tr>\n",
       "      <th>4</th>\n",
       "      <td>ARDSNet.pdf</td>\n",
       "      <td>5</td>\n",
       "      <td>. Results The trial was stopped after the enrollment of 861 patients because mortality was lower in the group treated with lower tidal volumes than in the group treated with traditional tidal volumes (31.0 per- cent vs. 39.8 percent, P=0.007), and the number of days without ventilator use during the first 28 days after randomization was greater in this group (mean [±SD], 12±11 vs. 10±11; P=0.007). The mean</td>\n",
       "      <td>0.4890</td>\n",
       "    </tr>\n",
       "    <tr>\n",
       "      <th>39</th>\n",
       "      <td>ARDSNet.pdf</td>\n",
       "      <td>40</td>\n",
       "      <td>free days, defined as the number of days from day 1 to day 28 on which a patient breathed without assistance, if the period of unassisted breathing lasted at least 48 consecutive hours. A differ- ence in ventilator-free days could reflect a difference in mortality, ventilator days among survivors, or both. Other outcomes were the number of days without organ or system failure and the oc- currence of barotrauma, defined as any new pneumothorax,</td>\n",
       "      <td>0.4818</td>\n",
       "    </tr>\n",
       "    <tr>\n",
       "      <th>36</th>\n",
       "      <td>ARDSNet.pdf</td>\n",
       "      <td>37</td>\n",
       "      <td>VENTILATION WITH LOWER TIDAL VOLUMES IN PATIENTS WITH THE ACUTE RESPIRATORY DISTRESS SYNDROME Volume 342 Number 18 · 1303 in four hours before the ventilator settings were changed on day 0. Physiologic and radiographic data, medication use, and use of oth- er investigational treatments were recorded between 6 and 10 a.m. on days 1, 2, 3, 4, 7, 14, 21,</td>\n",
       "      <td>0.4538</td>\n",
       "    </tr>\n",
       "  </tbody>\n",
       "</table>\n",
       "</div>"
      ],
      "text/plain": [
       "     paper_name  position  \\\n",
       "68  ARDSNet.pdf        69   \n",
       "6   ARDSNet.pdf         7   \n",
       "4   ARDSNet.pdf         5   \n",
       "39  ARDSNet.pdf        40   \n",
       "36  ARDSNet.pdf        37   \n",
       "\n",
       "                                                                                                                                                                                                                                                                                                                                                                                                                                                         chunk_text  \\\n",
       "68  VENTILATION WITH LOWER TIDAL VOLUMES IN PATIENTS WITH THE ACUTE RESPIRATORY DISTRESS SYNDROME Volume 342 Number 18 · 1305 incidence of barotrauma after randomization was sim- ilar in the two groups. There were no significant differences between groups in the percentages of days on which neuro- muscular-blocking drugs were used among patients who were discharged home and breathing without assistance (6±14 percent in the group treated with lower   \n",
       "6               P<0.001), respectively. Conclusions In patients with acute lung injury and the acute respiratory distress syndrome, mechanical ventilation with a lower tidal volume than is tradition- ally used results in decreased mortality and increas- es the number of days without ventilator use. (N Engl J Med 2000;342:1301-8.) ©2000, Massachusetts Medical Society. The writing committee (Roy G. Brower, M.D., Johns Hopkins Univer- sity, Baltimore   \n",
       "4                                         . Results The trial was stopped after the enrollment of 861 patients because mortality was lower in the group treated with lower tidal volumes than in the group treated with traditional tidal volumes (31.0 per- cent vs. 39.8 percent, P=0.007), and the number of days without ventilator use during the first 28 days after randomization was greater in this group (mean [±SD], 12±11 vs. 10±11; P=0.007). The mean   \n",
       "39  free days, defined as the number of days from day 1 to day 28 on which a patient breathed without assistance, if the period of unassisted breathing lasted at least 48 consecutive hours. A differ- ence in ventilator-free days could reflect a difference in mortality, ventilator days among survivors, or both. Other outcomes were the number of days without organ or system failure and the oc- currence of barotrauma, defined as any new pneumothorax,   \n",
       "36                                                                                                VENTILATION WITH LOWER TIDAL VOLUMES IN PATIENTS WITH THE ACUTE RESPIRATORY DISTRESS SYNDROME Volume 342 Number 18 · 1303 in four hours before the ventilator settings were changed on day 0. Physiologic and radiographic data, medication use, and use of oth- er investigational treatments were recorded between 6 and 10 a.m. on days 1, 2, 3, 4, 7, 14, 21,   \n",
       "\n",
       "    similarity_score  \n",
       "68            0.5284  \n",
       "6             0.4961  \n",
       "4             0.4890  \n",
       "39            0.4818  \n",
       "36            0.4538  "
      ]
     },
     "metadata": {},
     "output_type": "display_data"
    },
    {
     "name": "stdout",
     "output_type": "stream",
     "text": [
      "\n",
      "Paper 5: PROSEVA\n"
     ]
    },
    {
     "data": {
      "text/plain": [
       "'Yes, the mention of neuromuscular blocking agents in text chunk 3 is relevant to the question.'"
      ]
     },
     "metadata": {},
     "output_type": "display_data"
    },
    {
     "data": {
      "text/plain": [
       "'The Avg similarity of the top5chunks is:'"
      ]
     },
     "metadata": {},
     "output_type": "display_data"
    },
    {
     "data": {
      "text/plain": [
       "0.49163999999999997"
      ]
     },
     "metadata": {},
     "output_type": "display_data"
    },
    {
     "data": {
      "text/html": [
       "<div>\n",
       "<style scoped>\n",
       "    .dataframe tbody tr th:only-of-type {\n",
       "        vertical-align: middle;\n",
       "    }\n",
       "\n",
       "    .dataframe tbody tr th {\n",
       "        vertical-align: top;\n",
       "    }\n",
       "\n",
       "    .dataframe thead th {\n",
       "        text-align: right;\n",
       "    }\n",
       "</style>\n",
       "<table border=\"1\" class=\"dataframe\">\n",
       "  <thead>\n",
       "    <tr style=\"text-align: right;\">\n",
       "      <th></th>\n",
       "      <th>paper_name</th>\n",
       "      <th>position</th>\n",
       "      <th>chunk_text</th>\n",
       "      <th>similarity_score</th>\n",
       "    </tr>\n",
       "  </thead>\n",
       "  <tbody>\n",
       "    <tr>\n",
       "      <th>37</th>\n",
       "      <td>PROSEVA.pdf</td>\n",
       "      <td>38</td>\n",
       "      <td>of intravenous  almitrine bismesylate at a dose of 4 μg per kilo- gram per minute; and performance of respirato- ry recruitment maneuvers to increase the amount  of aerated lung. Weaning from mechanical ventilation was con- ducted in the same way for both groups (see the  Supplementary Appendix). Details regarding the  management of sedation and the use of neuro- muscular blocking agents are also provided in  the Supplementary Appendix. The investigators  assessed</td>\n",
       "      <td>0.5452</td>\n",
       "    </tr>\n",
       "    <tr>\n",
       "      <th>38</th>\n",
       "      <td>PROSEVA.pdf</td>\n",
       "      <td>39</td>\n",
       "      <td>use of neuro- muscular blocking agents are also provided in  the Supplementary Appendix. The investigators  assessed patients at least every morning until day  28 or discharge from the ICU. Data Collection At the time of admission, we recorded data on age,  sex, the setting from which the patient was admit- ted to the ICU, the context for admission to the  ICU, McCabe score14 (which ranges from A to C,  with A indicating no underlying disease that com- promises</td>\n",
       "      <td>0.5122</td>\n",
       "    </tr>\n",
       "    <tr>\n",
       "      <th>77</th>\n",
       "      <td>PROSEVA.pdf</td>\n",
       "      <td>78</td>\n",
       "      <td>P = 0.05), and 6.6% versus 2.5% for  almitrine bismesylate (P = 0.04). Neuromuscular  blockers were used for 5.6±5.0 days in the supine  group and 5.7±4.7 days in the prone group (P = 0.74),  and intravenous sedation was given for 9.</td>\n",
       "      <td>0.4697</td>\n",
       "    </tr>\n",
       "    <tr>\n",
       "      <th>30</th>\n",
       "      <td>PROSEVA.pdf</td>\n",
       "      <td>31</td>\n",
       "      <td>turned to  the prone position, after 1 hour of prone position- ing, just before the patient was turned back to  the supine position, and 4 hours after the patient  was returned to the supine position. Adjustments  of ventilator settings in specific situations are de- tailed in the Supplementary Appendix. The criteria for stopping prone treatment were  any of the following: improvement in oxygenation  (defined as a Pao2:Fio2 ratio of ≥150 mm</td>\n",
       "      <td>0.4692</td>\n",
       "    </tr>\n",
       "    <tr>\n",
       "      <th>62</th>\n",
       "      <td>PROSEVA.pdf</td>\n",
       "      <td>63</td>\n",
       "      <td>28±6 Other interventions — no./total no. (%) Vasopressors 190/229 (83.0) 172/237 (72.6) Neuromuscular blockers 186/226 (82.3) 212/233 (91.0) Renal-replacement therapy 39/228 (17.1) 27/237 (11.4) Glucocorticoids 101/225 (44.9) 91/230 (39.6) *\\t</td>\n",
       "      <td>0.4619</td>\n",
       "    </tr>\n",
       "  </tbody>\n",
       "</table>\n",
       "</div>"
      ],
      "text/plain": [
       "     paper_name  position  \\\n",
       "37  PROSEVA.pdf        38   \n",
       "38  PROSEVA.pdf        39   \n",
       "77  PROSEVA.pdf        78   \n",
       "30  PROSEVA.pdf        31   \n",
       "62  PROSEVA.pdf        63   \n",
       "\n",
       "                                                                                                                                                                                                                                                                                                                                                                                                                                                                               chunk_text  \\\n",
       "37   of intravenous  almitrine bismesylate at a dose of 4 μg per kilo- gram per minute; and performance of respirato- ry recruitment maneuvers to increase the amount  of aerated lung. Weaning from mechanical ventilation was con- ducted in the same way for both groups (see the  Supplementary Appendix). Details regarding the  management of sedation and the use of neuro- muscular blocking agents are also provided in  the Supplementary Appendix. The investigators  assessed   \n",
       "38      use of neuro- muscular blocking agents are also provided in  the Supplementary Appendix. The investigators  assessed patients at least every morning until day  28 or discharge from the ICU. Data Collection At the time of admission, we recorded data on age,  sex, the setting from which the patient was admit- ted to the ICU, the context for admission to the  ICU, McCabe score14 (which ranges from A to C,  with A indicating no underlying disease that com- promises   \n",
       "77                                                                                                                                                                                                                                              P = 0.05), and 6.6% versus 2.5% for  almitrine bismesylate (P = 0.04). Neuromuscular  blockers were used for 5.6±5.0 days in the supine  group and 5.7±4.7 days in the prone group (P = 0.74),  and intravenous sedation was given for 9.   \n",
       "30                           turned to  the prone position, after 1 hour of prone position- ing, just before the patient was turned back to  the supine position, and 4 hours after the patient  was returned to the supine position. Adjustments  of ventilator settings in specific situations are de- tailed in the Supplementary Appendix. The criteria for stopping prone treatment were  any of the following: improvement in oxygenation  (defined as a Pao2:Fio2 ratio of ≥150 mm   \n",
       "62                                                                                                                                                                                                                                    28±6 Other interventions — no./total no. (%) Vasopressors 190/229 (83.0) 172/237 (72.6) Neuromuscular blockers 186/226 (82.3) 212/233 (91.0) Renal-replacement therapy 39/228 (17.1) 27/237 (11.4) Glucocorticoids 101/225 (44.9) 91/230 (39.6) *\\t   \n",
       "\n",
       "    similarity_score  \n",
       "37            0.5452  \n",
       "38            0.5122  \n",
       "77            0.4697  \n",
       "30            0.4692  \n",
       "62            0.4619  "
      ]
     },
     "metadata": {},
     "output_type": "display_data"
    },
    {
     "name": "stdout",
     "output_type": "stream",
     "text": [
      "\n",
      "Paper 6: OSCILLATE\n"
     ]
    },
    {
     "data": {
      "text/plain": [
       "'Yes, the question is relevant as it pertains to the use of neuromuscular blockers in the text chunks provided.'"
      ]
     },
     "metadata": {},
     "output_type": "display_data"
    },
    {
     "data": {
      "text/plain": [
       "'The Avg similarity of the top5chunks is:'"
      ]
     },
     "metadata": {},
     "output_type": "display_data"
    },
    {
     "data": {
      "text/plain": [
       "0.50222"
      ]
     },
     "metadata": {},
     "output_type": "display_data"
    },
    {
     "data": {
      "text/html": [
       "<div>\n",
       "<style scoped>\n",
       "    .dataframe tbody tr th:only-of-type {\n",
       "        vertical-align: middle;\n",
       "    }\n",
       "\n",
       "    .dataframe tbody tr th {\n",
       "        vertical-align: top;\n",
       "    }\n",
       "\n",
       "    .dataframe thead th {\n",
       "        text-align: right;\n",
       "    }\n",
       "</style>\n",
       "<table border=\"1\" class=\"dataframe\">\n",
       "  <thead>\n",
       "    <tr style=\"text-align: right;\">\n",
       "      <th></th>\n",
       "      <th>paper_name</th>\n",
       "      <th>position</th>\n",
       "      <th>chunk_text</th>\n",
       "      <th>similarity_score</th>\n",
       "    </tr>\n",
       "  </thead>\n",
       "  <tbody>\n",
       "    <tr>\n",
       "      <th>83</th>\n",
       "      <td>OSCILLATE.pdf</td>\n",
       "      <td>84</td>\n",
       "      <td>0.01) and neuromuscular blockers (83% vs.  68%, P&lt;0.001); vasoactive drugs were adminis- tered for an average of 2 days longer in the HFOV  group than in the control group, and neuromus- cular blockers were administered for an average  of 1 day longer in the HFOV group (Table S5 in the  Supplementary Appendix). Sedatives and opioids  (most commonly midaz</td>\n",
       "      <td>0.5218</td>\n",
       "    </tr>\n",
       "    <tr>\n",
       "      <th>68</th>\n",
       "      <td>OSCILLATE.pdf</td>\n",
       "      <td>69</td>\n",
       "      <td>(66% and 61%, re- spectively; P = 0.24) but increased in the HFOV  group as compared with the control group with- in 4 hours after initiation (73% vs. 62%, P = 0.01)  and increased even more in the HFOV group by  the following day (78% vs. 58%, P&lt;0.001). The  use of neuromuscular blockers followed a</td>\n",
       "      <td>0.5114</td>\n",
       "    </tr>\n",
       "    <tr>\n",
       "      <th>67</th>\n",
       "      <td>OSCILLATE.pdf</td>\n",
       "      <td>68</td>\n",
       "      <td>nonuse of  vasopressors or with center experience in the  trial (Fig. S1 in the Supplementary Appendix). Early Physiological Responses to Ventilation Table S3 in the Supplementary Appendix shows  early physiological responses to HFOV and to  control ventilation. The use of vasopressors was  similar in the HFOV and control groups before  the initiation of ventilation (66% and 61%, re- spectively; P = 0.24</td>\n",
       "      <td>0.5023</td>\n",
       "    </tr>\n",
       "    <tr>\n",
       "      <th>71</th>\n",
       "      <td>OSCILLATE.pdf</td>\n",
       "      <td>72</td>\n",
       "      <td>before initia- tion (P = 0.93); 0.62 and 0.64 in the two groups, re- spectively, 4 hours after initiation (P = 0.94); and  0.51 and 0.50, respectively, the next day (P = 0.97). Cardiorespiratory Results Table S4 in the Supplementary Appendix shows  cardiorespiratory data from the first week of</td>\n",
       "      <td>0.4985</td>\n",
       "    </tr>\n",
       "    <tr>\n",
       "      <th>51</th>\n",
       "      <td>OSCILLATE.pdf</td>\n",
       "      <td>52</td>\n",
       "      <td>creasing subcutaneous emphysema despite two  thoracostomy tubes on the involved side), or re- fractory acidosis (pH of ≤7.05 despite neuromus- cular blockade). Physicians prescribed fluids, sedatives, and  neuromuscular blockers at their discretion. We  recorded cardiorespiratory variables daily as well  as data on cointerventions applied while patients  were undergoing mechanical ventilation for up to  60 days. Intens</td>\n",
       "      <td>0.4771</td>\n",
       "    </tr>\n",
       "  </tbody>\n",
       "</table>\n",
       "</div>"
      ],
      "text/plain": [
       "       paper_name  position  \\\n",
       "83  OSCILLATE.pdf        84   \n",
       "68  OSCILLATE.pdf        69   \n",
       "67  OSCILLATE.pdf        68   \n",
       "71  OSCILLATE.pdf        72   \n",
       "51  OSCILLATE.pdf        52   \n",
       "\n",
       "                                                                                                                                                                                                                                                                                                                                                                                                                                 chunk_text  \\\n",
       "83                                                                     0.01) and neuromuscular blockers (83% vs.  68%, P<0.001); vasoactive drugs were adminis- tered for an average of 2 days longer in the HFOV  group than in the control group, and neuromus- cular blockers were administered for an average  of 1 day longer in the HFOV group (Table S5 in the  Supplementary Appendix). Sedatives and opioids  (most commonly midaz   \n",
       "68                                                                                                                             (66% and 61%, re- spectively; P = 0.24) but increased in the HFOV  group as compared with the control group with- in 4 hours after initiation (73% vs. 62%, P = 0.01)  and increased even more in the HFOV group by  the following day (78% vs. 58%, P<0.001). The  use of neuromuscular blockers followed a   \n",
       "67                  nonuse of  vasopressors or with center experience in the  trial (Fig. S1 in the Supplementary Appendix). Early Physiological Responses to Ventilation Table S3 in the Supplementary Appendix shows  early physiological responses to HFOV and to  control ventilation. The use of vasopressors was  similar in the HFOV and control groups before  the initiation of ventilation (66% and 61%, re- spectively; P = 0.24   \n",
       "71                                                                                                                                   before initia- tion (P = 0.93); 0.62 and 0.64 in the two groups, re- spectively, 4 hours after initiation (P = 0.94); and  0.51 and 0.50, respectively, the next day (P = 0.97). Cardiorespiratory Results Table S4 in the Supplementary Appendix shows  cardiorespiratory data from the first week of   \n",
       "51   creasing subcutaneous emphysema despite two  thoracostomy tubes on the involved side), or re- fractory acidosis (pH of ≤7.05 despite neuromus- cular blockade). Physicians prescribed fluids, sedatives, and  neuromuscular blockers at their discretion. We  recorded cardiorespiratory variables daily as well  as data on cointerventions applied while patients  were undergoing mechanical ventilation for up to  60 days. Intens   \n",
       "\n",
       "    similarity_score  \n",
       "83            0.5218  \n",
       "68            0.5114  \n",
       "67            0.5023  \n",
       "71            0.4985  \n",
       "51            0.4771  "
      ]
     },
     "metadata": {},
     "output_type": "display_data"
    },
    {
     "name": "stdout",
     "output_type": "stream",
     "text": [
      "\n",
      "Paper 7: ESCPARDS\n"
     ]
    },
    {
     "data": {
      "text/plain": [
       "'No, the text chunks do not discuss the administration of neuromuscular blocking agents and their impact on ventilator-free days.'"
      ]
     },
     "metadata": {},
     "output_type": "display_data"
    },
    {
     "data": {
      "text/plain": [
       "'The Avg similarity of the top5chunks is:'"
      ]
     },
     "metadata": {},
     "output_type": "display_data"
    },
    {
     "data": {
      "text/plain": [
       "0.49188"
      ]
     },
     "metadata": {},
     "output_type": "display_data"
    },
    {
     "data": {
      "text/html": [
       "<div>\n",
       "<style scoped>\n",
       "    .dataframe tbody tr th:only-of-type {\n",
       "        vertical-align: middle;\n",
       "    }\n",
       "\n",
       "    .dataframe tbody tr th {\n",
       "        vertical-align: top;\n",
       "    }\n",
       "\n",
       "    .dataframe thead th {\n",
       "        text-align: right;\n",
       "    }\n",
       "</style>\n",
       "<table border=\"1\" class=\"dataframe\">\n",
       "  <thead>\n",
       "    <tr style=\"text-align: right;\">\n",
       "      <th></th>\n",
       "      <th>paper_name</th>\n",
       "      <th>position</th>\n",
       "      <th>chunk_text</th>\n",
       "      <th>similarity_score</th>\n",
       "    </tr>\n",
       "  </thead>\n",
       "  <tbody>\n",
       "    <tr>\n",
       "      <th>50</th>\n",
       "      <td>ESCPARDS.pdf</td>\n",
       "      <td>51</td>\n",
       "      <td>.1 cm of  water, respectively; P = 0.004) (Table 4 of the Sup- plementary Appendix). The methylprednisolone group had signifi- cantly more ventilator-free days than the placebo  group during the first 28 days (Table 2) as well  as at 180 days (Table 3). Patients given methyl- prednisolone were able to breathe without assis- tance sooner than patients given placebo (14.1</td>\n",
       "      <td>0.5186</td>\n",
       "    </tr>\n",
       "    <tr>\n",
       "      <th>95</th>\n",
       "      <td>ESCPARDS.pdf</td>\n",
       "      <td>96</td>\n",
       "      <td>did not need  to resume assisted ventilation (P = 0.89). Significant improvements in PaO2:FiO2 were  observed in the methylprednisolone group on  days 3 and 14 after enrollment. Plateau pressure  was significantly lower in the methylpredniso- lone group on days 4, 5, and 7 after enrollment, as  compared with the placebo group, whereas respi- ratory-system compliance was significantly im- proved on days 7 and 14 (</td>\n",
       "      <td>0.4930</td>\n",
       "    </tr>\n",
       "    <tr>\n",
       "      <th>94</th>\n",
       "      <td>ESCPARDS.pdf</td>\n",
       "      <td>95</td>\n",
       "      <td>to assisted venti- lation; the 26 patients who resumed receiving as- sisted ventilation had enrolled a median of 10.5  days (interquartile range, 8 to 14) after the onset  of ARDS, as compared with a median of 10.0 days  (interquartile range, 8 to 14) after the onset of  ARDS among the 154 patients who did not need  to resume assisted ventilation (P = 0.89). Significant improvements in PaO</td>\n",
       "      <td>0.4898</td>\n",
       "    </tr>\n",
       "    <tr>\n",
       "      <th>92</th>\n",
       "      <td>ESCPARDS.pdf</td>\n",
       "      <td>93</td>\n",
       "      <td>The new engl and jour nal of medicine n engl j med 354;16 www.nejm.org april 20, 2006 1678 tients: 6 in the placebo group and 20 in the meth- ylprednisolone group (P = 0.008) (Fig. 2). Seven  of these patients had evidence of shock around  the time assisted ventilation was resumed, all of  whom were in the methylprednisolone group.  Eleven of</td>\n",
       "      <td>0.4825</td>\n",
       "    </tr>\n",
       "    <tr>\n",
       "      <th>93</th>\n",
       "      <td>ESCPARDS.pdf</td>\n",
       "      <td>94</td>\n",
       "      <td>was resumed, all of  whom were in the methylprednisolone group.  Eleven of the 26 patients had evidence of neuro- myopathy during their hospital course, 2 in the  placebo group and 9 in the methylprednisolone  group. The duration of ARDS before study enroll- ment (see Fig. 9 of the Supplementary Appendix)  was not associated with a return to assisted venti- lation; the 26 patients who resumed receiving as- sisted ventilation had</td>\n",
       "      <td>0.4755</td>\n",
       "    </tr>\n",
       "  </tbody>\n",
       "</table>\n",
       "</div>"
      ],
      "text/plain": [
       "      paper_name  position  \\\n",
       "50  ESCPARDS.pdf        51   \n",
       "95  ESCPARDS.pdf        96   \n",
       "94  ESCPARDS.pdf        95   \n",
       "92  ESCPARDS.pdf        93   \n",
       "93  ESCPARDS.pdf        94   \n",
       "\n",
       "                                                                                                                                                                                                                                                                                                                                                                                                                                           chunk_text  \\\n",
       "50                                                              .1 cm of  water, respectively; P = 0.004) (Table 4 of the Sup- plementary Appendix). The methylprednisolone group had signifi- cantly more ventilator-free days than the placebo  group during the first 28 days (Table 2) as well  as at 180 days (Table 3). Patients given methyl- prednisolone were able to breathe without assis- tance sooner than patients given placebo (14.1    \n",
       "95                   did not need  to resume assisted ventilation (P = 0.89). Significant improvements in PaO2:FiO2 were  observed in the methylprednisolone group on  days 3 and 14 after enrollment. Plateau pressure  was significantly lower in the methylpredniso- lone group on days 4, 5, and 7 after enrollment, as  compared with the placebo group, whereas respi- ratory-system compliance was significantly im- proved on days 7 and 14 (   \n",
       "94                                           to assisted venti- lation; the 26 patients who resumed receiving as- sisted ventilation had enrolled a median of 10.5  days (interquartile range, 8 to 14) after the onset  of ARDS, as compared with a median of 10.0 days  (interquartile range, 8 to 14) after the onset of  ARDS among the 154 patients who did not need  to resume assisted ventilation (P = 0.89). Significant improvements in PaO   \n",
       "92                                                                                           The new engl and jour nal of medicine n engl j med 354;16 www.nejm.org april 20, 2006 1678 tients: 6 in the placebo group and 20 in the meth- ylprednisolone group (P = 0.008) (Fig. 2). Seven  of these patients had evidence of shock around  the time assisted ventilation was resumed, all of  whom were in the methylprednisolone group.  Eleven of   \n",
       "93   was resumed, all of  whom were in the methylprednisolone group.  Eleven of the 26 patients had evidence of neuro- myopathy during their hospital course, 2 in the  placebo group and 9 in the methylprednisolone  group. The duration of ARDS before study enroll- ment (see Fig. 9 of the Supplementary Appendix)  was not associated with a return to assisted venti- lation; the 26 patients who resumed receiving as- sisted ventilation had   \n",
       "\n",
       "    similarity_score  \n",
       "50            0.5186  \n",
       "95            0.4930  \n",
       "94            0.4898  \n",
       "92            0.4825  \n",
       "93            0.4755  "
      ]
     },
     "metadata": {},
     "output_type": "display_data"
    },
    {
     "name": "stdout",
     "output_type": "stream",
     "text": [
      "\n",
      "Paper 8: LCOTARDS\n"
     ]
    },
    {
     "data": {
      "text/plain": [
       "'No, the question does not have relevance to the text chunks provided.'"
      ]
     },
     "metadata": {},
     "output_type": "display_data"
    },
    {
     "data": {
      "text/plain": [
       "'The Avg similarity of the top5chunks is:'"
      ]
     },
     "metadata": {},
     "output_type": "display_data"
    },
    {
     "data": {
      "text/plain": [
       "0.43708"
      ]
     },
     "metadata": {},
     "output_type": "display_data"
    },
    {
     "data": {
      "text/html": [
       "<div>\n",
       "<style scoped>\n",
       "    .dataframe tbody tr th:only-of-type {\n",
       "        vertical-align: middle;\n",
       "    }\n",
       "\n",
       "    .dataframe tbody tr th {\n",
       "        vertical-align: top;\n",
       "    }\n",
       "\n",
       "    .dataframe thead th {\n",
       "        text-align: right;\n",
       "    }\n",
       "</style>\n",
       "<table border=\"1\" class=\"dataframe\">\n",
       "  <thead>\n",
       "    <tr style=\"text-align: right;\">\n",
       "      <th></th>\n",
       "      <th>paper_name</th>\n",
       "      <th>position</th>\n",
       "      <th>chunk_text</th>\n",
       "      <th>similarity_score</th>\n",
       "    </tr>\n",
       "  </thead>\n",
       "  <tbody>\n",
       "    <tr>\n",
       "      <th>37</th>\n",
       "      <td>LCOTARDS.pdf</td>\n",
       "      <td>38</td>\n",
       "      <td>2c in the Supplementary Appendix); ventilator- associated pneumonia during the first 28 days;  and septicemia during the first 28 days. Additional secondary outcomes were cardio- vascular complications, defined as new-onset  arrhythmia or a cardiac ischemic event and the  use of vasopressors (recorded every morning)  over the first 7 days. In addition, respiratory  weaning success was determined at days 28 and  90, and neurologic status</td>\n",
       "      <td>0.4796</td>\n",
       "    </tr>\n",
       "    <tr>\n",
       "      <th>84</th>\n",
       "      <td>LCOTARDS.pdf</td>\n",
       "      <td>85</td>\n",
       "      <td>55.2) 32/83 38.6 (28.1–49.0) Patients receiving mechanical   ventilation† Day 28 10/62 16.1 (7.0–25.3) 11/73 15.1 (6.9–23.3) Day 90 2/53 3.8 (0.4–13.6) 2/69 2.9 (0.3–10.5) Infectious adverse events Ventilator-associated</td>\n",
       "      <td>0.4488</td>\n",
       "    </tr>\n",
       "    <tr>\n",
       "      <th>95</th>\n",
       "      <td>LCOTARDS.pdf</td>\n",
       "      <td>96</td>\n",
       "      <td>ICU10 and  CLOSE trials.9 Second, the trial intervention was  administered in the first 12 hours and for the  first 7 days, or for the duration of mechanical  ventilation if less than 7 days. Although decreas- ing oxygen exposure (lower Fio2) might decrease  the lung damage at the early phase of the dis- ease,17 patients were exposed to hypoxemia. Al- though some clinicians recommend adjustment  of the oxygenation target according to the sever</td>\n",
       "      <td>0.4338</td>\n",
       "    </tr>\n",
       "    <tr>\n",
       "      <th>90</th>\n",
       "      <td>LCOTARDS.pdf</td>\n",
       "      <td>91</td>\n",
       "      <td>n engl j med 382;11  nejm.org  March 12, 2020 1006 The new engl and jour nal of medicine Discussion In this prospective randomized trial involving  patients with a very common form of ARDS,  slightly more than 40% of whom had a Pao2:Fio2  lower than 100 mm Hg, a conservative-oxygena­ tion strategy during the first 7 days of mechani- cal ventilation did not reduce</td>\n",
       "      <td>0.4159</td>\n",
       "    </tr>\n",
       "    <tr>\n",
       "      <th>91</th>\n",
       "      <td>LCOTARDS.pdf</td>\n",
       "      <td>92</td>\n",
       "      <td>oxygena­ tion strategy during the first 7 days of mechani- cal ventilation did not reduce mortality at 28 days  as expected.11,12 There was also a worrisome but  not established signal of increased mortality at  90 days and mesenteric ischemia. At the time of  the last meeting of the data and safety monitor- ing board, the trial was stopped prematurely after  the enrollment of 205 patients because of this risk. The oxygen exposures, as defined by either the</td>\n",
       "      <td>0.4073</td>\n",
       "    </tr>\n",
       "  </tbody>\n",
       "</table>\n",
       "</div>"
      ],
      "text/plain": [
       "      paper_name  position  \\\n",
       "37  LCOTARDS.pdf        38   \n",
       "84  LCOTARDS.pdf        85   \n",
       "95  LCOTARDS.pdf        96   \n",
       "90  LCOTARDS.pdf        91   \n",
       "91  LCOTARDS.pdf        92   \n",
       "\n",
       "                                                                                                                                                                                                                                                                                                                                                                                                                                                                       chunk_text  \\\n",
       "37                       2c in the Supplementary Appendix); ventilator- associated pneumonia during the first 28 days;  and septicemia during the first 28 days. Additional secondary outcomes were cardio- vascular complications, defined as new-onset  arrhythmia or a cardiac ischemic event and the  use of vasopressors (recorded every morning)  over the first 7 days. In addition, respiratory  weaning success was determined at days 28 and  90, and neurologic status   \n",
       "84                                                                                                                                                                                                                                                   55.2) 32/83 38.6 (28.1–49.0) Patients receiving mechanical   ventilation† Day 28 10/62 16.1 (7.0–25.3) 11/73 15.1 (6.9–23.3) Day 90 2/53 3.8 (0.4–13.6) 2/69 2.9 (0.3–10.5) Infectious adverse events Ventilator-associated    \n",
       "95                ICU10 and  CLOSE trials.9 Second, the trial intervention was  administered in the first 12 hours and for the  first 7 days, or for the duration of mechanical  ventilation if less than 7 days. Although decreas- ing oxygen exposure (lower Fio2) might decrease  the lung damage at the early phase of the dis- ease,17 patients were exposed to hypoxemia. Al- though some clinicians recommend adjustment  of the oxygenation target according to the sever   \n",
       "90                                                                                                  n engl j med 382;11  nejm.org  March 12, 2020 1006 The new engl and jour nal of medicine Discussion In this prospective randomized trial involving  patients with a very common form of ARDS,  slightly more than 40% of whom had a Pao2:Fio2  lower than 100 mm Hg, a conservative-oxygena­ tion strategy during the first 7 days of mechani- cal ventilation did not reduce   \n",
       "91  oxygena­ tion strategy during the first 7 days of mechani- cal ventilation did not reduce mortality at 28 days  as expected.11,12 There was also a worrisome but  not established signal of increased mortality at  90 days and mesenteric ischemia. At the time of  the last meeting of the data and safety monitor- ing board, the trial was stopped prematurely after  the enrollment of 205 patients because of this risk. The oxygen exposures, as defined by either the   \n",
       "\n",
       "    similarity_score  \n",
       "37            0.4796  \n",
       "84            0.4488  \n",
       "95            0.4338  \n",
       "90            0.4159  \n",
       "91            0.4073  "
      ]
     },
     "metadata": {},
     "output_type": "display_data"
    },
    {
     "name": "stdout",
     "output_type": "stream",
     "text": [
      "\n",
      "Paper 9: ETSDMV\n"
     ]
    },
    {
     "data": {
      "text/plain": [
       "'Yes, the question of whether early administration of neuromuscular blocking agents increases ventilator free days is relevant, as it is discussed in the text chunks.'"
      ]
     },
     "metadata": {},
     "output_type": "display_data"
    },
    {
     "data": {
      "text/plain": [
       "'The Avg similarity of the top5chunks is:'"
      ]
     },
     "metadata": {},
     "output_type": "display_data"
    },
    {
     "data": {
      "text/plain": [
       "0.5201"
      ]
     },
     "metadata": {},
     "output_type": "display_data"
    },
    {
     "data": {
      "text/html": [
       "<div>\n",
       "<style scoped>\n",
       "    .dataframe tbody tr th:only-of-type {\n",
       "        vertical-align: middle;\n",
       "    }\n",
       "\n",
       "    .dataframe tbody tr th {\n",
       "        vertical-align: top;\n",
       "    }\n",
       "\n",
       "    .dataframe thead th {\n",
       "        text-align: right;\n",
       "    }\n",
       "</style>\n",
       "<table border=\"1\" class=\"dataframe\">\n",
       "  <thead>\n",
       "    <tr style=\"text-align: right;\">\n",
       "      <th></th>\n",
       "      <th>paper_name</th>\n",
       "      <th>position</th>\n",
       "      <th>chunk_text</th>\n",
       "      <th>similarity_score</th>\n",
       "    </tr>\n",
       "  </thead>\n",
       "  <tbody>\n",
       "    <tr>\n",
       "      <th>49</th>\n",
       "      <td>ETSDMV.pdf</td>\n",
       "      <td>50</td>\n",
       "      <td>by increasing the level of sedation, adjusting the ventilator  has been shown to be a more effective method for reducing patient–ventilator asynchrony  [60]. Animal models have suggested that strong spontaneous efforts during mechanical  ventilation may perpetuate lung injury [61], although in models with less severe injury  spontaneous efforts were found to be beneficial to lung recruitment [62]. Eliminating  spontaneous respirations, however, with either deep sedation or neuromuscular blockade  results in</td>\n",
       "      <td>0.5779</td>\n",
       "    </tr>\n",
       "    <tr>\n",
       "      <th>48</th>\n",
       "      <td>ETSDMV.pdf</td>\n",
       "      <td>49</td>\n",
       "      <td>events and more immobility in the group receiving neuromuscular blockade paired with  deep sedation, further supporting the use of light sedation goals for patients with ARDS. Balanced against the light sedation target is the goal of preventing self-induced lung injury  from spontaneous respirations and other ventilator asynchronies [58,59]. Although breath  stacking is frequently dealt with by increasing the level of sedation, adjusting the ventilator  has been shown to be a</td>\n",
       "      <td>0.5464</td>\n",
       "    </tr>\n",
       "    <tr>\n",
       "      <th>46</th>\n",
       "      <td>ETSDMV.pdf</td>\n",
       "      <td>47</td>\n",
       "      <td>, and prescribed deep sedation, a therapy now known to result in worse outcomes, to  both the intervention and control arm. The Prevention and Early Treatment of Acute Lung  Injury investigators recently published the results of a large, multicenter trial conducted in  the United States, which compared early neuromuscular blockade with a strategy of light  sedation, consistent with the current PADIS guidelines, with a primary endpoint of 90-day  mortality [57]. The study was stopped early</td>\n",
       "      <td>0.5098</td>\n",
       "    </tr>\n",
       "    <tr>\n",
       "      <th>60</th>\n",
       "      <td>ETSDMV.pdf</td>\n",
       "      <td>61</td>\n",
       "      <td>hospital: a retrospective comparison. Crit Care 2018;  22:267. [PubMed: 30367645]  7. Zhu Y, Wang Y, Du B, et al. Could remifentanil reduce duration of mechanical ventilation in  comparison with other opioids for mechanically ventilated patients? A systematic review and meta- analysis. Crit Care 2017; 21:206. [PubMed: 28774327]  8. Strøm T, Martinussen T, To</td>\n",
       "      <td>0.4832</td>\n",
       "    </tr>\n",
       "    <tr>\n",
       "      <th>26</th>\n",
       "      <td>ETSDMV.pdf</td>\n",
       "      <td>27</td>\n",
       "      <td>irium, more ventilator free days, and less days in the ICU [17– 19,22,23,27,28]. In addition, a recent double-blinded, randomized, placebo-controlled  clinical conducted by Skrobik et al. [29▪▪] found a reduction in the incidence of delirium  Pearson and Patel Page 3 Curr Opin Crit Care. Author manuscript; available in PMC 2021 April 30. Author Manuscript Author</td>\n",
       "      <td>0.4832</td>\n",
       "    </tr>\n",
       "  </tbody>\n",
       "</table>\n",
       "</div>"
      ],
      "text/plain": [
       "    paper_name  position  \\\n",
       "49  ETSDMV.pdf        50   \n",
       "48  ETSDMV.pdf        49   \n",
       "46  ETSDMV.pdf        47   \n",
       "60  ETSDMV.pdf        61   \n",
       "26  ETSDMV.pdf        27   \n",
       "\n",
       "                                                                                                                                                                                                                                                                                                                                                                                                                                                                                                                           chunk_text  \\\n",
       "49   by increasing the level of sedation, adjusting the ventilator  has been shown to be a more effective method for reducing patient–ventilator asynchrony  [60]. Animal models have suggested that strong spontaneous efforts during mechanical  ventilation may perpetuate lung injury [61], although in models with less severe injury  spontaneous efforts were found to be beneficial to lung recruitment [62]. Eliminating  spontaneous respirations, however, with either deep sedation or neuromuscular blockade  results in   \n",
       "48                                   events and more immobility in the group receiving neuromuscular blockade paired with  deep sedation, further supporting the use of light sedation goals for patients with ARDS. Balanced against the light sedation target is the goal of preventing self-induced lung injury  from spontaneous respirations and other ventilator asynchronies [58,59]. Although breath  stacking is frequently dealt with by increasing the level of sedation, adjusting the ventilator  has been shown to be a   \n",
       "46                      , and prescribed deep sedation, a therapy now known to result in worse outcomes, to  both the intervention and control arm. The Prevention and Early Treatment of Acute Lung  Injury investigators recently published the results of a large, multicenter trial conducted in  the United States, which compared early neuromuscular blockade with a strategy of light  sedation, consistent with the current PADIS guidelines, with a primary endpoint of 90-day  mortality [57]. The study was stopped early   \n",
       "60                                                                                                                                                           hospital: a retrospective comparison. Crit Care 2018;  22:267. [PubMed: 30367645]  7. Zhu Y, Wang Y, Du B, et al. Could remifentanil reduce duration of mechanical ventilation in  comparison with other opioids for mechanically ventilated patients? A systematic review and meta- analysis. Crit Care 2017; 21:206. [PubMed: 28774327]  8. Strøm T, Martinussen T, To   \n",
       "26                                                                                                                                                       irium, more ventilator free days, and less days in the ICU [17– 19,22,23,27,28]. In addition, a recent double-blinded, randomized, placebo-controlled  clinical conducted by Skrobik et al. [29▪▪] found a reduction in the incidence of delirium  Pearson and Patel Page 3 Curr Opin Crit Care. Author manuscript; available in PMC 2021 April 30. Author Manuscript Author   \n",
       "\n",
       "    similarity_score  \n",
       "49            0.5779  \n",
       "48            0.5464  \n",
       "46            0.5098  \n",
       "60            0.4832  \n",
       "26            0.4832  "
      ]
     },
     "metadata": {},
     "output_type": "display_data"
    },
    {
     "name": "stdout",
     "output_type": "stream",
     "text": [
      "\n",
      "Paper 10: SMDLTSWCI\n"
     ]
    },
    {
     "data": {
      "text/plain": [
       "'No, the question of early administration of neuromuscular blocking agents increasing ventilator free days is not relevant to the text chunks provided.'"
      ]
     },
     "metadata": {},
     "output_type": "display_data"
    },
    {
     "data": {
      "text/plain": [
       "'The Avg similarity of the top5chunks is:'"
      ]
     },
     "metadata": {},
     "output_type": "display_data"
    },
    {
     "data": {
      "text/plain": [
       "0.42887999999999993"
      ]
     },
     "metadata": {},
     "output_type": "display_data"
    },
    {
     "data": {
      "text/html": [
       "<div>\n",
       "<style scoped>\n",
       "    .dataframe tbody tr th:only-of-type {\n",
       "        vertical-align: middle;\n",
       "    }\n",
       "\n",
       "    .dataframe tbody tr th {\n",
       "        vertical-align: top;\n",
       "    }\n",
       "\n",
       "    .dataframe thead th {\n",
       "        text-align: right;\n",
       "    }\n",
       "</style>\n",
       "<table border=\"1\" class=\"dataframe\">\n",
       "  <thead>\n",
       "    <tr style=\"text-align: right;\">\n",
       "      <th></th>\n",
       "      <th>paper_name</th>\n",
       "      <th>position</th>\n",
       "      <th>chunk_text</th>\n",
       "      <th>similarity_score</th>\n",
       "    </tr>\n",
       "  </thead>\n",
       "  <tbody>\n",
       "    <tr>\n",
       "      <th>1</th>\n",
       "      <td>SMDLTSWCI.pdf</td>\n",
       "      <td>2</td>\n",
       "      <td>weaning time in selected  critically ill, mechanically ventilated patients:  a randomized controlled study Yongfang Zhou1†, Jie Yang1†, Bo Wang1†, Peng Wang1, Zhen Wang2, Yunqin Yang1, Guopeng Liang1,  Xiaorong jing1, Xiaodong Jin1, Zhongwei Zhang1, Yiyun</td>\n",
       "      <td>0.4586</td>\n",
       "    </tr>\n",
       "    <tr>\n",
       "      <th>0</th>\n",
       "      <td>SMDLTSWCI.pdf</td>\n",
       "      <td>1</td>\n",
       "      <td>Zhou et al. Critical Care          (2022) 26:122   https://doi.org/10.1186/s13054-022-03967-5 RESEARCH Sequential use of midazolam  and dexmedetomidine for long‑term sedation  may reduce weaning time in selected  critically ill, mechanically ventilated patients:  a randomized</td>\n",
       "      <td>0.4337</td>\n",
       "    </tr>\n",
       "    <tr>\n",
       "      <th>21</th>\n",
       "      <td>SMDLTSWCI.pdf</td>\n",
       "      <td>24</td>\n",
       "      <td>am  and propofol according to the ventilator weaning pro- cess was associated with faster recovery and extubation,  lower ICU treatment cost, and a decreased incidence of  agitation than midazolam alone; as well as lower occur- rence of hypotension and pharmaceutic cost than propo- fol alone [33]. There is still a lack of research regarding  the sequential use of midazolam and dexmedetomidine.  It was</td>\n",
       "      <td>0.4191</td>\n",
       "    </tr>\n",
       "    <tr>\n",
       "      <th>29</th>\n",
       "      <td>SMDLTSWCI.pdf</td>\n",
       "      <td>32</td>\n",
       "      <td>] and the individual sedation goal (details listed in  S4.2.1, Additional file 1). All the patients were managed  with a daily spontaneous awakening trial (SAT) fol- lowed by a spontaneous breathing trial (SBT) through- out the mechanical ventilation period [35]. During the confirmatory phase, clinicians managed  patients with the spontaneous awakening trial (SAT)  from the next morning after screening. Once patients  passed the SAT, respiratory therapists assessed</td>\n",
       "      <td>0.4180</td>\n",
       "    </tr>\n",
       "    <tr>\n",
       "      <th>53</th>\n",
       "      <td>SMDLTSWCI.pdf</td>\n",
       "      <td>56</td>\n",
       "      <td>0.006), the PP analysis showed similar results  to the ITT analysis (Table S1 in Additional file 2). In the  subgroup analyses of mechanical ventilation ≥ 5 days or  less, patients in group M required a longer time to recov- ery and extubation than the other two groups (P &lt; 0.05);  Tables S2 and S3, Additional file  2). No significant</td>\n",
       "      <td>0.4150</td>\n",
       "    </tr>\n",
       "  </tbody>\n",
       "</table>\n",
       "</div>"
      ],
      "text/plain": [
       "       paper_name  position  \\\n",
       "1   SMDLTSWCI.pdf         2   \n",
       "0   SMDLTSWCI.pdf         1   \n",
       "21  SMDLTSWCI.pdf        24   \n",
       "29  SMDLTSWCI.pdf        32   \n",
       "53  SMDLTSWCI.pdf        56   \n",
       "\n",
       "                                                                                                                                                                                                                                                                                                                                                                                                                                                                               chunk_text  \\\n",
       "1                                                                                                                                                                                                                         weaning time in selected  critically ill, mechanically ventilated patients:  a randomized controlled study Yongfang Zhou1†, Jie Yang1†, Bo Wang1†, Peng Wang1, Zhen Wang2, Yunqin Yang1, Guopeng Liang1,  Xiaorong jing1, Xiaodong Jin1, Zhongwei Zhang1, Yiyun   \n",
       "0                                                                                                                                                                                                    Zhou et al. Critical Care          (2022) 26:122   https://doi.org/10.1186/s13054-022-03967-5 RESEARCH Sequential use of midazolam  and dexmedetomidine for long‑term sedation  may reduce weaning time in selected  critically ill, mechanically ventilated patients:  a randomized   \n",
       "21                                                                   am  and propofol according to the ventilator weaning pro- cess was associated with faster recovery and extubation,  lower ICU treatment cost, and a decreased incidence of  agitation than midazolam alone; as well as lower occur- rence of hypotension and pharmaceutic cost than propo- fol alone [33]. There is still a lack of research regarding  the sequential use of midazolam and dexmedetomidine.  It was   \n",
       "29  ] and the individual sedation goal (details listed in  S4.2.1, Additional file 1). All the patients were managed  with a daily spontaneous awakening trial (SAT) fol- lowed by a spontaneous breathing trial (SBT) through- out the mechanical ventilation period [35]. During the confirmatory phase, clinicians managed  patients with the spontaneous awakening trial (SAT)  from the next morning after screening. Once patients  passed the SAT, respiratory therapists assessed   \n",
       "53                                                                                                                                       0.006), the PP analysis showed similar results  to the ITT analysis (Table S1 in Additional file 2). In the  subgroup analyses of mechanical ventilation ≥ 5 days or  less, patients in group M required a longer time to recov- ery and extubation than the other two groups (P < 0.05);  Tables S2 and S3, Additional file  2). No significant   \n",
       "\n",
       "    similarity_score  \n",
       "1             0.4586  \n",
       "0             0.4337  \n",
       "21            0.4191  \n",
       "29            0.4180  \n",
       "53            0.4150  "
      ]
     },
     "metadata": {},
     "output_type": "display_data"
    },
    {
     "name": "stdout",
     "output_type": "stream",
     "text": [
      "\n",
      "Paper 11: PESDCOMV\n"
     ]
    },
    {
     "data": {
      "text/plain": [
       "'No, the question about the early administration of neuromuscular blocking agents does not have relevance to the text chunks provided.'"
      ]
     },
     "metadata": {},
     "output_type": "display_data"
    },
    {
     "data": {
      "text/plain": [
       "'The Avg similarity of the top5chunks is:'"
      ]
     },
     "metadata": {},
     "output_type": "display_data"
    },
    {
     "data": {
      "text/plain": [
       "0.44404000000000005"
      ]
     },
     "metadata": {},
     "output_type": "display_data"
    },
    {
     "data": {
      "text/html": [
       "<div>\n",
       "<style scoped>\n",
       "    .dataframe tbody tr th:only-of-type {\n",
       "        vertical-align: middle;\n",
       "    }\n",
       "\n",
       "    .dataframe tbody tr th {\n",
       "        vertical-align: top;\n",
       "    }\n",
       "\n",
       "    .dataframe thead th {\n",
       "        text-align: right;\n",
       "    }\n",
       "</style>\n",
       "<table border=\"1\" class=\"dataframe\">\n",
       "  <thead>\n",
       "    <tr style=\"text-align: right;\">\n",
       "      <th></th>\n",
       "      <th>paper_name</th>\n",
       "      <th>position</th>\n",
       "      <th>chunk_text</th>\n",
       "      <th>similarity_score</th>\n",
       "    </tr>\n",
       "  </thead>\n",
       "  <tbody>\n",
       "    <tr>\n",
       "      <th>67</th>\n",
       "      <td>PESDCOMV.pdf</td>\n",
       "      <td>68</td>\n",
       "      <td>and analgesic agents within the first 48 hours between the two groups.  The use of vasopressors was common (77.0%), whereas only one-third of patients received  renal replacement therapy (16.9%) or neuromuscular blockade (27.1%). Among the ICU  support within the first 48 hours, patients in the deep sedation group were more likely to  undergo vasopressor infusions (80.3% vs. 70.4% in the</td>\n",
       "      <td>0.4778</td>\n",
       "    </tr>\n",
       "    <tr>\n",
       "      <th>1</th>\n",
       "      <td>PESDCOMV.pdf</td>\n",
       "      <td>2</td>\n",
       "      <td>and Clinical Outcomes of Mechanically  Ventilated Patients in Korea Received: Nov 4, 2022 Accepted: Jan 31, 2023 Published online: Apr 19, 2023 Address for Correspondence: Chae-Man Lim, MD, PhD, FCCM Department of Pulmonary and Critical Care  Medicine, Asan Medical Center, University of  Ulsan College of Medicine, 88 Olympic-ro 43- gil, Songpa-gu, Seoul 05505, Korea. Email:</td>\n",
       "      <td>0.4469</td>\n",
       "    </tr>\n",
       "    <tr>\n",
       "      <th>50</th>\n",
       "      <td>PESDCOMV.pdf</td>\n",
       "      <td>51</td>\n",
       "      <td>renal replacement therapy, and neuromuscular blockade. Clinical outcomes, including ICU  discharge, ventilator days, and survival status, were also recorded. To determine the impact  of sedation depth, the cohort was divided into two groups (the light and deep sedation).  The primary outcome of this study was time to extubation, ICU length of stay, and in- hospital mortality. Time to extubation was defined as the number of days from initiation</td>\n",
       "      <td>0.4390</td>\n",
       "    </tr>\n",
       "    <tr>\n",
       "      <th>96</th>\n",
       "      <td>PESDCOMV.pdf</td>\n",
       "      <td>97</td>\n",
       "      <td>Length of ventilator support, days 5 (3–11) 3 (2–7) 6 (3–13) &lt; 0.001 Discharge from ICU 555 (87.9) 190 (89.2) 365 (87.3) 0.492 ICU length of stay, days 10 (5–18) 8 (4–15) 10 (6–20) 0.005 Data are reported as median (interquartile range) for continuous variables and number</td>\n",
       "      <td>0.4293</td>\n",
       "    </tr>\n",
       "    <tr>\n",
       "      <th>70</th>\n",
       "      <td>PESDCOMV.pdf</td>\n",
       "      <td>71</td>\n",
       "      <td>692). The proportion of extubation significantly  differs between the two groups (95.3% in the light sedation group vs. 88.0% in the deep  sedation group, P = 0.003). Moreover, a longer duration of ventilator support was observed  5/13 Early Sedation Depth in Korean ICUs https://doi.org/10.3346/jkms.2023.38.e141 https://jkms.org</td>\n",
       "      <td>0.4272</td>\n",
       "    </tr>\n",
       "  </tbody>\n",
       "</table>\n",
       "</div>"
      ],
      "text/plain": [
       "      paper_name  position  \\\n",
       "67  PESDCOMV.pdf        68   \n",
       "1   PESDCOMV.pdf         2   \n",
       "50  PESDCOMV.pdf        51   \n",
       "96  PESDCOMV.pdf        97   \n",
       "70  PESDCOMV.pdf        71   \n",
       "\n",
       "                                                                                                                                                                                                                                                                                                                                                                                                                                                            chunk_text  \\\n",
       "67                                                              and analgesic agents within the first 48 hours between the two groups.  The use of vasopressors was common (77.0%), whereas only one-third of patients received  renal replacement therapy (16.9%) or neuromuscular blockade (27.1%). Among the ICU  support within the first 48 hours, patients in the deep sedation group were more likely to  undergo vasopressor infusions (80.3% vs. 70.4% in the   \n",
       "1                                                                             and Clinical Outcomes of Mechanically  Ventilated Patients in Korea Received: Nov 4, 2022 Accepted: Jan 31, 2023 Published online: Apr 19, 2023 Address for Correspondence: Chae-Man Lim, MD, PhD, FCCM Department of Pulmonary and Critical Care  Medicine, Asan Medical Center, University of  Ulsan College of Medicine, 88 Olympic-ro 43- gil, Songpa-gu, Seoul 05505, Korea. Email:   \n",
       "50    renal replacement therapy, and neuromuscular blockade. Clinical outcomes, including ICU  discharge, ventilator days, and survival status, were also recorded. To determine the impact  of sedation depth, the cohort was divided into two groups (the light and deep sedation).  The primary outcome of this study was time to extubation, ICU length of stay, and in- hospital mortality. Time to extubation was defined as the number of days from initiation    \n",
       "96                                                                                                                                                                                    Length of ventilator support, days 5 (3–11) 3 (2–7) 6 (3–13) < 0.001 Discharge from ICU 555 (87.9) 190 (89.2) 365 (87.3) 0.492 ICU length of stay, days 10 (5–18) 8 (4–15) 10 (6–20) 0.005 Data are reported as median (interquartile range) for continuous variables and number   \n",
       "70                                                                                                                          692). The proportion of extubation significantly  differs between the two groups (95.3% in the light sedation group vs. 88.0% in the deep  sedation group, P = 0.003). Moreover, a longer duration of ventilator support was observed  5/13 Early Sedation Depth in Korean ICUs https://doi.org/10.3346/jkms.2023.38.e141 https://jkms.org   \n",
       "\n",
       "    similarity_score  \n",
       "67            0.4778  \n",
       "1             0.4469  \n",
       "50            0.4390  \n",
       "96            0.4293  \n",
       "70            0.4272  "
      ]
     },
     "metadata": {},
     "output_type": "display_data"
    },
    {
     "name": "stdout",
     "output_type": "stream",
     "text": [
      "\n",
      "Paper 12: LSPA\n"
     ]
    },
    {
     "data": {
      "text/plain": [
       "'Yes, the question of whether early administration of neuromuscular blocking agents increases ventilator free days is relevant to the text chunks provided, as they discuss the use of sedatives, opioids, and neuromuscular blockers in patients with acute respiratory distress syndrome and the potential impact on patient outcomes.'"
      ]
     },
     "metadata": {},
     "output_type": "display_data"
    },
    {
     "data": {
      "text/plain": [
       "'The Avg similarity of the top5chunks is:'"
      ]
     },
     "metadata": {},
     "output_type": "display_data"
    },
    {
     "data": {
      "text/plain": [
       "0.52858"
      ]
     },
     "metadata": {},
     "output_type": "display_data"
    },
    {
     "data": {
      "text/html": [
       "<div>\n",
       "<style scoped>\n",
       "    .dataframe tbody tr th:only-of-type {\n",
       "        vertical-align: middle;\n",
       "    }\n",
       "\n",
       "    .dataframe tbody tr th {\n",
       "        vertical-align: top;\n",
       "    }\n",
       "\n",
       "    .dataframe thead th {\n",
       "        text-align: right;\n",
       "    }\n",
       "</style>\n",
       "<table border=\"1\" class=\"dataframe\">\n",
       "  <thead>\n",
       "    <tr style=\"text-align: right;\">\n",
       "      <th></th>\n",
       "      <th>paper_name</th>\n",
       "      <th>position</th>\n",
       "      <th>chunk_text</th>\n",
       "      <th>similarity_score</th>\n",
       "    </tr>\n",
       "  </thead>\n",
       "  <tbody>\n",
       "    <tr>\n",
       "      <th>87</th>\n",
       "      <td>LSPA.pdf</td>\n",
       "      <td>88</td>\n",
       "      <td>Mehta S, Cook DJ, Skrobik Y, et al. A ventilator strategy combining low tidal volume ventilation,  recruitment maneuvers, and high positive end-expiratory pressure does not increase sedative,  opioid, or neuromuscular blocker use in adults with acute respiratory distress syndrome and may  improve patient comfort. Annals of intensive care. 2014; 4:33. [PubMed: 25593749]  34. Bein T, Grasso</td>\n",
       "      <td>0.5978</td>\n",
       "    </tr>\n",
       "    <tr>\n",
       "      <th>86</th>\n",
       "      <td>LSPA.pdf</td>\n",
       "      <td>87</td>\n",
       "      <td>17629900]  32. Arroliga AC, Thompson BT, Ancukiewicz M, et al. Use of sedatives, opioids, and neuromuscular  blocking agents in patients with acute lung injury and acute respiratory distress syndrome. Critical  care medicine. Apr; 2008 36(4):1083–1088. [PubMed: 18401254]  33. Mehta S, Cook DJ, Skrobik Y, et al. A ventilator</td>\n",
       "      <td>0.5359</td>\n",
       "    </tr>\n",
       "    <tr>\n",
       "      <th>90</th>\n",
       "      <td>LSPA.pdf</td>\n",
       "      <td>91</td>\n",
       "      <td>36. Papazian L, Forel JM, Gacouin A, et al. Neuromuscular blockers in early acute respiratory distress  syndrome. The New England journal of medicine. Sep 16; 2010 363(12):1107–1116. [PubMed:  20843245]  *37. Nigoghossian CD, Dzierba AL, Etheridge J, et al. Effect of Extracorporeal Membrane  Oxygenation</td>\n",
       "      <td>0.5330</td>\n",
       "    </tr>\n",
       "    <tr>\n",
       "      <th>18</th>\n",
       "      <td>LSPA.pdf</td>\n",
       "      <td>19</td>\n",
       "      <td>ventilation compared with usual care.14,15 One of the key benefits to limiting sedation use in patients with ARDS may be improved  ability to participate in early mobilization and rehabilitation.16 Early mobilization is  particularly important in patients with ARDS as over 50% of survivors suffer from deficits  in physical and cognitive function that persist for years beyond the inciting event.12,17–21  Several clinical trials have shown that early mobilization in both medical and surgical  critically ill patients is safe and associated</td>\n",
       "      <td>0.4887</td>\n",
       "    </tr>\n",
       "    <tr>\n",
       "      <th>67</th>\n",
       "      <td>LSPA.pdf</td>\n",
       "      <td>68</td>\n",
       "      <td>. Effect of a nursing-implemented sedation protocol on the  duration of mechanical ventilation. Critical care medicine. Dec; 1999 27(12):2609–2615.  [PubMed: 10628598]  12. Jackson JC, Girard TD, Gordon SM, et al. Long-term cognitive and psychological outcomes in the  awakening and breathing controlled trial. American journal of respiratory and critical care  medicine. Jul 15; 2010 182(2):183–191.</td>\n",
       "      <td>0.4875</td>\n",
       "    </tr>\n",
       "  </tbody>\n",
       "</table>\n",
       "</div>"
      ],
      "text/plain": [
       "   paper_name  position  \\\n",
       "87   LSPA.pdf        88   \n",
       "86   LSPA.pdf        87   \n",
       "90   LSPA.pdf        91   \n",
       "18   LSPA.pdf        19   \n",
       "67   LSPA.pdf        68   \n",
       "\n",
       "                                                                                                                                                                                                                                                                                                                                                                                                                                                                                                                                                         chunk_text  \\\n",
       "87                                                                                                                                                          Mehta S, Cook DJ, Skrobik Y, et al. A ventilator strategy combining low tidal volume ventilation,  recruitment maneuvers, and high positive end-expiratory pressure does not increase sedative,  opioid, or neuromuscular blocker use in adults with acute respiratory distress syndrome and may  improve patient comfort. Annals of intensive care. 2014; 4:33. [PubMed: 25593749]  34. Bein T, Grasso   \n",
       "86                                                                                                                                                                                                                            17629900]  32. Arroliga AC, Thompson BT, Ancukiewicz M, et al. Use of sedatives, opioids, and neuromuscular  blocking agents in patients with acute lung injury and acute respiratory distress syndrome. Critical  care medicine. Apr; 2008 36(4):1083–1088. [PubMed: 18401254]  33. Mehta S, Cook DJ, Skrobik Y, et al. A ventilator   \n",
       "90                                                                                                                                                                                                                                                 36. Papazian L, Forel JM, Gacouin A, et al. Neuromuscular blockers in early acute respiratory distress  syndrome. The New England journal of medicine. Sep 16; 2010 363(12):1107–1116. [PubMed:  20843245]  *37. Nigoghossian CD, Dzierba AL, Etheridge J, et al. Effect of Extracorporeal Membrane  Oxygenation   \n",
       "18   ventilation compared with usual care.14,15 One of the key benefits to limiting sedation use in patients with ARDS may be improved  ability to participate in early mobilization and rehabilitation.16 Early mobilization is  particularly important in patients with ARDS as over 50% of survivors suffer from deficits  in physical and cognitive function that persist for years beyond the inciting event.12,17–21  Several clinical trials have shown that early mobilization in both medical and surgical  critically ill patients is safe and associated   \n",
       "67                                                                                                                                                 . Effect of a nursing-implemented sedation protocol on the  duration of mechanical ventilation. Critical care medicine. Dec; 1999 27(12):2609–2615.  [PubMed: 10628598]  12. Jackson JC, Girard TD, Gordon SM, et al. Long-term cognitive and psychological outcomes in the  awakening and breathing controlled trial. American journal of respiratory and critical care  medicine. Jul 15; 2010 182(2):183–191.   \n",
       "\n",
       "    similarity_score  \n",
       "87            0.5978  \n",
       "86            0.5359  \n",
       "90            0.5330  \n",
       "18            0.4887  \n",
       "67            0.4875  "
      ]
     },
     "metadata": {},
     "output_type": "display_data"
    },
    {
     "name": "stdout",
     "output_type": "stream",
     "text": [
      "\n",
      "Paper 13: NBSARDS\n"
     ]
    },
    {
     "data": {
      "text/plain": [
       "'Yes, the question is relevant to the text chunks as they discuss the use of neuromuscular blockade in patients with acute respiratory distress syndrome (ARDS) to facilitate mechanical ventilation.'"
      ]
     },
     "metadata": {},
     "output_type": "display_data"
    },
    {
     "data": {
      "text/plain": [
       "'The Avg similarity of the top5chunks is:'"
      ]
     },
     "metadata": {},
     "output_type": "display_data"
    },
    {
     "data": {
      "text/plain": [
       "0.5119"
      ]
     },
     "metadata": {},
     "output_type": "display_data"
    },
    {
     "data": {
      "text/html": [
       "<div>\n",
       "<style scoped>\n",
       "    .dataframe tbody tr th:only-of-type {\n",
       "        vertical-align: middle;\n",
       "    }\n",
       "\n",
       "    .dataframe tbody tr th {\n",
       "        vertical-align: top;\n",
       "    }\n",
       "\n",
       "    .dataframe thead th {\n",
       "        text-align: right;\n",
       "    }\n",
       "</style>\n",
       "<table border=\"1\" class=\"dataframe\">\n",
       "  <thead>\n",
       "    <tr style=\"text-align: right;\">\n",
       "      <th></th>\n",
       "      <th>paper_name</th>\n",
       "      <th>position</th>\n",
       "      <th>chunk_text</th>\n",
       "      <th>similarity_score</th>\n",
       "    </tr>\n",
       "  </thead>\n",
       "  <tbody>\n",
       "    <tr>\n",
       "      <th>4</th>\n",
       "      <td>NBSARDS.pdf</td>\n",
       "      <td>5</td>\n",
       "      <td>-protective ventilator strategies and patient–ventilator synchrony were cited as the most important reasons, followed by the results of the ACURASYS trial and facilitating prone positioning. CONCLUSIONS: We conclude that NMB is frequently used by academic intensivists to facilitate mechanical ventilation in patients with moderate to severe ARDS. Key words: neuromuscular blockade; acute respiratory distress syndrome; survey; intensivist; ACURASYS trial; lung-protective ventilation;</td>\n",
       "      <td>0.5318</td>\n",
       "    </tr>\n",
       "    <tr>\n",
       "      <th>24</th>\n",
       "      <td>NBSARDS.pdf</td>\n",
       "      <td>25</td>\n",
       "      <td>neuromuscular blockade (NMB) is commonly used to treat patients with ARDS. The ACURASYS trial demonstrated improved adjusted 90-day survival in pa- tients with ARDS who received a fixed NMB, but NMB has been used prior to publication of the ACURASYS results to facilitate mechanical ventilation. What this paper contributes to our knowledge Our web-based survey, completed by participants at 48 academic institutions, showed that a very high pro- portion of academic intens</td>\n",
       "      <td>0.5219</td>\n",
       "    </tr>\n",
       "    <tr>\n",
       "      <th>0</th>\n",
       "      <td>NBSARDS.pdf</td>\n",
       "      <td>1</td>\n",
       "      <td>A Survey of Academic Intensivists’ Use of Neuromuscular Blockade in Subjects With ARDS Neal N Dodia, Mary E Richert, Andrew R Deitchman, Charlene C Quinn, Ellen T Marciniak, Clayton H Brown, Michael L Terrin, Diana E Amariei, Carl B Shanholtz, and Jeffrey D Hasday BACKGROUND: Our Cooling to Help Injured Lungs (CHILL) trial of therapeutic hypothermia</td>\n",
       "      <td>0.5107</td>\n",
       "    </tr>\n",
       "    <tr>\n",
       "      <th>77</th>\n",
       "      <td>NBSARDS.pdf</td>\n",
       "      <td>78</td>\n",
       "      <td>consideration in deciding to use NMB in such patients is to facilitate lung-protective mechanical ventilation and prevent patient-ventilator asynchrony. Most intensivists adjust the dose of NMB agent based on monitoring response to neural stimulation or achieving ventilator synchrony. REFERENCES 1. Li G, Malinchoc M, Cartin-Ceba R, Venkata CV, Kor DJ, Peters SG, et al. Eight-year trend of acute respiratory distress</td>\n",
       "      <td>0.4988</td>\n",
       "    </tr>\n",
       "    <tr>\n",
       "      <th>87</th>\n",
       "      <td>NBSARDS.pdf</td>\n",
       "      <td>88</td>\n",
       "      <td>Papazian L, Forel JM, Gacouin A, Penot-Ragon C, Perrin G, Loun- dou A, et al; ACURASYS Study Investigators. Neuromuscular block- ers in early acute respiratory distress syndrome. N Engl J Med 2010; 363(12):1107-1116. 14. Guerin C, Reignier J, Richard JC, Beuret P, Gacouin A, B</td>\n",
       "      <td>0.4963</td>\n",
       "    </tr>\n",
       "  </tbody>\n",
       "</table>\n",
       "</div>"
      ],
      "text/plain": [
       "     paper_name  position  \\\n",
       "4   NBSARDS.pdf         5   \n",
       "24  NBSARDS.pdf        25   \n",
       "0   NBSARDS.pdf         1   \n",
       "77  NBSARDS.pdf        78   \n",
       "87  NBSARDS.pdf        88   \n",
       "\n",
       "                                                                                                                                                                                                                                                                                                                                                                                                                                                                                               chunk_text  \\\n",
       "4   -protective ventilator strategies and patient–ventilator synchrony were cited as the most important reasons, followed by the results of the ACURASYS trial and facilitating prone positioning. CONCLUSIONS: We conclude that NMB is frequently used by academic intensivists to facilitate mechanical ventilation in patients with moderate to severe ARDS. Key words: neuromuscular blockade; acute respiratory distress syndrome; survey; intensivist; ACURASYS trial; lung-protective ventilation;   \n",
       "24              neuromuscular blockade (NMB) is commonly used to treat patients with ARDS. The ACURASYS trial demonstrated improved adjusted 90-day survival in pa- tients with ARDS who received a fixed NMB, but NMB has been used prior to publication of the ACURASYS results to facilitate mechanical ventilation. What this paper contributes to our knowledge Our web-based survey, completed by participants at 48 academic institutions, showed that a very high pro- portion of academic intens   \n",
       "0                                                                                                                                         A Survey of Academic Intensivists’ Use of Neuromuscular Blockade in Subjects With ARDS Neal N Dodia, Mary E Richert, Andrew R Deitchman, Charlene C Quinn, Ellen T Marciniak, Clayton H Brown, Michael L Terrin, Diana E Amariei, Carl B Shanholtz, and Jeffrey D Hasday BACKGROUND: Our Cooling to Help Injured Lungs (CHILL) trial of therapeutic hypothermia   \n",
       "77                                                                     consideration in deciding to use NMB in such patients is to facilitate lung-protective mechanical ventilation and prevent patient-ventilator asynchrony. Most intensivists adjust the dose of NMB agent based on monitoring response to neural stimulation or achieving ventilator synchrony. REFERENCES 1. Li G, Malinchoc M, Cartin-Ceba R, Venkata CV, Kor DJ, Peters SG, et al. Eight-year trend of acute respiratory distress   \n",
       "87                                                                                                                                                                                                                  Papazian L, Forel JM, Gacouin A, Penot-Ragon C, Perrin G, Loun- dou A, et al; ACURASYS Study Investigators. Neuromuscular block- ers in early acute respiratory distress syndrome. N Engl J Med 2010; 363(12):1107-1116. 14. Guerin C, Reignier J, Richard JC, Beuret P, Gacouin A, B   \n",
       "\n",
       "    similarity_score  \n",
       "4             0.5318  \n",
       "24            0.5219  \n",
       "0             0.5107  \n",
       "77            0.4988  \n",
       "87            0.4963  "
      ]
     },
     "metadata": {},
     "output_type": "display_data"
    },
    {
     "name": "stdout",
     "output_type": "stream",
     "text": [
      "\n",
      "Paper 14: TOF-ARDS\n"
     ]
    },
    {
     "data": {
      "text/plain": [
       "'Yes, the question of whether early administration of neuromuscular blocking agents increases ventilator free days is relevant to the text chunks as they discuss the administration and effects of neuromuscular blocking agents in patients with ARDS.'"
      ]
     },
     "metadata": {},
     "output_type": "display_data"
    },
    {
     "data": {
      "text/plain": [
       "'The Avg similarity of the top5chunks is:'"
      ]
     },
     "metadata": {},
     "output_type": "display_data"
    },
    {
     "data": {
      "text/plain": [
       "0.54564"
      ]
     },
     "metadata": {},
     "output_type": "display_data"
    },
    {
     "data": {
      "text/html": [
       "<div>\n",
       "<style scoped>\n",
       "    .dataframe tbody tr th:only-of-type {\n",
       "        vertical-align: middle;\n",
       "    }\n",
       "\n",
       "    .dataframe tbody tr th {\n",
       "        vertical-align: top;\n",
       "    }\n",
       "\n",
       "    .dataframe thead th {\n",
       "        text-align: right;\n",
       "    }\n",
       "</style>\n",
       "<table border=\"1\" class=\"dataframe\">\n",
       "  <thead>\n",
       "    <tr style=\"text-align: right;\">\n",
       "      <th></th>\n",
       "      <th>paper_name</th>\n",
       "      <th>position</th>\n",
       "      <th>chunk_text</th>\n",
       "      <th>similarity_score</th>\n",
       "    </tr>\n",
       "  </thead>\n",
       "  <tbody>\n",
       "    <tr>\n",
       "      <th>7</th>\n",
       "      <td>TOF-ARDS.pdf</td>\n",
       "      <td>8</td>\n",
       "      <td>period (p &lt; 0.001). A profound neuromuscular block (TOF = 0, twitches at the ulnar site) was obtained  from the first hour in 70% of patients. Modification of the cisatracurium dosage was not performed from the begin‑ ning to the end of the study in 60% of patients. Patient–ventilator asynchronies occurred in 4 patients. Conclusion:  A nurse-driven protocol based</td>\n",
       "      <td>0.6070</td>\n",
       "    </tr>\n",
       "    <tr>\n",
       "      <th>1</th>\n",
       "      <td>TOF-ARDS.pdf</td>\n",
       "      <td>2</td>\n",
       "      <td>1, Christophe Guervilly1, Romain Rambaud1, Samuel Lehingue1,  Mélanie Adda1, Pierre Sylla1, Sabine Valera1, Julien Carvelli2, Marc Gainnier2, Laurent Papazian1   and Jérémy Bourenne2 Abstract  Background:  Neuromuscular blocking agents (N</td>\n",
       "      <td>0.5636</td>\n",
       "    </tr>\n",
       "    <tr>\n",
       "      <th>8</th>\n",
       "      <td>TOF-ARDS.pdf</td>\n",
       "      <td>9</td>\n",
       "      <td>ilator asynchronies occurred in 4 patients. Conclusion:  A nurse-driven protocol based on TOF monitoring for NMBA administration in ARDS patients was able  to decrease cisatracurium consumption without significantly affecting the quality of the neuromuscular block. Keywords:  ARDS, Neuromuscular blockers, Cisatracurium, Train-of-four, Cost © The Author(s) 2017. This article is distributed under the terms</td>\n",
       "      <td>0.5234</td>\n",
       "    </tr>\n",
       "    <tr>\n",
       "      <th>74</th>\n",
       "      <td>TOF-ARDS.pdf</td>\n",
       "      <td>75</td>\n",
       "      <td>. Moreover, in most  cases, an effective neuromuscular block was obtained  starting from the first hour, and modification of posology  was not needed in 60% of patients. In ARDS, the reduction in sedation posology and the  algorithm-based management of sedation permitted a  reduction in mortality [21]. In 2004, Baumann et al. [13]  concluded that TOF monitoring had no effect either  on NMBA consumption or on recovery time</td>\n",
       "      <td>0.5204</td>\n",
       "    </tr>\n",
       "    <tr>\n",
       "      <th>27</th>\n",
       "      <td>TOF-ARDS.pdf</td>\n",
       "      <td>28</td>\n",
       "      <td>ACURASYS study protocol (i.e., 37.5 mg/h  with a constant dosage and no monitoring of neuromus- cular block). The secondary objectives were to assess the effective- ness of neuromuscular block, the rate of dosage modifi- cations of cisatracurium, the number of NMBA boluses  needed, and the complications observed such as clinically  detectable patient-to-ventilator asynchronies. The</td>\n",
       "      <td>0.5138</td>\n",
       "    </tr>\n",
       "  </tbody>\n",
       "</table>\n",
       "</div>"
      ],
      "text/plain": [
       "      paper_name  position  \\\n",
       "7   TOF-ARDS.pdf         8   \n",
       "1   TOF-ARDS.pdf         2   \n",
       "8   TOF-ARDS.pdf         9   \n",
       "74  TOF-ARDS.pdf        75   \n",
       "27  TOF-ARDS.pdf        28   \n",
       "\n",
       "                                                                                                                                                                                                                                                                                                                                                                                                                                   chunk_text  \\\n",
       "7                                                               period (p < 0.001). A profound neuromuscular block (TOF = 0, twitches at the ulnar site) was obtained  from the first hour in 70% of patients. Modification of the cisatracurium dosage was not performed from the begin‑ ning to the end of the study in 60% of patients. Patient–ventilator asynchronies occurred in 4 patients. Conclusion:  A nurse-driven protocol based   \n",
       "1                                                                                                                                                                                              1, Christophe Guervilly1, Romain Rambaud1, Samuel Lehingue1,  Mélanie Adda1, Pierre Sylla1, Sabine Valera1, Julien Carvelli2, Marc Gainnier2, Laurent Papazian1   and Jérémy Bourenne2 Abstract  Background:  Neuromuscular blocking agents (N   \n",
       "8                     ilator asynchronies occurred in 4 patients. Conclusion:  A nurse-driven protocol based on TOF monitoring for NMBA administration in ARDS patients was able  to decrease cisatracurium consumption without significantly affecting the quality of the neuromuscular block. Keywords:  ARDS, Neuromuscular blockers, Cisatracurium, Train-of-four, Cost © The Author(s) 2017. This article is distributed under the terms   \n",
       "74  . Moreover, in most  cases, an effective neuromuscular block was obtained  starting from the first hour, and modification of posology  was not needed in 60% of patients. In ARDS, the reduction in sedation posology and the  algorithm-based management of sedation permitted a  reduction in mortality [21]. In 2004, Baumann et al. [13]  concluded that TOF monitoring had no effect either  on NMBA consumption or on recovery time   \n",
       "27                                           ACURASYS study protocol (i.e., 37.5 mg/h  with a constant dosage and no monitoring of neuromus- cular block). The secondary objectives were to assess the effective- ness of neuromuscular block, the rate of dosage modifi- cations of cisatracurium, the number of NMBA boluses  needed, and the complications observed such as clinically  detectable patient-to-ventilator asynchronies. The   \n",
       "\n",
       "    similarity_score  \n",
       "7             0.6070  \n",
       "1             0.5636  \n",
       "8             0.5234  \n",
       "74            0.5204  \n",
       "27            0.5138  "
      ]
     },
     "metadata": {},
     "output_type": "display_data"
    },
    {
     "name": "stdout",
     "output_type": "stream",
     "text": [
      "\n",
      "Paper 15: EDPMARDSLPMV\n"
     ]
    },
    {
     "data": {
      "text/plain": [
       "'No.'"
      ]
     },
     "metadata": {},
     "output_type": "display_data"
    },
    {
     "data": {
      "text/plain": [
       "'The Avg similarity of the top5chunks is:'"
      ]
     },
     "metadata": {},
     "output_type": "display_data"
    },
    {
     "data": {
      "text/plain": [
       "0.49792000000000003"
      ]
     },
     "metadata": {},
     "output_type": "display_data"
    },
    {
     "data": {
      "text/html": [
       "<div>\n",
       "<style scoped>\n",
       "    .dataframe tbody tr th:only-of-type {\n",
       "        vertical-align: middle;\n",
       "    }\n",
       "\n",
       "    .dataframe tbody tr th {\n",
       "        vertical-align: top;\n",
       "    }\n",
       "\n",
       "    .dataframe thead th {\n",
       "        text-align: right;\n",
       "    }\n",
       "</style>\n",
       "<table border=\"1\" class=\"dataframe\">\n",
       "  <thead>\n",
       "    <tr style=\"text-align: right;\">\n",
       "      <th></th>\n",
       "      <th>paper_name</th>\n",
       "      <th>position</th>\n",
       "      <th>chunk_text</th>\n",
       "      <th>similarity_score</th>\n",
       "    </tr>\n",
       "  </thead>\n",
       "  <tbody>\n",
       "    <tr>\n",
       "      <th>44</th>\n",
       "      <td>EDPMARDSLPMV.pdf</td>\n",
       "      <td>45</td>\n",
       "      <td>BA neuromuscular blocking agent Guérin et al. Critical Care  (2016) 20:384  Page 3 of 9</td>\n",
       "      <td>0.5812</td>\n",
       "    </tr>\n",
       "    <tr>\n",
       "      <th>99</th>\n",
       "      <td>EDPMARDSLPMV.pdf</td>\n",
       "      <td>100</td>\n",
       "      <td>Engl J Med. 2015;372(8):747–55. 4. Papazian L, Forel JM, Gacouin A, Penot-Ragon C, Perrin G, Loundou A, Jaber S, Arnal JM, Perez D, Seghboyan JM, et al. Neuromuscular blockers in early acute respiratory distress syndrome. N Engl J Med. 2010;363(12):1107–16. 5.</td>\n",
       "      <td>0.5563</td>\n",
       "    </tr>\n",
       "    <tr>\n",
       "      <th>79</th>\n",
       "      <td>EDPMARDSLPMV.pdf</td>\n",
       "      <td>80</td>\n",
       "      <td>ventilator settings used and the present results were highly significant. Clinical implications The main clinical message from our data is that if VT and Pplat,rs are strictly maintained to 6 ml/kg pre- dicted body weight and below 28–30 cmH2O, ΔPrs shares the same information as Pplat,rs about the association with day 90-mortality. Management of patients with ARDS is an ongoing process that com- bines physiologic [14] and</td>\n",
       "      <td>0.4785</td>\n",
       "    </tr>\n",
       "    <tr>\n",
       "      <th>18</th>\n",
       "      <td>EDPMARDSLPMV.pdf</td>\n",
       "      <td>19</td>\n",
       "      <td>death, just like compliance (Crs) or Pplat,rs. Methods This is a secondary analysis of patients enrolled in two previously published randomized controlled trials, namely Acurasys [4] and Proseva [5]. The first trial com- pared the neuromuscular blocking agent (NMBA) cisa- tracurium to placebo and the second compared the prone to the supine position. Both had similar inclusion criteria (notably early ARDS and partial pressure</td>\n",
       "      <td>0.4466</td>\n",
       "    </tr>\n",
       "    <tr>\n",
       "      <th>22</th>\n",
       "      <td>EDPMARDSLPMV.pdf</td>\n",
       "      <td>23</td>\n",
       "      <td>and simplified acute physiology score (SAPS) II recorded at the time of admission and compared between survivors and nonsurvivors at day 90. The allo- cation assignment in the two trials was entered as prede- fined covariates into the models. Furthermore, as recent experimental data suggest that the amount of energy transferred from the ventilator into the lung may be a contributing factor to ventilator-induced lung injury (VILI) [7], we computed the mechanical</td>\n",
       "      <td>0.4270</td>\n",
       "    </tr>\n",
       "  </tbody>\n",
       "</table>\n",
       "</div>"
      ],
      "text/plain": [
       "          paper_name  position  \\\n",
       "44  EDPMARDSLPMV.pdf        45   \n",
       "99  EDPMARDSLPMV.pdf       100   \n",
       "79  EDPMARDSLPMV.pdf        80   \n",
       "18  EDPMARDSLPMV.pdf        19   \n",
       "22  EDPMARDSLPMV.pdf        23   \n",
       "\n",
       "                                                                                                                                                                                                                                                                                                                                                                                                                                                                            chunk_text  \\\n",
       "44                                                                                                                                                                                                                                                                                                                                                                                             BA neuromuscular blocking agent Guérin et al. Critical Care  (2016) 20:384  Page 3 of 9   \n",
       "99                                                                                                                                                                                                                Engl J Med. 2015;372(8):747–55. 4. Papazian L, Forel JM, Gacouin A, Penot-Ragon C, Perrin G, Loundou A, Jaber S, Arnal JM, Perez D, Seghboyan JM, et al. Neuromuscular blockers in early acute respiratory distress syndrome. N Engl J Med. 2010;363(12):1107–16. 5.   \n",
       "79                                          ventilator settings used and the present results were highly significant. Clinical implications The main clinical message from our data is that if VT and Pplat,rs are strictly maintained to 6 ml/kg pre- dicted body weight and below 28–30 cmH2O, ΔPrs shares the same information as Pplat,rs about the association with day 90-mortality. Management of patients with ARDS is an ongoing process that com- bines physiologic [14] and   \n",
       "18                                        death, just like compliance (Crs) or Pplat,rs. Methods This is a secondary analysis of patients enrolled in two previously published randomized controlled trials, namely Acurasys [4] and Proseva [5]. The first trial com- pared the neuromuscular blocking agent (NMBA) cisa- tracurium to placebo and the second compared the prone to the supine position. Both had similar inclusion criteria (notably early ARDS and partial pressure   \n",
       "22   and simplified acute physiology score (SAPS) II recorded at the time of admission and compared between survivors and nonsurvivors at day 90. The allo- cation assignment in the two trials was entered as prede- fined covariates into the models. Furthermore, as recent experimental data suggest that the amount of energy transferred from the ventilator into the lung may be a contributing factor to ventilator-induced lung injury (VILI) [7], we computed the mechanical   \n",
       "\n",
       "    similarity_score  \n",
       "44            0.5812  \n",
       "99            0.5563  \n",
       "79            0.4785  \n",
       "18            0.4466  \n",
       "22            0.4270  "
      ]
     },
     "metadata": {},
     "output_type": "display_data"
    },
    {
     "name": "stdout",
     "output_type": "stream",
     "text": [
      "\n",
      "Paper 16: ARDSSRDRFMS\n"
     ]
    },
    {
     "data": {
      "text/plain": [
       "'Yes, the question is relevant as it discusses the impact of fluid management strategy on ventilator-free days, which is also mentioned in the text chunks.'"
      ]
     },
     "metadata": {},
     "output_type": "display_data"
    },
    {
     "data": {
      "text/plain": [
       "'The Avg similarity of the top5chunks is:'"
      ]
     },
     "metadata": {},
     "output_type": "display_data"
    },
    {
     "data": {
      "text/plain": [
       "0.42160000000000003"
      ]
     },
     "metadata": {},
     "output_type": "display_data"
    },
    {
     "data": {
      "text/html": [
       "<div>\n",
       "<style scoped>\n",
       "    .dataframe tbody tr th:only-of-type {\n",
       "        vertical-align: middle;\n",
       "    }\n",
       "\n",
       "    .dataframe tbody tr th {\n",
       "        vertical-align: top;\n",
       "    }\n",
       "\n",
       "    .dataframe thead th {\n",
       "        text-align: right;\n",
       "    }\n",
       "</style>\n",
       "<table border=\"1\" class=\"dataframe\">\n",
       "  <thead>\n",
       "    <tr style=\"text-align: right;\">\n",
       "      <th></th>\n",
       "      <th>paper_name</th>\n",
       "      <th>position</th>\n",
       "      <th>chunk_text</th>\n",
       "      <th>similarity_score</th>\n",
       "    </tr>\n",
       "  </thead>\n",
       "  <tbody>\n",
       "    <tr>\n",
       "      <th>87</th>\n",
       "      <td>ARDSSRDRFMS.pdf</td>\n",
       "      <td>88</td>\n",
       "      <td>�uid-liberal versus a ﬂuid- conservative approach, although those subjects randomized to ﬂuid-conservative therapy had more ventilator-free days (8). As a result, a ﬂuid-conservative approach has been recommended for all patients with ARDS once shock has resolved (17). Our ﬁndings, however, suggest that there may be heterogeneity of treatment effects of ﬂuid-management strategy in ARDS (18). Subjects in subp</td>\n",
       "      <td>0.4654</td>\n",
       "    </tr>\n",
       "    <tr>\n",
       "      <th>63</th>\n",
       "      <td>ARDSSRDRFMS.pdf</td>\n",
       "      <td>64</td>\n",
       "      <td>in the ﬂuid-liberal group. A similar interaction was found for 60-day mortality (P = 0.0093). There was no signiﬁcant interaction between subphenotype and ﬂuid-management strategy for ventilator-free days (P = 0.35). 0  10  20  30  40  50  60  70  80  90  100  Women Vasopressor Use White Proportion of Subjects (%)  Sub</td>\n",
       "      <td>0.4485</td>\n",
       "    </tr>\n",
       "    <tr>\n",
       "      <th>14</th>\n",
       "      <td>ARDSSRDRFMS.pdf</td>\n",
       "      <td>15</td>\n",
       "      <td>, San Francisco, CA 94143- 0111. E-mail: carolyn.calfee@ucsf.edu This article has an online supplement, which is accessible from this issue’s table of contents at www.atsjournals.org Am J Respir Crit Care Med Vol 195, Iss 3, pp 331–338, Feb 1, 2017 Copyright © 2017 by the American Thoracic Society Originally Published in Press as DOI: 10.1164/rccm</td>\n",
       "      <td>0.4007</td>\n",
       "    </tr>\n",
       "    <tr>\n",
       "      <th>60</th>\n",
       "      <td>ARDSSRDRFMS.pdf</td>\n",
       "      <td>61</td>\n",
       "      <td>higher 60-day mortality (44% vs. 21%; P , 0.0001), higher 90-day mortality (45% vs. 22%; P , 0.0001), and fewer ventilator-free days (8.8 vs. 15; P , 0.0001) (Table 3), compared with those assigned to subphenotype 1. These ﬁndings were similar to our prior work (3). ARDS Subphenotypes Respond Differentially to Fluid Management Strategy</td>\n",
       "      <td>0.3979</td>\n",
       "    </tr>\n",
       "    <tr>\n",
       "      <th>89</th>\n",
       "      <td>ARDSSRDRFMS.pdf</td>\n",
       "      <td>90</td>\n",
       "      <td>and predilection for extravascular ﬂuid accumulation that responds favorably to ﬂuid restriction, whereas ﬂuid restriction in subphenotype 1 may lead to decreased intravascular volume, oxygen delivery, and perfusion. Although patients in subphenotype 2 had fewer ventilator-free days than those in subphenotype 1, there was not a signiﬁcant interaction between ﬂuid-management strategy and subphenotype for this outcome</td>\n",
       "      <td>0.3955</td>\n",
       "    </tr>\n",
       "  </tbody>\n",
       "</table>\n",
       "</div>"
      ],
      "text/plain": [
       "         paper_name  position  \\\n",
       "87  ARDSSRDRFMS.pdf        88   \n",
       "63  ARDSSRDRFMS.pdf        64   \n",
       "14  ARDSSRDRFMS.pdf        15   \n",
       "60  ARDSSRDRFMS.pdf        61   \n",
       "89  ARDSSRDRFMS.pdf        90   \n",
       "\n",
       "                                                                                                                                                                                                                                                                                                                                                                                                                              chunk_text  \\\n",
       "87           �uid-liberal versus a ﬂuid- conservative approach, although those subjects randomized to ﬂuid-conservative therapy had more ventilator-free days (8). As a result, a ﬂuid-conservative approach has been recommended for all patients with ARDS once shock has resolved (17). Our ﬁndings, however, suggest that there may be heterogeneity of treatment effects of ﬂuid-management strategy in ARDS (18). Subjects in subp   \n",
       "63                                                                                                      in the ﬂuid-liberal group. A similar interaction was found for 60-day mortality (P = 0.0093). There was no signiﬁcant interaction between subphenotype and ﬂuid-management strategy for ventilator-free days (P = 0.35). 0  10  20  30  40  50  60  70  80  90  100  Women Vasopressor Use White Proportion of Subjects (%)  Sub   \n",
       "14                                                                         , San Francisco, CA 94143- 0111. E-mail: carolyn.calfee@ucsf.edu This article has an online supplement, which is accessible from this issue’s table of contents at www.atsjournals.org Am J Respir Crit Care Med Vol 195, Iss 3, pp 331–338, Feb 1, 2017 Copyright © 2017 by the American Thoracic Society Originally Published in Press as DOI: 10.1164/rccm   \n",
       "60                                                                                     higher 60-day mortality (44% vs. 21%; P , 0.0001), higher 90-day mortality (45% vs. 22%; P , 0.0001), and fewer ventilator-free days (8.8 vs. 15; P , 0.0001) (Table 3), compared with those assigned to subphenotype 1. These ﬁndings were similar to our prior work (3). ARDS Subphenotypes Respond Differentially to Fluid Management Strategy   \n",
       "89   and predilection for extravascular ﬂuid accumulation that responds favorably to ﬂuid restriction, whereas ﬂuid restriction in subphenotype 1 may lead to decreased intravascular volume, oxygen delivery, and perfusion. Although patients in subphenotype 2 had fewer ventilator-free days than those in subphenotype 1, there was not a signiﬁcant interaction between ﬂuid-management strategy and subphenotype for this outcome   \n",
       "\n",
       "    similarity_score  \n",
       "87            0.4654  \n",
       "63            0.4485  \n",
       "14            0.4007  \n",
       "60            0.3979  \n",
       "89            0.3955  "
      ]
     },
     "metadata": {},
     "output_type": "display_data"
    },
    {
     "name": "stdout",
     "output_type": "stream",
     "text": [
      "\n",
      "Paper 17: FMWSCPARDS\n"
     ]
    },
    {
     "data": {
      "text/plain": [
       "'Yes, the question is relevant as it mentions ventilator-free days in the text chunks.'"
      ]
     },
     "metadata": {},
     "output_type": "display_data"
    },
    {
     "data": {
      "text/plain": [
       "'The Avg similarity of the top5chunks is:'"
      ]
     },
     "metadata": {},
     "output_type": "display_data"
    },
    {
     "data": {
      "text/plain": [
       "0.45382"
      ]
     },
     "metadata": {},
     "output_type": "display_data"
    },
    {
     "data": {
      "text/html": [
       "<div>\n",
       "<style scoped>\n",
       "    .dataframe tbody tr th:only-of-type {\n",
       "        vertical-align: middle;\n",
       "    }\n",
       "\n",
       "    .dataframe tbody tr th {\n",
       "        vertical-align: top;\n",
       "    }\n",
       "\n",
       "    .dataframe thead th {\n",
       "        text-align: right;\n",
       "    }\n",
       "</style>\n",
       "<table border=\"1\" class=\"dataframe\">\n",
       "  <thead>\n",
       "    <tr style=\"text-align: right;\">\n",
       "      <th></th>\n",
       "      <th>paper_name</th>\n",
       "      <th>position</th>\n",
       "      <th>chunk_text</th>\n",
       "      <th>similarity_score</th>\n",
       "    </tr>\n",
       "  </thead>\n",
       "  <tbody>\n",
       "    <tr>\n",
       "      <th>52</th>\n",
       "      <td>FMWSCPARDS.pdf</td>\n",
       "      <td>53</td>\n",
       "      <td>ventilator-free days (p = 0.61), and FACTT Lite had higher ventilator-free days than FACTT  Liberal (p &lt; 0.001) (Table 3). Similarly, FACTT Lite had the same ICU-free days as  FACTT Conservative and more than FACTT Liberal (p &lt; 0.001). Prevalence of new onset  shock was lower in the FACTT Lite group than in the FACT</td>\n",
       "      <td>0.4991</td>\n",
       "    </tr>\n",
       "    <tr>\n",
       "      <th>32</th>\n",
       "      <td>FMWSCPARDS.pdf</td>\n",
       "      <td>33</td>\n",
       "      <td>fluid output. The primary outcome was cumulative fluid balance over 7 days. In a sensitivity analysis, we  excluded subjects in shock at baseline. We defined shock as receiving vasopressors to  support blood pressure. Secondary outcomes included daily fluid balance, mean daily  furosemide dose, ventilator-free days, and ICU-free days. Ventilator-free days are days alive  and free from mechanical ventilation through day 28 (7). ICU-free days</td>\n",
       "      <td>0.4706</td>\n",
       "    </tr>\n",
       "    <tr>\n",
       "      <th>57</th>\n",
       "      <td>FMWSCPARDS.pdf</td>\n",
       "      <td>58</td>\n",
       "      <td>U-free  days, and mortality as FACTT Conservative and significantly greater ventilator-free days  and ICU-free days than FACTT Liberal. Evaluation of daily fluid balance provides insight into the differences in cumulative fluid  balance. FACTT Lite daily fluid balance was significantly greater on days 1 and 2 than  FACTT Conservative but was the same on days 3–7. Greater baseline shock in the FACTT  Lite group does not explain the observed increase in</td>\n",
       "      <td>0.4577</td>\n",
       "    </tr>\n",
       "    <tr>\n",
       "      <th>56</th>\n",
       "      <td>FMWSCPARDS.pdf</td>\n",
       "      <td>57</td>\n",
       "      <td>significantly lower  cumulative fluid balance by 5,074 mL over 7 days than FACTT Liberal. In subjects without  baseline shock, in whom the fluid protocol was applied throughout the duration of the study,  management with FACTT Lite resulted in an equivalent cumulative fluid balance to FACTT  Conservative. FACTT Lite had similar clinical outcomes of ventilator-free days, ICU-free  days, and mortality as FACTT Conservative and significantly greater ventilator-</td>\n",
       "      <td>0.4242</td>\n",
       "    </tr>\n",
       "    <tr>\n",
       "      <th>74</th>\n",
       "      <td>FMWSCPARDS.pdf</td>\n",
       "      <td>75</td>\n",
       "      <td>be easily understood and implemented by  physician and nursing staff in the ICU. Conclusions Although the FACTT Lite protocol had a greater cumulative fluid balance than FACTT  Conservative, the results of our study indicate that the FACTT Lite protocol is safe and has  equivalent ventilator-free days, ICU-free days, acute kidney injury, and adjusted 60-day  mortality to FACTT Conservative. FACTT Conservative has improved ventilator-free days,</td>\n",
       "      <td>0.4175</td>\n",
       "    </tr>\n",
       "  </tbody>\n",
       "</table>\n",
       "</div>"
      ],
      "text/plain": [
       "        paper_name  position  \\\n",
       "52  FMWSCPARDS.pdf        53   \n",
       "32  FMWSCPARDS.pdf        33   \n",
       "57  FMWSCPARDS.pdf        58   \n",
       "56  FMWSCPARDS.pdf        57   \n",
       "74  FMWSCPARDS.pdf        75   \n",
       "\n",
       "                                                                                                                                                                                                                                                                                                                                                                                                                                                                         chunk_text  \\\n",
       "52                                                                                                                                                    ventilator-free days (p = 0.61), and FACTT Lite had higher ventilator-free days than FACTT  Liberal (p < 0.001) (Table 3). Similarly, FACTT Lite had the same ICU-free days as  FACTT Conservative and more than FACTT Liberal (p < 0.001). Prevalence of new onset  shock was lower in the FACTT Lite group than in the FACT   \n",
       "32                     fluid output. The primary outcome was cumulative fluid balance over 7 days. In a sensitivity analysis, we  excluded subjects in shock at baseline. We defined shock as receiving vasopressors to  support blood pressure. Secondary outcomes included daily fluid balance, mean daily  furosemide dose, ventilator-free days, and ICU-free days. Ventilator-free days are days alive  and free from mechanical ventilation through day 28 (7). ICU-free days   \n",
       "57          U-free  days, and mortality as FACTT Conservative and significantly greater ventilator-free days  and ICU-free days than FACTT Liberal. Evaluation of daily fluid balance provides insight into the differences in cumulative fluid  balance. FACTT Lite daily fluid balance was significantly greater on days 1 and 2 than  FACTT Conservative but was the same on days 3–7. Greater baseline shock in the FACTT  Lite group does not explain the observed increase in   \n",
       "56   significantly lower  cumulative fluid balance by 5,074 mL over 7 days than FACTT Liberal. In subjects without  baseline shock, in whom the fluid protocol was applied throughout the duration of the study,  management with FACTT Lite resulted in an equivalent cumulative fluid balance to FACTT  Conservative. FACTT Lite had similar clinical outcomes of ventilator-free days, ICU-free  days, and mortality as FACTT Conservative and significantly greater ventilator-   \n",
       "74                  be easily understood and implemented by  physician and nursing staff in the ICU. Conclusions Although the FACTT Lite protocol had a greater cumulative fluid balance than FACTT  Conservative, the results of our study indicate that the FACTT Lite protocol is safe and has  equivalent ventilator-free days, ICU-free days, acute kidney injury, and adjusted 60-day  mortality to FACTT Conservative. FACTT Conservative has improved ventilator-free days,   \n",
       "\n",
       "    similarity_score  \n",
       "52            0.4991  \n",
       "32            0.4706  \n",
       "57            0.4577  \n",
       "56            0.4242  \n",
       "74            0.4175  "
      ]
     },
     "metadata": {},
     "output_type": "display_data"
    },
    {
     "name": "stdout",
     "output_type": "stream",
     "text": [
      "\n",
      "Paper 18: PAC-in-FACTT\n",
      "No chunk data found for paper: PAC-in-FACTT\n"
     ]
    },
    {
     "data": {
      "text/plain": [
       "'No, it does not have relevance to the text chunks provided.'"
      ]
     },
     "metadata": {},
     "output_type": "display_data"
    },
    {
     "data": {
      "text/plain": [
       "'The Avg similarity of the top5chunks is:'"
      ]
     },
     "metadata": {},
     "output_type": "display_data"
    },
    {
     "data": {
      "text/plain": [
       "nan"
      ]
     },
     "metadata": {},
     "output_type": "display_data"
    },
    {
     "data": {
      "text/html": [
       "<div>\n",
       "<style scoped>\n",
       "    .dataframe tbody tr th:only-of-type {\n",
       "        vertical-align: middle;\n",
       "    }\n",
       "\n",
       "    .dataframe tbody tr th {\n",
       "        vertical-align: top;\n",
       "    }\n",
       "\n",
       "    .dataframe thead th {\n",
       "        text-align: right;\n",
       "    }\n",
       "</style>\n",
       "<table border=\"1\" class=\"dataframe\">\n",
       "  <thead>\n",
       "    <tr style=\"text-align: right;\">\n",
       "      <th></th>\n",
       "      <th>paper_name</th>\n",
       "      <th>position</th>\n",
       "      <th>chunk_text</th>\n",
       "      <th>similarity_score</th>\n",
       "    </tr>\n",
       "  </thead>\n",
       "  <tbody>\n",
       "  </tbody>\n",
       "</table>\n",
       "</div>"
      ],
      "text/plain": [
       "Empty DataFrame\n",
       "Columns: [paper_name, position, chunk_text, similarity_score]\n",
       "Index: []"
      ]
     },
     "metadata": {},
     "output_type": "display_data"
    },
    {
     "name": "stdout",
     "output_type": "stream",
     "text": [
      "\n",
      "Paper 19: DIHRFARDSNET\n"
     ]
    },
    {
     "data": {
      "text/plain": [
       "'No.'"
      ]
     },
     "metadata": {},
     "output_type": "display_data"
    },
    {
     "data": {
      "text/plain": [
       "'The Avg similarity of the top5chunks is:'"
      ]
     },
     "metadata": {},
     "output_type": "display_data"
    },
    {
     "data": {
      "text/plain": [
       "0.35892"
      ]
     },
     "metadata": {},
     "output_type": "display_data"
    },
    {
     "data": {
      "text/html": [
       "<div>\n",
       "<style scoped>\n",
       "    .dataframe tbody tr th:only-of-type {\n",
       "        vertical-align: middle;\n",
       "    }\n",
       "\n",
       "    .dataframe tbody tr th {\n",
       "        vertical-align: top;\n",
       "    }\n",
       "\n",
       "    .dataframe thead th {\n",
       "        text-align: right;\n",
       "    }\n",
       "</style>\n",
       "<table border=\"1\" class=\"dataframe\">\n",
       "  <thead>\n",
       "    <tr style=\"text-align: right;\">\n",
       "      <th></th>\n",
       "      <th>paper_name</th>\n",
       "      <th>position</th>\n",
       "      <th>chunk_text</th>\n",
       "      <th>similarity_score</th>\n",
       "    </tr>\n",
       "  </thead>\n",
       "  <tbody>\n",
       "    <tr>\n",
       "      <th>31</th>\n",
       "      <td>DIHRFARDSNET.pdf</td>\n",
       "      <td>32</td>\n",
       "      <td>References [1]. Higher versus Lower Positive End-Expiratory Pressures in Patients with the Acute  Respiratory Distress Syndrome. New England Journal of Medicine 2004;351:327–36. 10.1056/ NEJMoa032193. [2]. Efficacy and Safety of Corticosteroids for Persistent Acute Respiratory Distress Syndrome. New  England Journal of Medicine 2006;354:1671–84. 10.1056/NEJM</td>\n",
       "      <td>0.4272</td>\n",
       "    </tr>\n",
       "    <tr>\n",
       "      <th>34</th>\n",
       "      <td>DIHRFARDSNET.pdf</td>\n",
       "      <td>35</td>\n",
       "      <td>EST 2005;128:525–32. 10.1378/chest.128.2.525.  [PubMed: 16100134]  [5]. Ventilation with Lower Tidal Volumes as Compared with Traditional Tidal Volumes for Acute  Lung Injury and the Acute Respiratory Distress Syndrome. New England Journal of Medicine  2000;342:1301–8. 10.1056/NEJM200005043421801. [6].</td>\n",
       "      <td>0.3795</td>\n",
       "    </tr>\n",
       "    <tr>\n",
       "      <th>39</th>\n",
       "      <td>DIHRFARDSNET.pdf</td>\n",
       "      <td>40</td>\n",
       "      <td>McSparron JI, et al. Validating Measures  of Disease Severity in Acute Respiratory Distress Syndrome. Annals ATS 2020. 10.1513/ AnnalsATS.202007-772OC. [11]. McCarthy FH, McDermott KM, Kini V, Gutsche JT, Wald JW, Xie D, et al. Trends in  U.S. Extracorporeal Membrane Oxygenation Use and Outcomes</td>\n",
       "      <td>0.3325</td>\n",
       "    </tr>\n",
       "    <tr>\n",
       "      <th>2</th>\n",
       "      <td>DIHRFARDSNET.pdf</td>\n",
       "      <td>3</td>\n",
       "      <td>not shown clinical benefit[1,2]. However, therapies to increase oxygenation are  commonly used in clinical practice[3]. Because patients with ARDS rarely die from  irreversible respiratory failure[4], interventions associated with improved oxygenation  might be expected to have little effect on all-cause mortality among patients without  refractory hypoxemia. Enrichment of ARDS clinical trials with patients more likely to  die from acute hypoxemic respiratory failure using readily observable clinical variables  may</td>\n",
       "      <td>0.3305</td>\n",
       "    </tr>\n",
       "    <tr>\n",
       "      <th>43</th>\n",
       "      <td>DIHRFARDSNET.pdf</td>\n",
       "      <td>44</td>\n",
       "      <td>using a P/F cutoff of 60 mmHg (green), and (3) death due to irreversible hypoxemic  or ventilatory respiratory failure (blue). The bottom panel shows the overall death rate per  ARDSnet clinical trial for comparison (black). Bosch et al. Page 5 J Crit Care. Author manuscript; available in PMC 2023 February 01. Author Manuscript Author Manuscript Author Manuscript Author Manuscript</td>\n",
       "      <td>0.3249</td>\n",
       "    </tr>\n",
       "  </tbody>\n",
       "</table>\n",
       "</div>"
      ],
      "text/plain": [
       "          paper_name  position  \\\n",
       "31  DIHRFARDSNET.pdf        32   \n",
       "34  DIHRFARDSNET.pdf        35   \n",
       "39  DIHRFARDSNET.pdf        40   \n",
       "2   DIHRFARDSNET.pdf         3   \n",
       "43  DIHRFARDSNET.pdf        44   \n",
       "\n",
       "                                                                                                                                                                                                                                                                                                                                                                                                                                                                                                                                   chunk_text  \\\n",
       "31                                                                                                                                                                   References [1]. Higher versus Lower Positive End-Expiratory Pressures in Patients with the Acute  Respiratory Distress Syndrome. New England Journal of Medicine 2004;351:327–36. 10.1056/ NEJMoa032193. [2]. Efficacy and Safety of Corticosteroids for Persistent Acute Respiratory Distress Syndrome. New  England Journal of Medicine 2006;354:1671–84. 10.1056/NEJM   \n",
       "34                                                                                                                                                                                                                            EST 2005;128:525–32. 10.1378/chest.128.2.525.  [PubMed: 16100134]  [5]. Ventilation with Lower Tidal Volumes as Compared with Traditional Tidal Volumes for Acute  Lung Injury and the Acute Respiratory Distress Syndrome. New England Journal of Medicine  2000;342:1301–8. 10.1056/NEJM200005043421801. [6].   \n",
       "39                                                                                                                                                                                                                                   McSparron JI, et al. Validating Measures  of Disease Severity in Acute Respiratory Distress Syndrome. Annals ATS 2020. 10.1513/ AnnalsATS.202007-772OC. [11]. McCarthy FH, McDermott KM, Kini V, Gutsche JT, Wald JW, Xie D, et al. Trends in  U.S. Extracorporeal Membrane Oxygenation Use and Outcomes   \n",
       "2    not shown clinical benefit[1,2]. However, therapies to increase oxygenation are  commonly used in clinical practice[3]. Because patients with ARDS rarely die from  irreversible respiratory failure[4], interventions associated with improved oxygenation  might be expected to have little effect on all-cause mortality among patients without  refractory hypoxemia. Enrichment of ARDS clinical trials with patients more likely to  die from acute hypoxemic respiratory failure using readily observable clinical variables  may   \n",
       "43                                                                                                                                            using a P/F cutoff of 60 mmHg (green), and (3) death due to irreversible hypoxemic  or ventilatory respiratory failure (blue). The bottom panel shows the overall death rate per  ARDSnet clinical trial for comparison (black). Bosch et al. Page 5 J Crit Care. Author manuscript; available in PMC 2023 February 01. Author Manuscript Author Manuscript Author Manuscript Author Manuscript   \n",
       "\n",
       "    similarity_score  \n",
       "31            0.4272  \n",
       "34            0.3795  \n",
       "39            0.3325  \n",
       "2             0.3305  \n",
       "43            0.3249  "
      ]
     },
     "metadata": {},
     "output_type": "display_data"
    },
    {
     "name": "stdout",
     "output_type": "stream",
     "text": [
      "\n",
      "Paper 20: DLASPEEPvsARDSNET\n"
     ]
    },
    {
     "data": {
      "text/plain": [
       "'No.'"
      ]
     },
     "metadata": {},
     "output_type": "display_data"
    },
    {
     "data": {
      "text/plain": [
       "'The Avg similarity of the top5chunks is:'"
      ]
     },
     "metadata": {},
     "output_type": "display_data"
    },
    {
     "data": {
      "text/plain": [
       "0.38916"
      ]
     },
     "metadata": {},
     "output_type": "display_data"
    },
    {
     "data": {
      "text/html": [
       "<div>\n",
       "<style scoped>\n",
       "    .dataframe tbody tr th:only-of-type {\n",
       "        vertical-align: middle;\n",
       "    }\n",
       "\n",
       "    .dataframe tbody tr th {\n",
       "        vertical-align: top;\n",
       "    }\n",
       "\n",
       "    .dataframe thead th {\n",
       "        text-align: right;\n",
       "    }\n",
       "</style>\n",
       "<table border=\"1\" class=\"dataframe\">\n",
       "  <thead>\n",
       "    <tr style=\"text-align: right;\">\n",
       "      <th></th>\n",
       "      <th>paper_name</th>\n",
       "      <th>position</th>\n",
       "      <th>chunk_text</th>\n",
       "      <th>similarity_score</th>\n",
       "    </tr>\n",
       "  </thead>\n",
       "  <tbody>\n",
       "    <tr>\n",
       "      <th>19</th>\n",
       "      <td>DLASPEEPvsARDSNET.pdf</td>\n",
       "      <td>20</td>\n",
       "      <td>increasingly  acknowledged [1]. This is consistent with the established  clinical relevance of ventilator-induced lung injury (VILI)  on pulmonary outcomes [2, 3], inflammatory response  [4], and mortality [5] in surgical and critically ill patients.  Positive end-expiratory pressure (PEEP) is an interven- tion expected to reduce VILI. By expanding lung regions  and increasing end-expiratory lung volume, PEEP could  reduce lung</td>\n",
       "      <td>0.4296</td>\n",
       "    </tr>\n",
       "    <tr>\n",
       "      <th>18</th>\n",
       "      <td>DLASPEEPvsARDSNET.pdf</td>\n",
       "      <td>19</td>\n",
       "      <td>ventilator-induced lung injury with less cyclic recruit‑ ment and no additional overinflation in large heterogeneously expanded and recruitable lungs. Keywords  ARDS, PEEP titration, Lung aeration, Tidal strain, Tidal recruitment Introduction The need to understand and advance methods to per- sonalize mechanical ventilation has been increasingly  acknowledged [1]. This is consistent with the established  clinical relevance of ventilator-</td>\n",
       "      <td>0.3843</td>\n",
       "    </tr>\n",
       "    <tr>\n",
       "      <th>17</th>\n",
       "      <td>DLASPEEPvsARDSNET.pdf</td>\n",
       "      <td>18</td>\n",
       "      <td>PEEP strategy improved end-expiratory/inspira‑ tory whole-lung aeration and its homogeneity without overinflation. It further reduced dynamic strain in middle- ventral regions and tidal recruitment in middle-dorsal areas. These findings suggest the maximal compliance strategy  minimizing whole-lung dynamically quantified mechanisms of ventilator-induced lung injury with less cyclic recruit‑ ment and no</td>\n",
       "      <td>0.3833</td>\n",
       "    </tr>\n",
       "    <tr>\n",
       "      <th>35</th>\n",
       "      <td>DLASPEEPvsARDSNET.pdf</td>\n",
       "      <td>36</td>\n",
       "      <td>ophagus. After a period of sta- bilization, baseline cardiopulmonary variables including  heart rate, systemic and pulmonary artery blood pres- sure, plateau airway pressure, airway resistance, and  dynamic compliance were acquired (Baseline). Acute lung injury was induced by means of surfactant  depletion as previously described [30]. Briefly, starting  from the supine position, warm saline (~ 500  ml 0.9%  NaCl at 37</td>\n",
       "      <td>0.3753</td>\n",
       "    </tr>\n",
       "    <tr>\n",
       "      <th>5</th>\n",
       "      <td>DLASPEEPvsARDSNET.pdf</td>\n",
       "      <td>6</td>\n",
       "      <td>Hinoshita4, Mingyang Zang5,  Kira Grogg6, Tilo Winkler7 and Marcos F. Vidal Melo1  Abstract  Background  Positive end-expiratory pressure (PEEP) individualized to a maximal respiratory system compliance  directly implies minimal driving pressures with potential outcome benefits, yet, raises concerns on static and dynamic  overinflation, strain</td>\n",
       "      <td>0.3733</td>\n",
       "    </tr>\n",
       "  </tbody>\n",
       "</table>\n",
       "</div>"
      ],
      "text/plain": [
       "               paper_name  position  \\\n",
       "19  DLASPEEPvsARDSNET.pdf        20   \n",
       "18  DLASPEEPvsARDSNET.pdf        19   \n",
       "17  DLASPEEPvsARDSNET.pdf        18   \n",
       "35  DLASPEEPvsARDSNET.pdf        36   \n",
       "5   DLASPEEPvsARDSNET.pdf         6   \n",
       "\n",
       "                                                                                                                                                                                                                                                                                                                                                                                                                                                   chunk_text  \\\n",
       "19            increasingly  acknowledged [1]. This is consistent with the established  clinical relevance of ventilator-induced lung injury (VILI)  on pulmonary outcomes [2, 3], inflammatory response  [4], and mortality [5] in surgical and critically ill patients.  Positive end-expiratory pressure (PEEP) is an interven- tion expected to reduce VILI. By expanding lung regions  and increasing end-expiratory lung volume, PEEP could  reduce lung   \n",
       "18  ventilator-induced lung injury with less cyclic recruit‑ ment and no additional overinflation in large heterogeneously expanded and recruitable lungs. Keywords  ARDS, PEEP titration, Lung aeration, Tidal strain, Tidal recruitment Introduction The need to understand and advance methods to per- sonalize mechanical ventilation has been increasingly  acknowledged [1]. This is consistent with the established  clinical relevance of ventilator-   \n",
       "17                                     PEEP strategy improved end-expiratory/inspira‑ tory whole-lung aeration and its homogeneity without overinflation. It further reduced dynamic strain in middle- ventral regions and tidal recruitment in middle-dorsal areas. These findings suggest the maximal compliance strategy  minimizing whole-lung dynamically quantified mechanisms of ventilator-induced lung injury with less cyclic recruit‑ ment and no    \n",
       "35                     ophagus. After a period of sta- bilization, baseline cardiopulmonary variables including  heart rate, systemic and pulmonary artery blood pres- sure, plateau airway pressure, airway resistance, and  dynamic compliance were acquired (Baseline). Acute lung injury was induced by means of surfactant  depletion as previously described [30]. Briefly, starting  from the supine position, warm saline (~ 500  ml 0.9%  NaCl at 37   \n",
       "5                                                                                                   Hinoshita4, Mingyang Zang5,  Kira Grogg6, Tilo Winkler7 and Marcos F. Vidal Melo1  Abstract  Background  Positive end-expiratory pressure (PEEP) individualized to a maximal respiratory system compliance  directly implies minimal driving pressures with potential outcome benefits, yet, raises concerns on static and dynamic  overinflation, strain   \n",
       "\n",
       "    similarity_score  \n",
       "19            0.4296  \n",
       "18            0.3843  \n",
       "17            0.3833  \n",
       "35            0.3753  \n",
       "5             0.3733  "
      ]
     },
     "metadata": {},
     "output_type": "display_data"
    },
    {
     "name": "stdout",
     "output_type": "stream",
     "text": [
      "\n",
      "Paper 21: BMIMSARDS\n"
     ]
    },
    {
     "data": {
      "text/plain": [
       "'No, the question is not relevant to the text chunks provided.'"
      ]
     },
     "metadata": {},
     "output_type": "display_data"
    },
    {
     "data": {
      "text/plain": [
       "'The Avg similarity of the top5chunks is:'"
      ]
     },
     "metadata": {},
     "output_type": "display_data"
    },
    {
     "data": {
      "text/plain": [
       "0.43904"
      ]
     },
     "metadata": {},
     "output_type": "display_data"
    },
    {
     "data": {
      "text/html": [
       "<div>\n",
       "<style scoped>\n",
       "    .dataframe tbody tr th:only-of-type {\n",
       "        vertical-align: middle;\n",
       "    }\n",
       "\n",
       "    .dataframe tbody tr th {\n",
       "        vertical-align: top;\n",
       "    }\n",
       "\n",
       "    .dataframe thead th {\n",
       "        text-align: right;\n",
       "    }\n",
       "</style>\n",
       "<table border=\"1\" class=\"dataframe\">\n",
       "  <thead>\n",
       "    <tr style=\"text-align: right;\">\n",
       "      <th></th>\n",
       "      <th>paper_name</th>\n",
       "      <th>position</th>\n",
       "      <th>chunk_text</th>\n",
       "      <th>similarity_score</th>\n",
       "    </tr>\n",
       "  </thead>\n",
       "  <tbody>\n",
       "    <tr>\n",
       "      <th>69</th>\n",
       "      <td>BMIMSARDS.pdf</td>\n",
       "      <td>70</td>\n",
       "      <td>(62.3) 94 (68.6) 30 (83.3) .13 Duration of neuromuscular blockade, d 2 (1–3) 2 (1–5) 2 (0–5) 3 (1–6) 4 (1–5) .39 Average cumulative fluid balance for the first 3 d, mL 3,230 (\u00052,822 to 5,865) 1,540 (\u00051,649 to 5,160) 1</td>\n",
       "      <td>0.4765</td>\n",
       "    </tr>\n",
       "    <tr>\n",
       "      <th>23</th>\n",
       "      <td>BMIMSARDS.pdf</td>\n",
       "      <td>24</td>\n",
       "      <td>the following processes of care, which may affect outcome: the doses of intravenous infusions of sedatives and analgesics, the use of neuromuscular block- ade, fluid balance (calculated as the average daily balance for the first 3 d), and oxygenation rescue therapies (eg, nitric oxide, prone positioning, HFOV in the subjects in the conventional ventilation group). The primary outcome was hospital mortality. Secondary outcomes were ICU and 28-d mortality, mechanical ventilation</td>\n",
       "      <td>0.4557</td>\n",
       "    </tr>\n",
       "    <tr>\n",
       "      <th>75</th>\n",
       "      <td>BMIMSARDS.pdf</td>\n",
       "      <td>76</td>\n",
       "      <td>and midazolam in obese subjects might have negated any benefit that could have resulted from lower transpulmonary pressure and negative fluid balance. Obesity affects chest wall mechanics; therefore, venti- lation strategies may lead to different outcomes in obese subjects compared to non-obese subjects.17 HFOV, which delivers high mean airway pressure with small tidal vol- umes at very high frequencies has been recently examined in the OSCILLATE trial, which demonstrated that HFO</td>\n",
       "      <td>0.4266</td>\n",
       "    </tr>\n",
       "    <tr>\n",
       "      <th>33</th>\n",
       "      <td>BMIMSARDS.pdf</td>\n",
       "      <td>34</td>\n",
       "      <td>, PEEP, plateau pressure, driv- ing pressure, PaO2/FIO2, and pH were similar. Processes of Care Subjects received higher doses of midazolam and fen- tanyl as BMI increased (Table 2); however, there was no difference in the average daily dose of propofol or mor- phine. There was no difference in the number of days on sedation or analgesia or neuromuscular blockade, in cu- mulative</td>\n",
       "      <td>0.4242</td>\n",
       "    </tr>\n",
       "    <tr>\n",
       "      <th>34</th>\n",
       "      <td>BMIMSARDS.pdf</td>\n",
       "      <td>35</td>\n",
       "      <td>of days on sedation or analgesia or neuromuscular blockade, in cu- mulative fluid balance for the first 3 d, or in the use of rescue therapies across BMI strata (Table 2). Process of care among subjects in the HFOV and conventional ventilation groups are shown in supplemental Table 2 (see the supplementary materials at http://www.rcjournal. com). Outcomes Death in hospital was not different among BMI strata in the whole study cohort (Fig. 1,</td>\n",
       "      <td>0.4122</td>\n",
       "    </tr>\n",
       "  </tbody>\n",
       "</table>\n",
       "</div>"
      ],
      "text/plain": [
       "       paper_name  position  \\\n",
       "69  BMIMSARDS.pdf        70   \n",
       "23  BMIMSARDS.pdf        24   \n",
       "75  BMIMSARDS.pdf        76   \n",
       "33  BMIMSARDS.pdf        34   \n",
       "34  BMIMSARDS.pdf        35   \n",
       "\n",
       "                                                                                                                                                                                                                                                                                                                                                                                                                                                                                                chunk_text  \\\n",
       "69                                                                                                                                                                                                                                                                               (62.3) 94 (68.6) 30 (83.3) .13 Duration of neuromuscular blockade, d 2 (1–3) 2 (1–5) 2 (0–5) 3 (1–6) 4 (1–5) .39 Average cumulative fluid balance for the first 3 d, mL 3,230 (\u00052,822 to 5,865) 1,540 (\u00051,649 to 5,160) 1   \n",
       "23       the following processes of care, which may affect outcome: the doses of intravenous infusions of sedatives and analgesics, the use of neuromuscular block- ade, fluid balance (calculated as the average daily balance for the first 3 d), and oxygenation rescue therapies (eg, nitric oxide, prone positioning, HFOV in the subjects in the conventional ventilation group). The primary outcome was hospital mortality. Secondary outcomes were ICU and 28-d mortality, mechanical ventilation   \n",
       "75   and midazolam in obese subjects might have negated any benefit that could have resulted from lower transpulmonary pressure and negative fluid balance. Obesity affects chest wall mechanics; therefore, venti- lation strategies may lead to different outcomes in obese subjects compared to non-obese subjects.17 HFOV, which delivers high mean airway pressure with small tidal vol- umes at very high frequencies has been recently examined in the OSCILLATE trial, which demonstrated that HFO   \n",
       "33                                                                                                          , PEEP, plateau pressure, driv- ing pressure, PaO2/FIO2, and pH were similar. Processes of Care Subjects received higher doses of midazolam and fen- tanyl as BMI increased (Table 2); however, there was no difference in the average daily dose of propofol or mor- phine. There was no difference in the number of days on sedation or analgesia or neuromuscular blockade, in cu- mulative   \n",
       "34                                           of days on sedation or analgesia or neuromuscular blockade, in cu- mulative fluid balance for the first 3 d, or in the use of rescue therapies across BMI strata (Table 2). Process of care among subjects in the HFOV and conventional ventilation groups are shown in supplemental Table 2 (see the supplementary materials at http://www.rcjournal. com). Outcomes Death in hospital was not different among BMI strata in the whole study cohort (Fig. 1,   \n",
       "\n",
       "    similarity_score  \n",
       "69            0.4765  \n",
       "23            0.4557  \n",
       "75            0.4266  \n",
       "33            0.4242  \n",
       "34            0.4122  "
      ]
     },
     "metadata": {},
     "output_type": "display_data"
    },
    {
     "name": "stdout",
     "output_type": "stream",
     "text": [
      "\n",
      "Paper 22: PPATDSHMA\n"
     ]
    },
    {
     "data": {
      "text/plain": [
       "'No.'"
      ]
     },
     "metadata": {},
     "output_type": "display_data"
    },
    {
     "data": {
      "text/plain": [
       "'The Avg similarity of the top5chunks is:'"
      ]
     },
     "metadata": {},
     "output_type": "display_data"
    },
    {
     "data": {
      "text/plain": [
       "0.39688"
      ]
     },
     "metadata": {},
     "output_type": "display_data"
    },
    {
     "data": {
      "text/html": [
       "<div>\n",
       "<style scoped>\n",
       "    .dataframe tbody tr th:only-of-type {\n",
       "        vertical-align: middle;\n",
       "    }\n",
       "\n",
       "    .dataframe tbody tr th {\n",
       "        vertical-align: top;\n",
       "    }\n",
       "\n",
       "    .dataframe thead th {\n",
       "        text-align: right;\n",
       "    }\n",
       "</style>\n",
       "<table border=\"1\" class=\"dataframe\">\n",
       "  <thead>\n",
       "    <tr style=\"text-align: right;\">\n",
       "      <th></th>\n",
       "      <th>paper_name</th>\n",
       "      <th>position</th>\n",
       "      <th>chunk_text</th>\n",
       "      <th>similarity_score</th>\n",
       "    </tr>\n",
       "  </thead>\n",
       "  <tbody>\n",
       "    <tr>\n",
       "      <th>96</th>\n",
       "      <td>PPATDSHMA.pdf</td>\n",
       "      <td>97</td>\n",
       "      <td>J Thorac Dis. 2015;7(3):356\u000167. https://doi.org/10.3978/j. issn.2072-1439.2014.12.49. 16. Mora-Arteaga JA, Bernal-Ramirez OJ, Rodriguez SJ. The effects of prone position ventilation in patients with acute respiratory distress syndrome. A systematic review and metaanalysis. Medicina Intensiva. 2015;39(6):359\u000172</td>\n",
       "      <td>0.4134</td>\n",
       "    </tr>\n",
       "    <tr>\n",
       "      <th>4</th>\n",
       "      <td>PPATDSHMA.pdf</td>\n",
       "      <td>5</td>\n",
       "      <td>PROSEVA trial, published in 2013. However, the evidence provided by meta-analyses in support of prone ventilation for ARDS was too low to be conclusive. The pres- ent study shows that meta-analysis is indeed not the best approach for the assessment of evi- dence as to the efﬁcacy of prone ventilation. Methods: We performed a cumulative meta-analysis to prove that only the PROSEVA trial, due to its strong protective effect, has</td>\n",
       "      <td>0.4034</td>\n",
       "    </tr>\n",
       "    <tr>\n",
       "      <th>21</th>\n",
       "      <td>PPATDSHMA.pdf</td>\n",
       "      <td>22</td>\n",
       "      <td>ing effect due to the increase of the sample size. We based this analysis on the eight trials that were included among the meta-analyses published by the Annals of the American Thoracic Society in 2017.9 We performed two different cumulative meta-analyses, the ﬁrst one using the studies that reported short-term outcomes (28-day or ICU mortality), the second one including those that reported medium to long term outcomes (from 2 to 6 months). We also</td>\n",
       "      <td>0.4018</td>\n",
       "    </tr>\n",
       "    <tr>\n",
       "      <th>3</th>\n",
       "      <td>PPATDSHMA.pdf</td>\n",
       "      <td>4</td>\n",
       "      <td>occa, Milan, Italy c Department of Anesthesia and Intensive Care, Niguarda Hospital, Milan, Italy Received 7 August 2022; accepted 25 December 2022 Available online xxx Abstract Background: Researchers have tried unsuccessfully for many years using randomized controlled trials to show the efﬁcacy of prone ventilation in treating ARDS. These failed attempts were of use in designing the successful PROSEVA trial, published in 2013. However, the evidence provided by meta-analyses in</td>\n",
       "      <td>0.3831</td>\n",
       "    </tr>\n",
       "    <tr>\n",
       "      <th>16</th>\n",
       "      <td>PPATDSHMA.pdf</td>\n",
       "      <td>17</td>\n",
       "      <td>alyses used to investigate prone ventilation in ARDS after 2013. Nine of these meta-analyses were published between 2014 and 2021,9\u000117 each of which used between six and eleven ran- domized controlled trials (RCTs) selected from a pool of thirteen.3\u00016,8,18\u000125 The efﬁcacy of this treatment, however, was only weakly supported by evidence from the meta-anal- yses carried out after the PROSE</td>\n",
       "      <td>0.3827</td>\n",
       "    </tr>\n",
       "  </tbody>\n",
       "</table>\n",
       "</div>"
      ],
      "text/plain": [
       "       paper_name  position  \\\n",
       "96  PPATDSHMA.pdf        97   \n",
       "4   PPATDSHMA.pdf         5   \n",
       "21  PPATDSHMA.pdf        22   \n",
       "3   PPATDSHMA.pdf         4   \n",
       "16  PPATDSHMA.pdf        17   \n",
       "\n",
       "                                                                                                                                                                                                                                                                                                                                                                                                                                                                                             chunk_text  \\\n",
       "96                                                                                                                                                                              J Thorac Dis. 2015;7(3):356\u000167. https://doi.org/10.3978/j. issn.2072-1439.2014.12.49. 16. Mora-Arteaga JA, Bernal-Ramirez OJ, Rodriguez SJ. The effects of prone position ventilation in patients with acute respiratory distress syndrome. A systematic review and metaanalysis. Medicina Intensiva. 2015;39(6):359\u000172   \n",
       "4                                                        PROSEVA trial, published in 2013. However, the evidence provided by meta-analyses in support of prone ventilation for ARDS was too low to be conclusive. The pres- ent study shows that meta-analysis is indeed not the best approach for the assessment of evi- dence as to the efﬁcacy of prone ventilation. Methods: We performed a cumulative meta-analysis to prove that only the PROSEVA trial, due to its strong protective effect, has   \n",
       "21                                 ing effect due to the increase of the sample size. We based this analysis on the eight trials that were included among the meta-analyses published by the Annals of the American Thoracic Society in 2017.9 We performed two different cumulative meta-analyses, the ﬁrst one using the studies that reported short-term outcomes (28-day or ICU mortality), the second one including those that reported medium to long term outcomes (from 2 to 6 months). We also   \n",
       "3   occa, Milan, Italy c Department of Anesthesia and Intensive Care, Niguarda Hospital, Milan, Italy Received 7 August 2022; accepted 25 December 2022 Available online xxx Abstract Background: Researchers have tried unsuccessfully for many years using randomized controlled trials to show the efﬁcacy of prone ventilation in treating ARDS. These failed attempts were of use in designing the successful PROSEVA trial, published in 2013. However, the evidence provided by meta-analyses in   \n",
       "16                                                                                               alyses used to investigate prone ventilation in ARDS after 2013. Nine of these meta-analyses were published between 2014 and 2021,9\u000117 each of which used between six and eleven ran- domized controlled trials (RCTs) selected from a pool of thirteen.3\u00016,8,18\u000125 The efﬁcacy of this treatment, however, was only weakly supported by evidence from the meta-anal- yses carried out after the PROSE   \n",
       "\n",
       "    similarity_score  \n",
       "96            0.4134  \n",
       "4             0.4034  \n",
       "21            0.4018  \n",
       "3             0.3831  \n",
       "16            0.3827  "
      ]
     },
     "metadata": {},
     "output_type": "display_data"
    },
    {
     "name": "stdout",
     "output_type": "stream",
     "text": [
      "\n",
      "Paper 23: CEIIUPPSARDS\n"
     ]
    },
    {
     "data": {
      "text/plain": [
       "'No, the question does not have any relevance to the text chunks provided.'"
      ]
     },
     "metadata": {},
     "output_type": "display_data"
    },
    {
     "data": {
      "text/plain": [
       "'The Avg similarity of the top5chunks is:'"
      ]
     },
     "metadata": {},
     "output_type": "display_data"
    },
    {
     "data": {
      "text/plain": [
       "0.42286"
      ]
     },
     "metadata": {},
     "output_type": "display_data"
    },
    {
     "data": {
      "text/html": [
       "<div>\n",
       "<style scoped>\n",
       "    .dataframe tbody tr th:only-of-type {\n",
       "        vertical-align: middle;\n",
       "    }\n",
       "\n",
       "    .dataframe tbody tr th {\n",
       "        vertical-align: top;\n",
       "    }\n",
       "\n",
       "    .dataframe thead th {\n",
       "        text-align: right;\n",
       "    }\n",
       "</style>\n",
       "<table border=\"1\" class=\"dataframe\">\n",
       "  <thead>\n",
       "    <tr style=\"text-align: right;\">\n",
       "      <th></th>\n",
       "      <th>paper_name</th>\n",
       "      <th>position</th>\n",
       "      <th>chunk_text</th>\n",
       "      <th>similarity_score</th>\n",
       "    </tr>\n",
       "  </thead>\n",
       "  <tbody>\n",
       "    <tr>\n",
       "      <th>96</th>\n",
       "      <td>CEIIUPPSARDS.pdf</td>\n",
       "      <td>97</td>\n",
       "      <td>–404. [PubMed: 16943716]  38. Weiss CH, Krishnan JA, Au DH, et al. An Official American Thoracic Society Research Statement:  Implementation Science in Pulmonary, Critical Care, and Sleep Medicine. American journal of  respiratory and critical care medicine 2016;194(8):1015–1025. [PubMed: 27739895]  39. Barbash IJ, Pike F, Gunn SR, et al. Effects of</td>\n",
       "      <td>0.4870</td>\n",
       "    </tr>\n",
       "    <tr>\n",
       "      <th>97</th>\n",
       "      <td>CEIIUPPSARDS.pdf</td>\n",
       "      <td>98</td>\n",
       "      <td>]  39. Barbash IJ, Pike F, Gunn SR, et al. Effects of Physician-targeted Pay for Performance on Use of  Spontaneous Breathing Trials in Mechanically Ventilated Patients. American journal of respiratory  and critical care medicine 2017;196(1):56–63. [PubMed: 27936874]  Baston et al. Page 10 Crit Care Med. Author manuscript; available in PMC 2020 March 01. Author Manuscript Author Man</td>\n",
       "      <td>0.4674</td>\n",
       "    </tr>\n",
       "    <tr>\n",
       "      <th>76</th>\n",
       "      <td>CEIIUPPSARDS.pdf</td>\n",
       "      <td>77</td>\n",
       "      <td>barriers to low tidal volume ventilation with actual practice. Annals of the American  Thoracic Society 2017;14(11):1682–1689. [PubMed: 28771042]  14. Abrams D, Fan E, Ferguson ND, et al. Unproven and Expensive May Still Be Justifiable. American  journal of respiratory and critical care medicine 2018(ja). 15. Sanders GD, Neumann PJ, Basu A, et al. Recommendations for Conduct</td>\n",
       "      <td>0.4246</td>\n",
       "    </tr>\n",
       "    <tr>\n",
       "      <th>85</th>\n",
       "      <td>CEIIUPPSARDS.pdf</td>\n",
       "      <td>86</td>\n",
       "      <td>. American journal of respiratory and critical care  medicine 2013;187(3):256–261. [PubMed: 23204250]  24. Sud S, Friedrich JO, Adhikari NK, et al. Effect of prone positioning during mechanical ventilation  on mortality among patients with acute respiratory distress syndrome: a systematic review and  meta-analysis. Canadian Medical Association Journal 2014;186(10):E381–E390. [PubMed:  24863923]</td>\n",
       "      <td>0.3696</td>\n",
       "    </tr>\n",
       "    <tr>\n",
       "      <th>71</th>\n",
       "      <td>CEIIUPPSARDS.pdf</td>\n",
       "      <td>72</td>\n",
       "      <td>02]  7. Weiss CH, McSparron JI, Chatterjee RS, et al. Summary for Clinicians: Mechanical Ventilation in  Adult Patients with Acute Respiratory Distress Syndrome Clinical Practice Guideline. Ann Am  Thorac Soc 2017;14(8):1235–1238. [PubMed: 28763269]  8. Alessandri F, Pugliese F, Ranieri VM. The Role of Rescue Therapies in</td>\n",
       "      <td>0.3657</td>\n",
       "    </tr>\n",
       "  </tbody>\n",
       "</table>\n",
       "</div>"
      ],
      "text/plain": [
       "          paper_name  position  \\\n",
       "96  CEIIUPPSARDS.pdf        97   \n",
       "97  CEIIUPPSARDS.pdf        98   \n",
       "76  CEIIUPPSARDS.pdf        77   \n",
       "85  CEIIUPPSARDS.pdf        86   \n",
       "71  CEIIUPPSARDS.pdf        72   \n",
       "\n",
       "                                                                                                                                                                                                                                                                                                                                                                                                       chunk_text  \\\n",
       "96                                                –404. [PubMed: 16943716]  38. Weiss CH, Krishnan JA, Au DH, et al. An Official American Thoracic Society Research Statement:  Implementation Science in Pulmonary, Critical Care, and Sleep Medicine. American journal of  respiratory and critical care medicine 2016;194(8):1015–1025. [PubMed: 27739895]  39. Barbash IJ, Pike F, Gunn SR, et al. Effects of   \n",
       "97              ]  39. Barbash IJ, Pike F, Gunn SR, et al. Effects of Physician-targeted Pay for Performance on Use of  Spontaneous Breathing Trials in Mechanically Ventilated Patients. American journal of respiratory  and critical care medicine 2017;196(1):56–63. [PubMed: 27936874]  Baston et al. Page 10 Crit Care Med. Author manuscript; available in PMC 2020 March 01. Author Manuscript Author Man   \n",
       "76                      barriers to low tidal volume ventilation with actual practice. Annals of the American  Thoracic Society 2017;14(11):1682–1689. [PubMed: 28771042]  14. Abrams D, Fan E, Ferguson ND, et al. Unproven and Expensive May Still Be Justifiable. American  journal of respiratory and critical care medicine 2018(ja). 15. Sanders GD, Neumann PJ, Basu A, et al. Recommendations for Conduct   \n",
       "85  . American journal of respiratory and critical care  medicine 2013;187(3):256–261. [PubMed: 23204250]  24. Sud S, Friedrich JO, Adhikari NK, et al. Effect of prone positioning during mechanical ventilation  on mortality among patients with acute respiratory distress syndrome: a systematic review and  meta-analysis. Canadian Medical Association Journal 2014;186(10):E381–E390. [PubMed:  24863923]   \n",
       "71                                                                            02]  7. Weiss CH, McSparron JI, Chatterjee RS, et al. Summary for Clinicians: Mechanical Ventilation in  Adult Patients with Acute Respiratory Distress Syndrome Clinical Practice Guideline. Ann Am  Thorac Soc 2017;14(8):1235–1238. [PubMed: 28763269]  8. Alessandri F, Pugliese F, Ranieri VM. The Role of Rescue Therapies in   \n",
       "\n",
       "    similarity_score  \n",
       "96            0.4870  \n",
       "97            0.4674  \n",
       "76            0.4246  \n",
       "85            0.3696  \n",
       "71            0.3657  "
      ]
     },
     "metadata": {},
     "output_type": "display_data"
    },
    {
     "name": "stdout",
     "output_type": "stream",
     "text": [
      "\n",
      "Paper 24: PVOEMVRARDS\n"
     ]
    },
    {
     "data": {
      "text/plain": [
       "'Yes, the question is relevant as it discusses the impact of neuromuscular blockade on ventilator free days and mortality in ventilated patients.'"
      ]
     },
     "metadata": {},
     "output_type": "display_data"
    },
    {
     "data": {
      "text/plain": [
       "'The Avg similarity of the top5chunks is:'"
      ]
     },
     "metadata": {},
     "output_type": "display_data"
    },
    {
     "data": {
      "text/plain": [
       "0.5117999999999999"
      ]
     },
     "metadata": {},
     "output_type": "display_data"
    },
    {
     "data": {
      "text/html": [
       "<div>\n",
       "<style scoped>\n",
       "    .dataframe tbody tr th:only-of-type {\n",
       "        vertical-align: middle;\n",
       "    }\n",
       "\n",
       "    .dataframe tbody tr th {\n",
       "        vertical-align: top;\n",
       "    }\n",
       "\n",
       "    .dataframe thead th {\n",
       "        text-align: right;\n",
       "    }\n",
       "</style>\n",
       "<table border=\"1\" class=\"dataframe\">\n",
       "  <thead>\n",
       "    <tr style=\"text-align: right;\">\n",
       "      <th></th>\n",
       "      <th>paper_name</th>\n",
       "      <th>position</th>\n",
       "      <th>chunk_text</th>\n",
       "      <th>similarity_score</th>\n",
       "    </tr>\n",
       "  </thead>\n",
       "  <tbody>\n",
       "    <tr>\n",
       "      <th>87</th>\n",
       "      <td>PVOEMVRARDS.pdf</td>\n",
       "      <td>88</td>\n",
       "      <td>effect of neuromuscular blockade on the association of day 1 VR and mortality (n = 808) 28-day mortality 90-day mortality OR CI p OR CI p VR 1.57 1.16–2.13  &lt; 0.01 1.50 1.12–2.04  &lt; 0.01 NMB 1.39 0.56–3.47 NS 1.32 0.55–3.</td>\n",
       "      <td>0.5632</td>\n",
       "    </tr>\n",
       "    <tr>\n",
       "      <th>24</th>\n",
       "      <td>PVOEMVRARDS.pdf</td>\n",
       "      <td>25</td>\n",
       "      <td>between VR and  adverse outcomes differs by baseline severity of illness. The primary objective was to investigate whether neu- romuscular blockade modified the relationship between  VR and mortality in the Reevaluation of Systemic Early  Neuromuscular Blockade (ROSE) trial [35]. We tested  for the first time whether elimination of skeletal muscle  activity by neuromuscular blockade is a significant effect  modifier in the relationship between VR and mortality  in ventilated patients with moderate</td>\n",
       "      <td>0.5344</td>\n",
       "    </tr>\n",
       "    <tr>\n",
       "      <th>2</th>\n",
       "      <td>PVOEMVRARDS.pdf</td>\n",
       "      <td>3</td>\n",
       "      <td>, Michael A. Matthay2 and NHLBI PETAL  Network  Abstract  Background:  The ventilatory ratio (VR, [minute ventilation × ­PaCO2]/[predicted body weight × 100 × 37.5]) is associ- ated with mortality in ARDS. The aims of this study were to test whether baseline disease severity or neuromuscular  blockade (</td>\n",
       "      <td>0.5187</td>\n",
       "    </tr>\n",
       "    <tr>\n",
       "      <th>10</th>\n",
       "      <td>PVOEMVRARDS.pdf</td>\n",
       "      <td>11</td>\n",
       "      <td>, ARDS, Neuromuscular blockade, APACHE-III, ROSE trial © The Author(s) 2022. Open Access This article is licensed under a Creative Commons Attribution 4.0 International License, which  permits use, sharing, adaptation, distribution and reproduction in any medium or format, as long as you give appropriate credit to the  original author(s) and the source, provide a link to the Creative Commons licence, and indicate if changes were made. The images</td>\n",
       "      <td>0.4884</td>\n",
       "    </tr>\n",
       "    <tr>\n",
       "      <th>22</th>\n",
       "      <td>PVOEMVRARDS.pdf</td>\n",
       "      <td>23</td>\n",
       "      <td>VR and clinical outcomes have  not been previously studied. In theory, VR might per- form differently among patients receiving neuromuscular  blockade (NMB) compared to those not receiving NMB,  as skeletal muscle metabolism may lead to increased  ­CO2 production in the latter group [32]. To that end, the  validity of VR as a prognostic marker in patients treated  with NMB is untested, as prior studies evaluating VR  did not adjust for its use [</td>\n",
       "      <td>0.4543</td>\n",
       "    </tr>\n",
       "  </tbody>\n",
       "</table>\n",
       "</div>"
      ],
      "text/plain": [
       "         paper_name  position  \\\n",
       "87  PVOEMVRARDS.pdf        88   \n",
       "24  PVOEMVRARDS.pdf        25   \n",
       "2   PVOEMVRARDS.pdf         3   \n",
       "10  PVOEMVRARDS.pdf        11   \n",
       "22  PVOEMVRARDS.pdf        23   \n",
       "\n",
       "                                                                                                                                                                                                                                                                                                                                                                                                                                                                                                                 chunk_text  \\\n",
       "87                                                                                                                                                                                                                                                                                            effect of neuromuscular blockade on the association of day 1 VR and mortality (n = 808) 28-day mortality 90-day mortality OR CI p OR CI p VR 1.57 1.16–2.13  < 0.01 1.50 1.12–2.04  < 0.01 NMB 1.39 0.56–3.47 NS 1.32 0.55–3.   \n",
       "24   between VR and  adverse outcomes differs by baseline severity of illness. The primary objective was to investigate whether neu- romuscular blockade modified the relationship between  VR and mortality in the Reevaluation of Systemic Early  Neuromuscular Blockade (ROSE) trial [35]. We tested  for the first time whether elimination of skeletal muscle  activity by neuromuscular blockade is a significant effect  modifier in the relationship between VR and mortality  in ventilated patients with moderate   \n",
       "2                                                                                                                                                                                                          , Michael A. Matthay2 and NHLBI PETAL  Network  Abstract  Background:  The ventilatory ratio (VR, [minute ventilation × ­PaCO2]/[predicted body weight × 100 × 37.5]) is associ- ated with mortality in ARDS. The aims of this study were to test whether baseline disease severity or neuromuscular  blockade (   \n",
       "10                                                        , ARDS, Neuromuscular blockade, APACHE-III, ROSE trial © The Author(s) 2022. Open Access This article is licensed under a Creative Commons Attribution 4.0 International License, which  permits use, sharing, adaptation, distribution and reproduction in any medium or format, as long as you give appropriate credit to the  original author(s) and the source, provide a link to the Creative Commons licence, and indicate if changes were made. The images   \n",
       "22                                                        VR and clinical outcomes have  not been previously studied. In theory, VR might per- form differently among patients receiving neuromuscular  blockade (NMB) compared to those not receiving NMB,  as skeletal muscle metabolism may lead to increased  ­CO2 production in the latter group [32]. To that end, the  validity of VR as a prognostic marker in patients treated  with NMB is untested, as prior studies evaluating VR  did not adjust for its use [   \n",
       "\n",
       "    similarity_score  \n",
       "87            0.5632  \n",
       "24            0.5344  \n",
       "2             0.5187  \n",
       "10            0.4884  \n",
       "22            0.4543  "
      ]
     },
     "metadata": {},
     "output_type": "display_data"
    },
    {
     "name": "stdout",
     "output_type": "stream",
     "text": [
      "\n",
      "Paper 25: CHEST\n"
     ]
    },
    {
     "data": {
      "text/plain": [
       "'No, the question is not relevant to the text chunks provided.'"
      ]
     },
     "metadata": {},
     "output_type": "display_data"
    },
    {
     "data": {
      "text/plain": [
       "'The Avg similarity of the top5chunks is:'"
      ]
     },
     "metadata": {},
     "output_type": "display_data"
    },
    {
     "data": {
      "text/plain": [
       "0.41511999999999993"
      ]
     },
     "metadata": {},
     "output_type": "display_data"
    },
    {
     "data": {
      "text/html": [
       "<div>\n",
       "<style scoped>\n",
       "    .dataframe tbody tr th:only-of-type {\n",
       "        vertical-align: middle;\n",
       "    }\n",
       "\n",
       "    .dataframe tbody tr th {\n",
       "        vertical-align: top;\n",
       "    }\n",
       "\n",
       "    .dataframe thead th {\n",
       "        text-align: right;\n",
       "    }\n",
       "</style>\n",
       "<table border=\"1\" class=\"dataframe\">\n",
       "  <thead>\n",
       "    <tr style=\"text-align: right;\">\n",
       "      <th></th>\n",
       "      <th>paper_name</th>\n",
       "      <th>position</th>\n",
       "      <th>chunk_text</th>\n",
       "      <th>similarity_score</th>\n",
       "    </tr>\n",
       "  </thead>\n",
       "  <tbody>\n",
       "    <tr>\n",
       "      <th>33</th>\n",
       "      <td>CHEST.pdf</td>\n",
       "      <td>34</td>\n",
       "      <td>to 8 mL/kg of predicted body weight (PBW). For each patient, four different ventilator settings were tested in a randomized order (e-Fig 1). Synchronous inspiratory assistance was delivered with pressure support ventilation (PSV). Asynchronous inspiratory assistance was delivered with pressure-controlled intermittent mandatory ventilation (PC-IMV) (Fig 1). Each step lasted 30 min. The ventilator was set as follows: (1) PEEP ¼ 5 cm H</td>\n",
       "      <td>0.4330</td>\n",
       "    </tr>\n",
       "    <tr>\n",
       "      <th>1</th>\n",
       "      <td>CHEST.pdf</td>\n",
       "      <td>2</td>\n",
       "      <td>, MD; Luca Montini, MD; Teresa Michi, MD; Giorgia Spinazzola, MD; Gennaro De Pascale, MD; Mariano Alberto Pennisi, MD; Roberta Ribeiro De Santis Santiago, MD, PhD; Lorenzo Berra, MD, PhD; Massimo Antonelli, MD; and Domenico Luca Grieco, MD BACKGROUND: Positive end-expiratory pressure (PEEP) can potentially</td>\n",
       "      <td>0.4203</td>\n",
       "    </tr>\n",
       "    <tr>\n",
       "      <th>13</th>\n",
       "      <td>CHEST.pdf</td>\n",
       "      <td>14</td>\n",
       "      <td>Spontaneous breathing is often maintained during mechanical ventilation in patients with ARDS.1-3 Compared with fully controlled ventilation, beneﬁts of spontaneous breathing include gas exchange and hemodynamics improvement,1 better ventilation- perfusion matching,4 and decreased ventilator- induced diaphragmatic dysfunction.5 However, vigorous spontaneous effort can worsen lung injury through several mechanisms including global and local overdistension, increased lung perfusion, and negative-pressure pulmonary edema due to increases in</td>\n",
       "      <td>0.4143</td>\n",
       "    </tr>\n",
       "    <tr>\n",
       "      <th>65</th>\n",
       "      <td>CHEST.pdf</td>\n",
       "      <td>66</td>\n",
       "      <td>3). To rule out the possible interference of expiratory muscles recruitment, we assessed the relationship between PEEP-induced changes in Pdi and changes in CRS, which conﬁrmed the inverse relationship (r ¼ \u00020.76; 95% CI, \u00020.90 to \u00020.43; P ¼ .006 during PSV; r ¼ \u00020.59; 95% CI, \u00020.84 to \u0002</td>\n",
       "      <td>0.4047</td>\n",
       "    </tr>\n",
       "    <tr>\n",
       "      <th>64</th>\n",
       "      <td>CHEST.pdf</td>\n",
       "      <td>65</td>\n",
       "      <td>when CRS increased (Figs 3, 4). These results were conﬁrmed by multivariate analysis; details are provided in e-Appendix 1. Similar results were found during PC-IMV (e-Fig 2). The correlation between PEEP-induced changes in DPes and CRS resulted almost exclusively from changes in the lung component of CRS (e-Fig 3). To rule out the possible interference of expiratory muscles recruitment, we assessed the relationship between</td>\n",
       "      <td>0.4033</td>\n",
       "    </tr>\n",
       "  </tbody>\n",
       "</table>\n",
       "</div>"
      ],
      "text/plain": [
       "   paper_name  position  \\\n",
       "33  CHEST.pdf        34   \n",
       "1   CHEST.pdf         2   \n",
       "13  CHEST.pdf        14   \n",
       "65  CHEST.pdf        66   \n",
       "64  CHEST.pdf        65   \n",
       "\n",
       "                                                                                                                                                                                                                                                                                                                                                                                                                                                                                                                                                         chunk_text  \\\n",
       "33                                                                                                             to 8 mL/kg of predicted body weight (PBW). For each patient, four different ventilator settings were tested in a randomized order (e-Fig 1). Synchronous inspiratory assistance was delivered with pressure support ventilation (PSV). Asynchronous inspiratory assistance was delivered with pressure-controlled intermittent mandatory ventilation (PC-IMV) (Fig 1). Each step lasted 30 min. The ventilator was set as follows: (1) PEEP ¼ 5 cm H   \n",
       "1                                                                                                                                                                                                                                               , MD; Luca Montini, MD; Teresa Michi, MD; Giorgia Spinazzola, MD; Gennaro De Pascale, MD; Mariano Alberto Pennisi, MD; Roberta Ribeiro De Santis Santiago, MD, PhD; Lorenzo Berra, MD, PhD; Massimo Antonelli, MD; and Domenico Luca Grieco, MD BACKGROUND: Positive end-expiratory pressure (PEEP) can potentially   \n",
       "13  Spontaneous breathing is often maintained during mechanical ventilation in patients with ARDS.1-3 Compared with fully controlled ventilation, beneﬁts of spontaneous breathing include gas exchange and hemodynamics improvement,1 better ventilation- perfusion matching,4 and decreased ventilator- induced diaphragmatic dysfunction.5 However, vigorous spontaneous effort can worsen lung injury through several mechanisms including global and local overdistension, increased lung perfusion, and negative-pressure pulmonary edema due to increases in   \n",
       "65                                                                                                                                                                                                                                                                 3). To rule out the possible interference of expiratory muscles recruitment, we assessed the relationship between PEEP-induced changes in Pdi and changes in CRS, which conﬁrmed the inverse relationship (r ¼ \u00020.76; 95% CI, \u00020.90 to \u00020.43; P ¼ .006 during PSV; r ¼ \u00020.59; 95% CI, \u00020.84 to \u0002   \n",
       "64                                                                                                                      when CRS increased (Figs 3, 4). These results were conﬁrmed by multivariate analysis; details are provided in e-Appendix 1. Similar results were found during PC-IMV (e-Fig 2). The correlation between PEEP-induced changes in DPes and CRS resulted almost exclusively from changes in the lung component of CRS (e-Fig 3). To rule out the possible interference of expiratory muscles recruitment, we assessed the relationship between   \n",
       "\n",
       "    similarity_score  \n",
       "33            0.4330  \n",
       "1             0.4203  \n",
       "13            0.4143  \n",
       "65            0.4047  \n",
       "64            0.4033  "
      ]
     },
     "metadata": {},
     "output_type": "display_data"
    },
    {
     "name": "stdout",
     "output_type": "stream",
     "text": [
      "\n",
      "Paper 26: ENB\n"
     ]
    },
    {
     "data": {
      "text/plain": [
       "'Yes, the question of whether early administration of neuromuscular blocking agents increases ventilator free days is relevant to the text chunks provided, as they discuss the use and effects of neuromuscular blocking agents in managing acute respiratory distress syndrome.'"
      ]
     },
     "metadata": {},
     "output_type": "display_data"
    },
    {
     "data": {
      "text/plain": [
       "'The Avg similarity of the top5chunks is:'"
      ]
     },
     "metadata": {},
     "output_type": "display_data"
    },
    {
     "data": {
      "text/plain": [
       "0.5985799999999999"
      ]
     },
     "metadata": {},
     "output_type": "display_data"
    },
    {
     "data": {
      "text/html": [
       "<div>\n",
       "<style scoped>\n",
       "    .dataframe tbody tr th:only-of-type {\n",
       "        vertical-align: middle;\n",
       "    }\n",
       "\n",
       "    .dataframe tbody tr th {\n",
       "        vertical-align: top;\n",
       "    }\n",
       "\n",
       "    .dataframe thead th {\n",
       "        text-align: right;\n",
       "    }\n",
       "</style>\n",
       "<table border=\"1\" class=\"dataframe\">\n",
       "  <thead>\n",
       "    <tr style=\"text-align: right;\">\n",
       "      <th></th>\n",
       "      <th>paper_name</th>\n",
       "      <th>position</th>\n",
       "      <th>chunk_text</th>\n",
       "      <th>similarity_score</th>\n",
       "    </tr>\n",
       "  </thead>\n",
       "  <tbody>\n",
       "    <tr>\n",
       "      <th>22</th>\n",
       "      <td>ENB.pdf</td>\n",
       "      <td>23</td>\n",
       "      <td>used by clinician in man­ aging moderate to severe ARDS.5 Benefits from  neuromuscular blocking agents (NMBA) could  be attributed to its effect on controlling tidal vol­ umes via direct pharmacological action and pre­ venting ventilator desynchrony.6 In the last two  decades, there have been several clinical stud­ ies conducted to evaluate the effects of NMBAs  in the management of ARDS.7-12 However, the</td>\n",
       "      <td>0.6595</td>\n",
       "    </tr>\n",
       "    <tr>\n",
       "      <th>8</th>\n",
       "      <td>ENB.pdf</td>\n",
       "      <td>9</td>\n",
       "      <td>severe ARDS for its  short-term benefit in early phase of disease. Prolonged use of NMBAs beyond 48 hours requires further study. (Cite this article as: Lyu T, Lee YS, Dhanvijay S, Freebairn R. The effect of neuromuscular blocking agents uses in acute  respiratory distress syndrome: a systematic review and meta-analysis of randomized controlled trials. Minerva Anestesiol  2021;87:341-</td>\n",
       "      <td>0.6178</td>\n",
       "    </tr>\n",
       "    <tr>\n",
       "      <th>0</th>\n",
       "      <td>ENB.pdf</td>\n",
       "      <td>1</td>\n",
       "      <td>Vol. 87 - No. 3\\t Minerva Anestesiologica\\t 341 R E V I E W The effect of neuromuscular blocking agents  uses in acute respiratory distress syndrome:  a systematic review and meta-analysis  of randomized controlled trials Ting LYU 1 *, Yee S. LEE 1, Shekhar DHANVIJAY 1, Ross FREEBAIRN 2 1Department of Intensive Care Medicine, Ng Teng Fong General Hospital,</td>\n",
       "      <td>0.5998</td>\n",
       "    </tr>\n",
       "    <tr>\n",
       "      <th>2</th>\n",
       "      <td>ENB.pdf</td>\n",
       "      <td>3</td>\n",
       "      <td>609606 Singapore, Singapore. E-mail: ting_lyu@nuhs.edu.sg A B S T R A C T INTRODUCTION: With the latest addition from Re-evaluation of Systemic Early Neuromuscular Blockade (ROSE) Tri­ al result, the question of mortality benefit from neuromuscular blocking agents (NMBAs) in different studies, remained  unanswered. We hypothesize that NMBAs use</td>\n",
       "      <td>0.5818</td>\n",
       "    </tr>\n",
       "    <tr>\n",
       "      <th>21</th>\n",
       "      <td>ENB.pdf</td>\n",
       "      <td>22</td>\n",
       "      <td>mechanical ventilation at day-28 post random­ ization. ICU-AW was assessed using Medical  Research Council Scale (MRC) at day 28. We combined study results by using the actual  as high positive end expiratory pressure (PEEP)  strategies and recruitment maneuver failed to  demonstrate clear benefit.4 Muscle relaxation is one of the common non- ventilatory strategies used by clinician in man­ aging moderate to severe ARDS.5 Benefits from  neurom</td>\n",
       "      <td>0.5340</td>\n",
       "    </tr>\n",
       "  </tbody>\n",
       "</table>\n",
       "</div>"
      ],
      "text/plain": [
       "   paper_name  position  \\\n",
       "22    ENB.pdf        23   \n",
       "8     ENB.pdf         9   \n",
       "0     ENB.pdf         1   \n",
       "2     ENB.pdf         3   \n",
       "21    ENB.pdf        22   \n",
       "\n",
       "                                                                                                                                                                                                                                                                                                                                                                                                                                                           chunk_text  \\\n",
       "22                                          used by clinician in man­ aging moderate to severe ARDS.5 Benefits from  neuromuscular blocking agents (NMBA) could  be attributed to its effect on controlling tidal vol­ umes via direct pharmacological action and pre­ venting ventilator desynchrony.6 In the last two  decades, there have been several clinical stud­ ies conducted to evaluate the effects of NMBAs  in the management of ARDS.7-12 However, the    \n",
       "8                                                                 severe ARDS for its  short-term benefit in early phase of disease. Prolonged use of NMBAs beyond 48 hours requires further study. (Cite this article as: Lyu T, Lee YS, Dhanvijay S, Freebairn R. The effect of neuromuscular blocking agents uses in acute  respiratory distress syndrome: a systematic review and meta-analysis of randomized controlled trials. Minerva Anestesiol  2021;87:341-   \n",
       "0                                                                                              Vol. 87 - No. 3\\t Minerva Anestesiologica\\t 341 R E V I E W The effect of neuromuscular blocking agents  uses in acute respiratory distress syndrome:  a systematic review and meta-analysis  of randomized controlled trials Ting LYU 1 *, Yee S. LEE 1, Shekhar DHANVIJAY 1, Ross FREEBAIRN 2 1Department of Intensive Care Medicine, Ng Teng Fong General Hospital,   \n",
       "2                                                                                                          609606 Singapore, Singapore. E-mail: ting_lyu@nuhs.edu.sg A B S T R A C T INTRODUCTION: With the latest addition from Re-evaluation of Systemic Early Neuromuscular Blockade (ROSE) Tri­ al result, the question of mortality benefit from neuromuscular blocking agents (NMBAs) in different studies, remained  unanswered. We hypothesize that NMBAs use   \n",
       "21    mechanical ventilation at day-28 post random­ ization. ICU-AW was assessed using Medical  Research Council Scale (MRC) at day 28. We combined study results by using the actual  as high positive end expiratory pressure (PEEP)  strategies and recruitment maneuver failed to  demonstrate clear benefit.4 Muscle relaxation is one of the common non- ventilatory strategies used by clinician in man­ aging moderate to severe ARDS.5 Benefits from  neurom   \n",
       "\n",
       "    similarity_score  \n",
       "22            0.6595  \n",
       "8             0.6178  \n",
       "0             0.5998  \n",
       "2             0.5818  \n",
       "21            0.5340  "
      ]
     },
     "metadata": {},
     "output_type": "display_data"
    },
    {
     "name": "stdout",
     "output_type": "stream",
     "text": [
      "\n",
      "Paper 27: ESCNBC\n"
     ]
    },
    {
     "data": {
      "text/plain": [
       "'Yes, the question is relevant as it pertains to the use of neuromuscular blocking agents and their impact on ventilator free days, which is discussed in the text.'"
      ]
     },
     "metadata": {},
     "output_type": "display_data"
    },
    {
     "data": {
      "text/plain": [
       "'The Avg similarity of the top5chunks is:'"
      ]
     },
     "metadata": {},
     "output_type": "display_data"
    },
    {
     "data": {
      "text/plain": [
       "0.5184"
      ]
     },
     "metadata": {},
     "output_type": "display_data"
    },
    {
     "data": {
      "text/html": [
       "<div>\n",
       "<style scoped>\n",
       "    .dataframe tbody tr th:only-of-type {\n",
       "        vertical-align: middle;\n",
       "    }\n",
       "\n",
       "    .dataframe tbody tr th {\n",
       "        vertical-align: top;\n",
       "    }\n",
       "\n",
       "    .dataframe thead th {\n",
       "        text-align: right;\n",
       "    }\n",
       "</style>\n",
       "<table border=\"1\" class=\"dataframe\">\n",
       "  <thead>\n",
       "    <tr style=\"text-align: right;\">\n",
       "      <th></th>\n",
       "      <th>paper_name</th>\n",
       "      <th>position</th>\n",
       "      <th>chunk_text</th>\n",
       "      <th>similarity_score</th>\n",
       "    </tr>\n",
       "  </thead>\n",
       "  <tbody>\n",
       "    <tr>\n",
       "      <th>18</th>\n",
       "      <td>ESCNBC.pdf</td>\n",
       "      <td>19</td>\n",
       "      <td>11]. Neuromuscular blocking agents (NMBAs) have been  commonly used for acute respiratory distress syndrome  (ARDS) [12, 13] to reduce patient–ventilator asynchrony  and—in the context of severely damaged and poorly com- pliant lungs—to improve oxygenation, while minimizing  the work of breathing and risks of barotrauma. Interna- tional studies have confirmed the use of NMBAs in up to  26</td>\n",
       "      <td>0.5847</td>\n",
       "    </tr>\n",
       "    <tr>\n",
       "      <th>99</th>\n",
       "      <td>ESCNBC.pdf</td>\n",
       "      <td>100</td>\n",
       "      <td>055) (Table 5).  In addition, when analyses were restricted to only 2 days  (Table 6) or 3 days of NMBA treatment (Table 7), similar  insignificant effect on 90-day mortality was found. Con- versely, sensitivity analysis exploring continuous NMBA  treatment beyond 3 days (Table 8) showed increased risk  Demographic and clinical characteristics upon intensive care unit admission of patients who received or did not receive neuromuscular blocking</td>\n",
       "      <td>0.5520</td>\n",
       "    </tr>\n",
       "    <tr>\n",
       "      <th>17</th>\n",
       "      <td>ESCNBC.pdf</td>\n",
       "      <td>18</td>\n",
       "      <td>coronavirus disease 2019 (COVID-19) become critically  ill and require invasive mechanical ventilation (IMV) for  life-threatening respiratory failure [2–5]. High mortality  has been reported in this subpopulation [4, 6–9], irre- spective of survival benefits from established treatments,  such as corticosteroids and IL-6 receptor antagonists [10,  11]. Neuromuscular blocking agents (NMBAs) have been  commonly used</td>\n",
       "      <td>0.4988</td>\n",
       "    </tr>\n",
       "    <tr>\n",
       "      <th>0</th>\n",
       "      <td>ESCNBC.pdf</td>\n",
       "      <td>1</td>\n",
       "      <td>Li Bassi et al. Critical Care          (2022) 26:141   https://doi.org/10.1186/s13054-022-03983-5 RESEARCH Early short course of neuromuscular  blocking agents in patients with COVID‑19  ARDS: a propensity score analysis Gianluigi Li Bassi1,2,</td>\n",
       "      <td>0.4883</td>\n",
       "    </tr>\n",
       "    <tr>\n",
       "      <th>7</th>\n",
       "      <td>ESCNBC.pdf</td>\n",
       "      <td>8</td>\n",
       "      <td>undergoing at least 2 days and up to 3 consecutive days of NMBAs (NMBA treatment), within 48 h  from commencement of IMV were compared with subjects who did not receive NMBAs or only upon commence- ment of IMV (control). The primary objective in the PS-matched cohort was comparison between groups in 90-day  in-hospital mortality, assessed through Cox proportional hazard modeling. Secondary objectives were comparisons in  the numbers of ventilator-free days (</td>\n",
       "      <td>0.4682</td>\n",
       "    </tr>\n",
       "  </tbody>\n",
       "</table>\n",
       "</div>"
      ],
      "text/plain": [
       "    paper_name  position  \\\n",
       "18  ESCNBC.pdf        19   \n",
       "99  ESCNBC.pdf       100   \n",
       "17  ESCNBC.pdf        18   \n",
       "0   ESCNBC.pdf         1   \n",
       "7   ESCNBC.pdf         8   \n",
       "\n",
       "                                                                                                                                                                                                                                                                                                                                                                                                                                                                         chunk_text  \\\n",
       "18                                                                          11]. Neuromuscular blocking agents (NMBAs) have been  commonly used for acute respiratory distress syndrome  (ARDS) [12, 13] to reduce patient–ventilator asynchrony  and—in the context of severely damaged and poorly com- pliant lungs—to improve oxygenation, while minimizing  the work of breathing and risks of barotrauma. Interna- tional studies have confirmed the use of NMBAs in up to  26   \n",
       "99                  055) (Table 5).  In addition, when analyses were restricted to only 2 days  (Table 6) or 3 days of NMBA treatment (Table 7), similar  insignificant effect on 90-day mortality was found. Con- versely, sensitivity analysis exploring continuous NMBA  treatment beyond 3 days (Table 8) showed increased risk  Demographic and clinical characteristics upon intensive care unit admission of patients who received or did not receive neuromuscular blocking   \n",
       "17                                                coronavirus disease 2019 (COVID-19) become critically  ill and require invasive mechanical ventilation (IMV) for  life-threatening respiratory failure [2–5]. High mortality  has been reported in this subpopulation [4, 6–9], irre- spective of survival benefits from established treatments,  such as corticosteroids and IL-6 receptor antagonists [10,  11]. Neuromuscular blocking agents (NMBAs) have been  commonly used   \n",
       "0                                                                                                                                                                                                                               Li Bassi et al. Critical Care          (2022) 26:141   https://doi.org/10.1186/s13054-022-03983-5 RESEARCH Early short course of neuromuscular  blocking agents in patients with COVID‑19  ARDS: a propensity score analysis Gianluigi Li Bassi1,2,   \n",
       "7    undergoing at least 2 days and up to 3 consecutive days of NMBAs (NMBA treatment), within 48 h  from commencement of IMV were compared with subjects who did not receive NMBAs or only upon commence- ment of IMV (control). The primary objective in the PS-matched cohort was comparison between groups in 90-day  in-hospital mortality, assessed through Cox proportional hazard modeling. Secondary objectives were comparisons in  the numbers of ventilator-free days (   \n",
       "\n",
       "    similarity_score  \n",
       "18            0.5847  \n",
       "99            0.5520  \n",
       "17            0.4988  \n",
       "0             0.4883  \n",
       "7             0.4682  "
      ]
     },
     "metadata": {},
     "output_type": "display_data"
    },
    {
     "name": "stdout",
     "output_type": "stream",
     "text": [
      "\n",
      "Paper 28: CCCARDS\n",
      "No chunk data found for paper: CCCARDS\n"
     ]
    },
    {
     "data": {
      "text/plain": [
       "'No, the text chunks do not mention neuromuscular blocking agents or ventilator free days.'"
      ]
     },
     "metadata": {},
     "output_type": "display_data"
    },
    {
     "data": {
      "text/plain": [
       "'The Avg similarity of the top5chunks is:'"
      ]
     },
     "metadata": {},
     "output_type": "display_data"
    },
    {
     "data": {
      "text/plain": [
       "nan"
      ]
     },
     "metadata": {},
     "output_type": "display_data"
    },
    {
     "data": {
      "text/html": [
       "<div>\n",
       "<style scoped>\n",
       "    .dataframe tbody tr th:only-of-type {\n",
       "        vertical-align: middle;\n",
       "    }\n",
       "\n",
       "    .dataframe tbody tr th {\n",
       "        vertical-align: top;\n",
       "    }\n",
       "\n",
       "    .dataframe thead th {\n",
       "        text-align: right;\n",
       "    }\n",
       "</style>\n",
       "<table border=\"1\" class=\"dataframe\">\n",
       "  <thead>\n",
       "    <tr style=\"text-align: right;\">\n",
       "      <th></th>\n",
       "      <th>paper_name</th>\n",
       "      <th>position</th>\n",
       "      <th>chunk_text</th>\n",
       "      <th>similarity_score</th>\n",
       "    </tr>\n",
       "  </thead>\n",
       "  <tbody>\n",
       "  </tbody>\n",
       "</table>\n",
       "</div>"
      ],
      "text/plain": [
       "Empty DataFrame\n",
       "Columns: [paper_name, position, chunk_text, similarity_score]\n",
       "Index: []"
      ]
     },
     "metadata": {},
     "output_type": "display_data"
    },
    {
     "name": "stdout",
     "output_type": "stream",
     "text": [
      "\n",
      "Paper 29: RARDS\n"
     ]
    },
    {
     "data": {
      "text/plain": [
       "'Yes, it is relevant to the text chunks as they discuss the outcomes of patients in terms of ventilator-free days.'"
      ]
     },
     "metadata": {},
     "output_type": "display_data"
    },
    {
     "data": {
      "text/plain": [
       "'The Avg similarity of the top5chunks is:'"
      ]
     },
     "metadata": {},
     "output_type": "display_data"
    },
    {
     "data": {
      "text/plain": [
       "0.4903799999999999"
      ]
     },
     "metadata": {},
     "output_type": "display_data"
    },
    {
     "data": {
      "text/html": [
       "<div>\n",
       "<style scoped>\n",
       "    .dataframe tbody tr th:only-of-type {\n",
       "        vertical-align: middle;\n",
       "    }\n",
       "\n",
       "    .dataframe tbody tr th {\n",
       "        vertical-align: top;\n",
       "    }\n",
       "\n",
       "    .dataframe thead th {\n",
       "        text-align: right;\n",
       "    }\n",
       "</style>\n",
       "<table border=\"1\" class=\"dataframe\">\n",
       "  <thead>\n",
       "    <tr style=\"text-align: right;\">\n",
       "      <th></th>\n",
       "      <th>paper_name</th>\n",
       "      <th>position</th>\n",
       "      <th>chunk_text</th>\n",
       "      <th>similarity_score</th>\n",
       "    </tr>\n",
       "  </thead>\n",
       "  <tbody>\n",
       "    <tr>\n",
       "      <th>46</th>\n",
       "      <td>RARDS.pdf</td>\n",
       "      <td>47</td>\n",
       "      <td>. N Engl J Med 2013;368:2159–2168. 3 Papazian L, Forel JM, Gacouin A, Penot-Ragon C, Perrin G, Loundou A, et al.; ACURASYS Study Investigators. Neuromuscular blockers in early acute respiratory distress syndrome. N Engl J Med 2010;363: 1107–1116. 4 Maiolo G, Collino F, Vasques F,</td>\n",
       "      <td>0.5282</td>\n",
       "    </tr>\n",
       "    <tr>\n",
       "      <th>14</th>\n",
       "      <td>RARDS.pdf</td>\n",
       "      <td>15</td>\n",
       "      <td>for 48 hours or more. Ventilator-free days and ICU-free days were the number of days in the ﬁrst 28 days that a patient was alive and not on a ventilator, or alive and not in the ICU, respectively. Categorical variables are presented as count (percentage) and compared using chi-square or Fisher’s exact test, as appropriate. Continuous variables are presented as median (interquartile range) and compared using</td>\n",
       "      <td>0.5164</td>\n",
       "    </tr>\n",
       "    <tr>\n",
       "      <th>20</th>\n",
       "      <td>RARDS.pdf</td>\n",
       "      <td>21</td>\n",
       "      <td>P = 0.004) had the ARDS resolve rapidly. In addition, patients with moderate–severe ARDS had fewer ventilator-free days (median [interquartile 998 AnnalsATS Volume 15 Number 8| August 2018</td>\n",
       "      <td>0.4743</td>\n",
       "    </tr>\n",
       "    <tr>\n",
       "      <th>24</th>\n",
       "      <td>RARDS.pdf</td>\n",
       "      <td>25</td>\n",
       "      <td>, ventilator-free days, and ICU-free days (Table 2). We found no difference between the compared Table 1. Baseline characteristics of patients with moderate–severe versus mild–moderate acute respiratory distress syndrome Characteristic Moderate–Severe ARDS Mild–Moderate ARDS No. of patients 467 403 Age, yr, median (IQR) 52 (41–62) 53 (42–66) Male sex, n (%) 231 (49.5) 213 (</td>\n",
       "      <td>0.4667</td>\n",
       "    </tr>\n",
       "    <tr>\n",
       "      <th>13</th>\n",
       "      <td>RARDS.pdf</td>\n",
       "      <td>14</td>\n",
       "      <td>Proportion of patients with rapidly resolving ARDS, ventilator-free days, and intensive care unit (ICU)–free days were the secondary outcomes of our analysis. ARDS was considered rapidly resolving if the patient had a PaO2/FIO2 over 300 mm Hg within 24 hours after enrollment or achieved unassisted breathing within 24 hours after enrollment and remained free from assisted breathing for 48 hours or more. Ventilator-free days and ICU-free days were the</td>\n",
       "      <td>0.4663</td>\n",
       "    </tr>\n",
       "  </tbody>\n",
       "</table>\n",
       "</div>"
      ],
      "text/plain": [
       "   paper_name  position  \\\n",
       "46  RARDS.pdf        47   \n",
       "14  RARDS.pdf        15   \n",
       "20  RARDS.pdf        21   \n",
       "24  RARDS.pdf        25   \n",
       "13  RARDS.pdf        14   \n",
       "\n",
       "                                                                                                                                                                                                                                                                                                                                                                                                                                                                chunk_text  \\\n",
       "46                                                                                                                                                                                . N Engl J Med 2013;368:2159–2168. 3 Papazian L, Forel JM, Gacouin A, Penot-Ragon C, Perrin G, Loundou A, et al.; ACURASYS Study Investigators. Neuromuscular blockers in early acute respiratory distress syndrome. N Engl J Med 2010;363: 1107–1116. 4 Maiolo G, Collino F, Vasques F,   \n",
       "14                                             for 48 hours or more. Ventilator-free days and ICU-free days were the number of days in the ﬁrst 28 days that a patient was alive and not on a ventilator, or alive and not in the ICU, respectively. Categorical variables are presented as count (percentage) and compared using chi-square or Fisher’s exact test, as appropriate. Continuous variables are presented as median (interquartile range) and compared using   \n",
       "20                                                                                                                                                                                                                                                                            P = 0.004) had the ARDS resolve rapidly. In addition, patients with moderate–severe ARDS had fewer ventilator-free days (median [interquartile 998 AnnalsATS Volume 15 Number 8| August 2018   \n",
       "24                                                                                , ventilator-free days, and ICU-free days (Table 2). We found no difference between the compared Table 1. Baseline characteristics of patients with moderate–severe versus mild–moderate acute respiratory distress syndrome Characteristic Moderate–Severe ARDS Mild–Moderate ARDS No. of patients 467 403 Age, yr, median (IQR) 52 (41–62) 53 (42–66) Male sex, n (%) 231 (49.5) 213 (   \n",
       "13   Proportion of patients with rapidly resolving ARDS, ventilator-free days, and intensive care unit (ICU)–free days were the secondary outcomes of our analysis. ARDS was considered rapidly resolving if the patient had a PaO2/FIO2 over 300 mm Hg within 24 hours after enrollment or achieved unassisted breathing within 24 hours after enrollment and remained free from assisted breathing for 48 hours or more. Ventilator-free days and ICU-free days were the   \n",
       "\n",
       "    similarity_score  \n",
       "46            0.5282  \n",
       "14            0.5164  \n",
       "20            0.4743  \n",
       "24            0.4667  \n",
       "13            0.4663  "
      ]
     },
     "metadata": {},
     "output_type": "display_data"
    },
    {
     "name": "stdout",
     "output_type": "stream",
     "text": [
      "\n",
      "Paper 30: APV\n"
     ]
    },
    {
     "data": {
      "text/plain": [
       "'No, the question about neuromuscular blocking agents does not have relevance to the text chunks provided.'"
      ]
     },
     "metadata": {},
     "output_type": "display_data"
    },
    {
     "data": {
      "text/plain": [
       "'The Avg similarity of the top5chunks is:'"
      ]
     },
     "metadata": {},
     "output_type": "display_data"
    },
    {
     "data": {
      "text/plain": [
       "0.41124"
      ]
     },
     "metadata": {},
     "output_type": "display_data"
    },
    {
     "data": {
      "text/html": [
       "<div>\n",
       "<style scoped>\n",
       "    .dataframe tbody tr th:only-of-type {\n",
       "        vertical-align: middle;\n",
       "    }\n",
       "\n",
       "    .dataframe tbody tr th {\n",
       "        vertical-align: top;\n",
       "    }\n",
       "\n",
       "    .dataframe thead th {\n",
       "        text-align: right;\n",
       "    }\n",
       "</style>\n",
       "<table border=\"1\" class=\"dataframe\">\n",
       "  <thead>\n",
       "    <tr style=\"text-align: right;\">\n",
       "      <th></th>\n",
       "      <th>paper_name</th>\n",
       "      <th>position</th>\n",
       "      <th>chunk_text</th>\n",
       "      <th>similarity_score</th>\n",
       "    </tr>\n",
       "  </thead>\n",
       "  <tbody>\n",
       "    <tr>\n",
       "      <th>64</th>\n",
       "      <td>APV.pdf</td>\n",
       "      <td>65</td>\n",
       "      <td>the EIT images in the next subsection. After turning on the protocol for 2 hours during 0.5 to 2.5 hours, gas exchange was gradually improved due to the ventilation therapy. Again, at 2.5 hours, poor gas exchange recurred during hyp- oxia because of disconnection at the patient–ventilator interface for 10 seconds. Since PaCO2 was taken be- fore disconnection at the patient–ventilator interface, severe hypercapnia was later detected (</td>\n",
       "      <td>0.4259</td>\n",
       "    </tr>\n",
       "    <tr>\n",
       "      <th>65</th>\n",
       "      <td>APV.pdf</td>\n",
       "      <td>66</td>\n",
       "      <td>fore disconnection at the patient–ventilator interface, severe hypercapnia was later detected (at 3 hours). However, the automatic ventilation improved gas ex- change and severe hypercapnia was relieved in a timely manner. 0 0.5 1 1.5 2 2.5 3 3.5 4 15 20 25 30 35 40 RR [bpm] 0 0.5 1 1.5 2 2.5 3 3.5 4 7 7.1 7.2 7.</td>\n",
       "      <td>0.4198</td>\n",
       "    </tr>\n",
       "    <tr>\n",
       "      <th>15</th>\n",
       "      <td>APV.pdf</td>\n",
       "      <td>16</td>\n",
       "      <td>original ARDSNet protocol was implemented in our auto- matic ventilation therapy system. The therapeutic ap- proach focuses not only on avoiding ventilator-induced lung injury by using low tidal volume per PBW (≤6 ml/kg) and restricted plateau pressure (Pplat ≤30 cmH2O), but also on providing sufficient gas exchange with defined oxygenation targets and meeting pH goals. The goals for protective ventilation using this protocol are to improve and regulate oxygenation, to</td>\n",
       "      <td>0.4142</td>\n",
       "    </tr>\n",
       "    <tr>\n",
       "      <th>95</th>\n",
       "      <td>APV.pdf</td>\n",
       "      <td>96</td>\n",
       "      <td>piratory pause for 0.5 seconds and represents alveolar pressure. Pplat &gt; 30 cmH2O is associated with a higher mortality rate [17]. To fulfill the second goal of protective ventilation, VTPW should be reduced in stepwise increments of 1 cmH2O, with a lowest limit of 4 ml/kg. For severe ARDS patients, PEEP should be set relatively high enough to satisfy oxygenation goal. Hence, VTPW should automatic- ally be</td>\n",
       "      <td>0.4010</td>\n",
       "    </tr>\n",
       "    <tr>\n",
       "      <th>62</th>\n",
       "      <td>APV.pdf</td>\n",
       "      <td>63</td>\n",
       "      <td>15 minutes after the disconnection time (2.5 hours). ARDSNet, Acute Respiratory Distress Syndrome Network; FiO2, fraction of inspired oxygen; SaO2, arterial oxygen saturation; PEEP, positive end-expiratory pressure; VTPW, tidal volume per weight. Pomprapa et al. Critical Care 2014, 18:R128 Page 5 of 13 http://ccforum.com/content/18/3/R128</td>\n",
       "      <td>0.3953</td>\n",
       "    </tr>\n",
       "  </tbody>\n",
       "</table>\n",
       "</div>"
      ],
      "text/plain": [
       "   paper_name  position  \\\n",
       "64    APV.pdf        65   \n",
       "65    APV.pdf        66   \n",
       "15    APV.pdf        16   \n",
       "95    APV.pdf        96   \n",
       "62    APV.pdf        63   \n",
       "\n",
       "                                                                                                                                                                                                                                                                                                                                                                                                                                                                                    chunk_text  \\\n",
       "64                                       the EIT images in the next subsection. After turning on the protocol for 2 hours during 0.5 to 2.5 hours, gas exchange was gradually improved due to the ventilation therapy. Again, at 2.5 hours, poor gas exchange recurred during hyp- oxia because of disconnection at the patient–ventilator interface for 10 seconds. Since PaCO2 was taken be- fore disconnection at the patient–ventilator interface, severe hypercapnia was later detected (   \n",
       "65                                                                                                                                                                  fore disconnection at the patient–ventilator interface, severe hypercapnia was later detected (at 3 hours). However, the automatic ventilation improved gas ex- change and severe hypercapnia was relieved in a timely manner. 0 0.5 1 1.5 2 2.5 3 3.5 4 15 20 25 30 35 40 RR [bpm] 0 0.5 1 1.5 2 2.5 3 3.5 4 7 7.1 7.2 7.   \n",
       "15   original ARDSNet protocol was implemented in our auto- matic ventilation therapy system. The therapeutic ap- proach focuses not only on avoiding ventilator-induced lung injury by using low tidal volume per PBW (≤6 ml/kg) and restricted plateau pressure (Pplat ≤30 cmH2O), but also on providing sufficient gas exchange with defined oxygenation targets and meeting pH goals. The goals for protective ventilation using this protocol are to improve and regulate oxygenation, to   \n",
       "95                                                                   piratory pause for 0.5 seconds and represents alveolar pressure. Pplat > 30 cmH2O is associated with a higher mortality rate [17]. To fulfill the second goal of protective ventilation, VTPW should be reduced in stepwise increments of 1 cmH2O, with a lowest limit of 4 ml/kg. For severe ARDS patients, PEEP should be set relatively high enough to satisfy oxygenation goal. Hence, VTPW should automatic- ally be   \n",
       "62                                                                                                                                        15 minutes after the disconnection time (2.5 hours). ARDSNet, Acute Respiratory Distress Syndrome Network; FiO2, fraction of inspired oxygen; SaO2, arterial oxygen saturation; PEEP, positive end-expiratory pressure; VTPW, tidal volume per weight. Pomprapa et al. Critical Care 2014, 18:R128 Page 5 of 13 http://ccforum.com/content/18/3/R128   \n",
       "\n",
       "    similarity_score  \n",
       "64            0.4259  \n",
       "65            0.4198  \n",
       "15            0.4142  \n",
       "95            0.4010  \n",
       "62            0.3953  "
      ]
     },
     "metadata": {},
     "output_type": "display_data"
    },
    {
     "name": "stdout",
     "output_type": "stream",
     "text": [
      "\n",
      "Paper 31: HARDST\n"
     ]
    },
    {
     "data": {
      "text/plain": [
       "'No, the question does not have relevance to the text chunks provided.'"
      ]
     },
     "metadata": {},
     "output_type": "display_data"
    },
    {
     "data": {
      "text/plain": [
       "'The Avg similarity of the top5chunks is:'"
      ]
     },
     "metadata": {},
     "output_type": "display_data"
    },
    {
     "data": {
      "text/plain": [
       "0.45393999999999995"
      ]
     },
     "metadata": {},
     "output_type": "display_data"
    },
    {
     "data": {
      "text/html": [
       "<div>\n",
       "<style scoped>\n",
       "    .dataframe tbody tr th:only-of-type {\n",
       "        vertical-align: middle;\n",
       "    }\n",
       "\n",
       "    .dataframe tbody tr th {\n",
       "        vertical-align: top;\n",
       "    }\n",
       "\n",
       "    .dataframe thead th {\n",
       "        text-align: right;\n",
       "    }\n",
       "</style>\n",
       "<table border=\"1\" class=\"dataframe\">\n",
       "  <thead>\n",
       "    <tr style=\"text-align: right;\">\n",
       "      <th></th>\n",
       "      <th>paper_name</th>\n",
       "      <th>position</th>\n",
       "      <th>chunk_text</th>\n",
       "      <th>similarity_score</th>\n",
       "    </tr>\n",
       "  </thead>\n",
       "  <tbody>\n",
       "    <tr>\n",
       "      <th>45</th>\n",
       "      <td>HARDST.pdf</td>\n",
       "      <td>46</td>\n",
       "      <td>, Blanch L, Murias G, Adams AB, Olson DA, Wangensteen OD, et al. Effects of decreased respiratory frequency on ventilator-induced lung injury. Am J Respir Crit Care Med. 2000;161(2 Pt 1):463–8. 28. Fujita Y, Fujino Y, Uchiyama A, Mashimo T, Nishimura M. High peak inspiratory flow can aggravate ventilator-induced lung injury in rabbits. Med</td>\n",
       "      <td>0.5118</td>\n",
       "    </tr>\n",
       "    <tr>\n",
       "      <th>8</th>\n",
       "      <td>HARDST.pdf</td>\n",
       "      <td>9</td>\n",
       "      <td>]. We strongly recommend this approach, as it allows one to choose the most rational, and consequently less hazardous, respiratory support regimen in any given patient. Mechanical ventilation does not cure ARDS but simply buys time by maintaining a gas exchange sufficient for survival. This benefit is provided by taking over the function of the respiratory muscles. In patients with ARDS, the respiratory muscles are unable, for several reasons, to provide sufficient power to move gas in and out of the lungs. The effects of mechanical ventilation on</td>\n",
       "      <td>0.4681</td>\n",
       "    </tr>\n",
       "    <tr>\n",
       "      <th>46</th>\n",
       "      <td>HARDST.pdf</td>\n",
       "      <td>47</td>\n",
       "      <td>. High peak inspiratory flow can aggravate ventilator-induced lung injury in rabbits. Med Sci Monit Int Med J Exp Clin Res. 2007;13:BR95–100. 29. Cressoni M, Gotti M, Chiurazzi C, Massari D, Algieri I, Amini M, et al. Mechanical power and development of ventilator-induced lung injury. Anesthesiology. 2016 Feb 12. [Epub ahead of print].</td>\n",
       "      <td>0.4319</td>\n",
       "    </tr>\n",
       "    <tr>\n",
       "      <th>11</th>\n",
       "      <td>HARDST.pdf</td>\n",
       "      <td>12</td>\n",
       "      <td>] and the increased pulmonary dead space [18] increase the necessary minute ventilation to a level that is far greater than normal even if some degree of hypercapnia were to © 2016 Gattinoni and Quintel. Open Access This article is distributed under the terms of the Creative Commons Attribution 4.0 International License (http://creativecommons.org/licenses/by/4.0/), which permits unrestricted use, distribution, and reproduction in any medium, provided you give appropriate</td>\n",
       "      <td>0.4294</td>\n",
       "    </tr>\n",
       "    <tr>\n",
       "      <th>35</th>\n",
       "      <td>HARDST.pdf</td>\n",
       "      <td>36</td>\n",
       "      <td>. Recruitment and derecruitment during acute respiratory failure: an experimental study. Am J Respir Crit Care Med. 2001;164:122–30. 14. Gattinoni L, D’Andrea L, Pelosi P, Vitale G, Pesenti A, Fumagalli R. Regional effects and mechanism of positive end-expiratory pressure in early adult respiratory distress syndrome. JAMA J Am Med Assoc. 1993;269:2122</td>\n",
       "      <td>0.4285</td>\n",
       "    </tr>\n",
       "  </tbody>\n",
       "</table>\n",
       "</div>"
      ],
      "text/plain": [
       "    paper_name  position  \\\n",
       "45  HARDST.pdf        46   \n",
       "8   HARDST.pdf         9   \n",
       "46  HARDST.pdf        47   \n",
       "11  HARDST.pdf        12   \n",
       "35  HARDST.pdf        36   \n",
       "\n",
       "                                                                                                                                                                                                                                                                                                                                                                                                                                                                                                                                                                   chunk_text  \\\n",
       "45                                                                                                                                                                                                                      , Blanch L, Murias G, Adams AB, Olson DA, Wangensteen OD, et al. Effects of decreased respiratory frequency on ventilator-induced lung injury. Am J Respir Crit Care Med. 2000;161(2 Pt 1):463–8. 28. Fujita Y, Fujino Y, Uchiyama A, Mashimo T, Nishimura M. High peak inspiratory flow can aggravate ventilator-induced lung injury in rabbits. Med   \n",
       "8   ]. We strongly recommend this approach, as it allows one to choose the most rational, and consequently less hazardous, respiratory support regimen in any given patient. Mechanical ventilation does not cure ARDS but simply buys time by maintaining a gas exchange sufficient for survival. This benefit is provided by taking over the function of the respiratory muscles. In patients with ARDS, the respiratory muscles are unable, for several reasons, to provide sufficient power to move gas in and out of the lungs. The effects of mechanical ventilation on   \n",
       "46                                                                                                                                                                                                                          . High peak inspiratory flow can aggravate ventilator-induced lung injury in rabbits. Med Sci Monit Int Med J Exp Clin Res. 2007;13:BR95–100. 29. Cressoni M, Gotti M, Chiurazzi C, Massari D, Algieri I, Amini M, et al. Mechanical power and development of ventilator-induced lung injury. Anesthesiology. 2016 Feb 12. [Epub ahead of print].   \n",
       "11                                                                               ] and the increased pulmonary dead space [18] increase the necessary minute ventilation to a level that is far greater than normal even if some degree of hypercapnia were to © 2016 Gattinoni and Quintel. Open Access This article is distributed under the terms of the Creative Commons Attribution 4.0 International License (http://creativecommons.org/licenses/by/4.0/), which permits unrestricted use, distribution, and reproduction in any medium, provided you give appropriate   \n",
       "35                                                                                                                                                                                                          . Recruitment and derecruitment during acute respiratory failure: an experimental study. Am J Respir Crit Care Med. 2001;164:122–30. 14. Gattinoni L, D’Andrea L, Pelosi P, Vitale G, Pesenti A, Fumagalli R. Regional effects and mechanism of positive end-expiratory pressure in early adult respiratory distress syndrome. JAMA J Am Med Assoc. 1993;269:2122   \n",
       "\n",
       "    similarity_score  \n",
       "45            0.5118  \n",
       "8             0.4681  \n",
       "46            0.4319  \n",
       "11            0.4294  \n",
       "35            0.4285  "
      ]
     },
     "metadata": {},
     "output_type": "display_data"
    },
    {
     "name": "stdout",
     "output_type": "stream",
     "text": [
      "\n",
      "Paper 32: DTNP\n"
     ]
    },
    {
     "data": {
      "text/plain": [
       "'No, the question is not relevant to the text chunks provided.'"
      ]
     },
     "metadata": {},
     "output_type": "display_data"
    },
    {
     "data": {
      "text/plain": [
       "'The Avg similarity of the top5chunks is:'"
      ]
     },
     "metadata": {},
     "output_type": "display_data"
    },
    {
     "data": {
      "text/plain": [
       "0.36546"
      ]
     },
     "metadata": {},
     "output_type": "display_data"
    },
    {
     "data": {
      "text/html": [
       "<div>\n",
       "<style scoped>\n",
       "    .dataframe tbody tr th:only-of-type {\n",
       "        vertical-align: middle;\n",
       "    }\n",
       "\n",
       "    .dataframe tbody tr th {\n",
       "        vertical-align: top;\n",
       "    }\n",
       "\n",
       "    .dataframe thead th {\n",
       "        text-align: right;\n",
       "    }\n",
       "</style>\n",
       "<table border=\"1\" class=\"dataframe\">\n",
       "  <thead>\n",
       "    <tr style=\"text-align: right;\">\n",
       "      <th></th>\n",
       "      <th>paper_name</th>\n",
       "      <th>position</th>\n",
       "      <th>chunk_text</th>\n",
       "      <th>similarity_score</th>\n",
       "    </tr>\n",
       "  </thead>\n",
       "  <tbody>\n",
       "    <tr>\n",
       "      <th>19</th>\n",
       "      <td>DTNP.pdf</td>\n",
       "      <td>20</td>\n",
       "      <td>infections with potentially increased morbidity and mortality, in addi- tion to antibiotic-related toxicity and higher costs [11–13]. In 2003, it is essential to treat VAP patients without delay, and to limit the development and dissemination of antibiotic- resistant infections. Intensivists responsible for patients on mechanical ventilation have: 1) to identify patients with VAP, 2) to select appropriate initial antimicrobial therapy, 3) to adjust therapy as soon as possible, and 4) to withhold</td>\n",
       "      <td>0.3980</td>\n",
       "    </tr>\n",
       "    <tr>\n",
       "      <th>16</th>\n",
       "      <td>DTNP.pdf</td>\n",
       "      <td>17</td>\n",
       "      <td>UK – all rights reserved Copyright #ERS Journals Ltd 2003 European Respiratory Journal ISSN 0904-1850  on February 26, 2025 at Duke Medical Library. Please see licensing information on first page for reuse rights.  https://publications.ersnet.org Downloaded from</td>\n",
       "      <td>0.3841</td>\n",
       "    </tr>\n",
       "    <tr>\n",
       "      <th>13</th>\n",
       "      <td>DTNP.pdf</td>\n",
       "      <td>14</td>\n",
       "      <td>causes in hospitalised, ventilator-dependent patients. Fever and leuko- cytosis may be the consequences of any condition that releases cytokines, including noninfectious origins, such as drug-related fever, pulmonary oedema or infarction, and nonpulmonary infections such as vascular catheter infection, gastrointestinal infection, urinary tract infection, postopera- tive fever, sinusitis or wound infection. MEDURI et al. [8] conﬁ</td>\n",
       "      <td>0.3523</td>\n",
       "    </tr>\n",
       "    <tr>\n",
       "      <th>37</th>\n",
       "      <td>DTNP.pdf</td>\n",
       "      <td>38</td>\n",
       "      <td>modalities of standard treatment), the results of that study suggest that, based on a clinical strategy alone, overtreatment is highly prevalent, but unnecessary in most patients. Thus, it is possible to use a strategy leading to signiﬁcantly lower antibiotic consumption without affecting the outcome of ventilated patients with clinical signs of pneumonia. Clinical strategy using qualitative cultures of tracheal secretions This approach is probably the most commonly applied in the ICU. In fact, it is used to complement</td>\n",
       "      <td>0.3503</td>\n",
       "    </tr>\n",
       "    <tr>\n",
       "      <th>91</th>\n",
       "      <td>DTNP.pdf</td>\n",
       "      <td>92</td>\n",
       "      <td>day 7, if a Cmax/MICw10 was achieved within the ﬁrst 48 h of aminoglycoside admini- stration. Aggressive aminoglycoside doses immediately fol- lowed by pharmacokinetic monitoring for each patient would ensure that Cmax/MIC target ratios are achieved early during therapy. These ﬁndings conﬁrm the need for adjusting the target dose of antimicrobial agents used to treat severe pulmonary infection to an</td>\n",
       "      <td>0.3426</td>\n",
       "    </tr>\n",
       "  </tbody>\n",
       "</table>\n",
       "</div>"
      ],
      "text/plain": [
       "   paper_name  position  \\\n",
       "19   DTNP.pdf        20   \n",
       "16   DTNP.pdf        17   \n",
       "13   DTNP.pdf        14   \n",
       "37   DTNP.pdf        38   \n",
       "91   DTNP.pdf        92   \n",
       "\n",
       "                                                                                                                                                                                                                                                                                                                                                                                                                                                                                                                                      chunk_text  \\\n",
       "19                          infections with potentially increased morbidity and mortality, in addi- tion to antibiotic-related toxicity and higher costs [11–13]. In 2003, it is essential to treat VAP patients without delay, and to limit the development and dissemination of antibiotic- resistant infections. Intensivists responsible for patients on mechanical ventilation have: 1) to identify patients with VAP, 2) to select appropriate initial antimicrobial therapy, 3) to adjust therapy as soon as possible, and 4) to withhold   \n",
       "16                                                                                                                                                                                                                                                                        UK – all rights reserved Copyright #ERS Journals Ltd 2003 European Respiratory Journal ISSN 0904-1850  on February 26, 2025 at Duke Medical Library. Please see licensing information on first page for reuse rights.  https://publications.ersnet.org Downloaded from   \n",
       "13                                                                                              causes in hospitalised, ventilator-dependent patients. Fever and leuko- cytosis may be the consequences of any condition that releases cytokines, including noninfectious origins, such as drug-related fever, pulmonary oedema or infarction, and nonpulmonary infections such as vascular catheter infection, gastrointestinal infection, urinary tract infection, postopera- tive fever, sinusitis or wound infection. MEDURI et al. [8] conﬁ   \n",
       "37  modalities of standard treatment), the results of that study suggest that, based on a clinical strategy alone, overtreatment is highly prevalent, but unnecessary in most patients. Thus, it is possible to use a strategy leading to signiﬁcantly lower antibiotic consumption without affecting the outcome of ventilated patients with clinical signs of pneumonia. Clinical strategy using qualitative cultures of tracheal secretions This approach is probably the most commonly applied in the ICU. In fact, it is used to complement   \n",
       "91                                                                                                                            day 7, if a Cmax/MICw10 was achieved within the ﬁrst 48 h of aminoglycoside admini- stration. Aggressive aminoglycoside doses immediately fol- lowed by pharmacokinetic monitoring for each patient would ensure that Cmax/MIC target ratios are achieved early during therapy. These ﬁndings conﬁrm the need for adjusting the target dose of antimicrobial agents used to treat severe pulmonary infection to an   \n",
       "\n",
       "    similarity_score  \n",
       "19            0.3980  \n",
       "16            0.3841  \n",
       "13            0.3523  \n",
       "37            0.3503  \n",
       "91            0.3426  "
      ]
     },
     "metadata": {},
     "output_type": "display_data"
    },
    {
     "name": "stdout",
     "output_type": "stream",
     "text": [
      "\n",
      "Paper 33: PTARDS\n"
     ]
    },
    {
     "data": {
      "text/plain": [
       "'No, the question is not relevant to the text chunks provided.'"
      ]
     },
     "metadata": {},
     "output_type": "display_data"
    },
    {
     "data": {
      "text/plain": [
       "'The Avg similarity of the top5chunks is:'"
      ]
     },
     "metadata": {},
     "output_type": "display_data"
    },
    {
     "data": {
      "text/plain": [
       "0.39396"
      ]
     },
     "metadata": {},
     "output_type": "display_data"
    },
    {
     "data": {
      "text/html": [
       "<div>\n",
       "<style scoped>\n",
       "    .dataframe tbody tr th:only-of-type {\n",
       "        vertical-align: middle;\n",
       "    }\n",
       "\n",
       "    .dataframe tbody tr th {\n",
       "        vertical-align: top;\n",
       "    }\n",
       "\n",
       "    .dataframe thead th {\n",
       "        text-align: right;\n",
       "    }\n",
       "</style>\n",
       "<table border=\"1\" class=\"dataframe\">\n",
       "  <thead>\n",
       "    <tr style=\"text-align: right;\">\n",
       "      <th></th>\n",
       "      <th>paper_name</th>\n",
       "      <th>position</th>\n",
       "      <th>chunk_text</th>\n",
       "      <th>similarity_score</th>\n",
       "    </tr>\n",
       "  </thead>\n",
       "  <tbody>\n",
       "    <tr>\n",
       "      <th>16</th>\n",
       "      <td>PTARDS.pdf</td>\n",
       "      <td>17</td>\n",
       "      <td>Copyright © 2016 by the Shock Society. Unauthorized reproduction of this article is prohibited. studies to identify mechanisms of action. Secondly, we con- ducted a meta-analysis on the available clinical studies to determine the effect of ASA on important clinical outcomes in ARDS (e.g., prevention, ventilator-free days, survival). MATERIALS AND METHODS Study selection, data extraction, and quality assessment A systemic search strategy was conducted to capture published preclinical and clinical studies</td>\n",
       "      <td>0.4339</td>\n",
       "    </tr>\n",
       "    <tr>\n",
       "      <th>64</th>\n",
       "      <td>PTARDS.pdf</td>\n",
       "      <td>65</td>\n",
       "      <td>resistance, and early pulmonary gas exchange. However, the late increase in pulmonary artery pressure and airway resistance was not inhibited by ASA and the late severe deterioration of gas exchange was even exaggerated compared with controls. In the study of Goncalves de Moraes et al. (29), it was shown that pretreatment with ASA increased the neutrophil number in the bronchial alveolar fluid (BALF). Quality assessment of preclinical studies Two studies (32, 35) reported</td>\n",
       "      <td>0.3931</td>\n",
       "    </tr>\n",
       "    <tr>\n",
       "      <th>86</th>\n",
       "      <td>PTARDS.pdf</td>\n",
       "      <td>87</td>\n",
       "      <td>level III evidence. The only RCTon the effect of APT for the prevention of ARDS was performed by Vincent et al. (52) in 1985. In this small (n ¼ 33) double-blinded pilot RCT, patients with circu- latory shock received either ASA plus dipyridamole or ASA plus placebo, the active comparator thus being the addition of dipyridamole, and was therefore excluded from our analysis. Of note, no benefits</td>\n",
       "      <td>0.3858</td>\n",
       "    </tr>\n",
       "    <tr>\n",
       "      <th>30</th>\n",
       "      <td>PTARDS.pdf</td>\n",
       "      <td>31</td>\n",
       "      <td>a combination of pretreatment and treatment for lung injury. All models induced lung injury, evidenced by an increase in lung edema and the appearance of neutrophils, proteins, and inflammatory mediators in broncho-alveolar lavage fluid. In two studies respiratory mechanics (27, 28) and in three studies pulmonary and systemic hemodynamics were measured (26– 28). Of the 15 preclinical trials, 13 reported a beneficial effect of antiplatelet drug on ARDS (26, 27</td>\n",
       "      <td>0.3800</td>\n",
       "    </tr>\n",
       "    <tr>\n",
       "      <th>31</th>\n",
       "      <td>PTARDS.pdf</td>\n",
       "      <td>32</td>\n",
       "      <td>clinical trials, 13 reported a beneficial effect of antiplatelet drug on ARDS (26, 27, 30–40), evidenced by improved oxygenation, diminished lung edema, inflammation, and in some an increased survival (32, 36). No benefit was observed in one study (28) and in one study (29) worsening of inflammation was demonstrated. Beneficial mechanisms of action of ASA in preclinical studies Leeman et al. (26) reported a beneficial effect of ASA. The involved</td>\n",
       "      <td>0.3770</td>\n",
       "    </tr>\n",
       "  </tbody>\n",
       "</table>\n",
       "</div>"
      ],
      "text/plain": [
       "    paper_name  position  \\\n",
       "16  PTARDS.pdf        17   \n",
       "64  PTARDS.pdf        65   \n",
       "86  PTARDS.pdf        87   \n",
       "30  PTARDS.pdf        31   \n",
       "31  PTARDS.pdf        32   \n",
       "\n",
       "                                                                                                                                                                                                                                                                                                                                                                                                                                                                                                                      chunk_text  \\\n",
       "16  Copyright © 2016 by the Shock Society. Unauthorized reproduction of this article is prohibited. studies to identify mechanisms of action. Secondly, we con- ducted a meta-analysis on the available clinical studies to determine the effect of ASA on important clinical outcomes in ARDS (e.g., prevention, ventilator-free days, survival). MATERIALS AND METHODS Study selection, data extraction, and quality assessment A systemic search strategy was conducted to capture published preclinical and clinical studies   \n",
       "64                                  resistance, and early pulmonary gas exchange. However, the late increase in pulmonary artery pressure and airway resistance was not inhibited by ASA and the late severe deterioration of gas exchange was even exaggerated compared with controls. In the study of Goncalves de Moraes et al. (29), it was shown that pretreatment with ASA increased the neutrophil number in the bronchial alveolar fluid (BALF). Quality assessment of preclinical studies Two studies (32, 35) reported   \n",
       "86                                                                                                                 level III evidence. The only RCTon the effect of APT for the prevention of ARDS was performed by Vincent et al. (52) in 1985. In this small (n ¼ 33) double-blinded pilot RCT, patients with circu- latory shock received either ASA plus dipyridamole or ASA plus placebo, the active comparator thus being the addition of dipyridamole, and was therefore excluded from our analysis. Of note, no benefits   \n",
       "30                                               a combination of pretreatment and treatment for lung injury. All models induced lung injury, evidenced by an increase in lung edema and the appearance of neutrophils, proteins, and inflammatory mediators in broncho-alveolar lavage fluid. In two studies respiratory mechanics (27, 28) and in three studies pulmonary and systemic hemodynamics were measured (26– 28). Of the 15 preclinical trials, 13 reported a beneficial effect of antiplatelet drug on ARDS (26, 27   \n",
       "31                                                             clinical trials, 13 reported a beneficial effect of antiplatelet drug on ARDS (26, 27, 30–40), evidenced by improved oxygenation, diminished lung edema, inflammation, and in some an increased survival (32, 36). No benefit was observed in one study (28) and in one study (29) worsening of inflammation was demonstrated. Beneficial mechanisms of action of ASA in preclinical studies Leeman et al. (26) reported a beneficial effect of ASA. The involved   \n",
       "\n",
       "    similarity_score  \n",
       "16            0.4339  \n",
       "64            0.3931  \n",
       "86            0.3858  \n",
       "30            0.3800  \n",
       "31            0.3770  "
      ]
     },
     "metadata": {},
     "output_type": "display_data"
    }
   ],
   "source": [
    "api_key = os.getenv(\"OPENAI_API_KEY\")\n",
    "if not api_key:\n",
    "    raise ValueError(\"OPENAI_API_KEY not found in .env file\")\n",
    "\n",
    "client = OpenAI(api_key=api_key)\n",
    "\n",
    "pd.set_option('display.max_colwidth', None)\n",
    "pd.set_option('display.max_rows', None)\n",
    "pd.set_option('display.max_columns', None)\n",
    "\n",
    "idx = 0 # index of the question. Change this to test different questions\n",
    "test_question = df_Paper['Question'].iloc[idx]\n",
    "print(f\"Question {idx+1}: {test_question}\")\n",
    "\n",
    "for i, paper in enumerate(ARDS_paper_names):\n",
    "    print(f\"\\nPaper {i+1}: {paper}\")\n",
    "    paper_name = str(paper)  # without .pdf extension\n",
    "    top5chunks = compare_embeddings(\n",
    "        question=test_question,\n",
    "        paper=paper_name,\n",
    "        top_k=5\n",
    "    )\n",
    "    \n",
    "    prompt = f\"Does the following question have any relevance to the text chunks below? Keep your answer short\\n\\nQuestion: {test_question}\\n\\nText Chunks:\\n\" + \\\n",
    "         '\\n'.join([f\"{i+1}. {text}\" for i, text in enumerate(top5chunks['chunk_text'])])\n",
    "    \n",
    "    try:\n",
    "        response = client.chat.completions.create(\n",
    "            model=\"gpt-3.5-turbo\",\n",
    "            messages=[{\"role\": \"user\", \"content\": prompt}],\n",
    "            max_tokens=200\n",
    "        )\n",
    "        output = response.choices[0].message.content.strip()\n",
    "        display(output)\n",
    "        display(\"The Avg similarity of the top5chunks is:\", top5chunks[\"similarity_score\"].mean())\n",
    "        display(top5chunks)\n",
    "    except Exception as e:\n",
    "        print(f\"Error: {e}\")\n",
    "        continue\n",
    "\n",
    "    # output = response.choices[0].message.content.strip()\n",
    "    # display(output)"
   ]
  }
 ],
 "metadata": {
  "kernelspec": {
   "display_name": ".venv",
   "language": "python",
   "name": "python3"
  },
  "language_info": {
   "codemirror_mode": {
    "name": "ipython",
    "version": 3
   },
   "file_extension": ".py",
   "mimetype": "text/x-python",
   "name": "python",
   "nbconvert_exporter": "python",
   "pygments_lexer": "ipython3",
   "version": "3.11.6"
  }
 },
 "nbformat": 4,
 "nbformat_minor": 2
}
