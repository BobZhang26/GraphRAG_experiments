{
 "cells": [
  {
   "cell_type": "markdown",
   "metadata": {},
   "source": [
    "# GraphRAG Relevance, Factuality and Synthesis Evaluation"
   ]
  },
  {
   "cell_type": "markdown",
   "metadata": {},
   "source": [
    "## Step 0: environment set up"
   ]
  },
  {
   "cell_type": "code",
   "execution_count": 11,
   "metadata": {
    "jupyter": {
     "is_executing": true
    }
   },
   "outputs": [
    {
     "data": {
      "text/plain": [
       "True"
      ]
     },
     "execution_count": 11,
     "metadata": {},
     "output_type": "execute_result"
    }
   ],
   "source": [
    "from dotenv import load_dotenv\n",
    "import os\n",
    "from langchain_neo4j import Neo4jGraph\n",
    "from libs import create_vector_index\n",
    "import pandas as pd\n",
    "from conn import connect2Googlesheet,retrieval_rel_docs, get_concatenate_df, apply_metric\n",
    "from libs import context_builder, chunk_finder, enhanced_chunk_finder\n",
    "# Force reload of the .env file\n",
    "load_dotenv()"
   ]
  },
  {
   "cell_type": "code",
   "execution_count": 12,
   "metadata": {},
   "outputs": [
    {
     "name": "stdout",
     "output_type": "stream",
     "text": [
      "Connected to Neo4j database successfully.\n"
     ]
    }
   ],
   "source": [
    "# Connect to Neo4j database\n",
    "try:\n",
    "    graph = Neo4jGraph(\n",
    "        url=os.getenv(\"NEO4J_URL\"),\n",
    "        username=os.getenv(\"NEO4J_USERNAME\"),\n",
    "        password=os.getenv(\"NEO4J_PASSWORD\")\n",
    "    )\n",
    "    print(\"Connected to Neo4j database successfully.\")\n",
    "except ValueError as e:\n",
    "    print(f\"Could not connect to Neo4j database: {e}\")"
   ]
  },
  {
   "cell_type": "markdown",
   "metadata": {},
   "source": [
    "## Step 1: Create vector index"
   ]
  },
  {
   "cell_type": "code",
   "execution_count": 13,
   "metadata": {},
   "outputs": [],
   "source": [
    "#create_vector_index(graph, \"entities\")"
   ]
  },
  {
   "cell_type": "markdown",
   "metadata": {},
   "source": [
    "## Step 2: Load questions from google sheet"
   ]
  },
  {
   "cell_type": "code",
   "execution_count": 14,
   "metadata": {},
   "outputs": [
    {
     "data": {
      "text/html": [
       "<div>\n",
       "<style scoped>\n",
       "    .dataframe tbody tr th:only-of-type {\n",
       "        vertical-align: middle;\n",
       "    }\n",
       "\n",
       "    .dataframe tbody tr th {\n",
       "        vertical-align: top;\n",
       "    }\n",
       "\n",
       "    .dataframe thead th {\n",
       "        text-align: right;\n",
       "    }\n",
       "</style>\n",
       "<table border=\"1\" class=\"dataframe\">\n",
       "  <thead>\n",
       "    <tr style=\"text-align: right;\">\n",
       "      <th></th>\n",
       "      <th>condition</th>\n",
       "      <th>number</th>\n",
       "      <th>docs</th>\n",
       "      <th>Question</th>\n",
       "      <th>Mahmud's Note</th>\n",
       "      <th>status</th>\n",
       "      <th>comments</th>\n",
       "      <th></th>\n",
       "    </tr>\n",
       "  </thead>\n",
       "  <tbody>\n",
       "    <tr>\n",
       "      <th>0</th>\n",
       "      <td>ARDS</td>\n",
       "      <td>1</td>\n",
       "      <td>ACURASYS</td>\n",
       "      <td>Does early administration of neuromuscular blocking agents increases the ventilator free days?</td>\n",
       "      <td>Like</td>\n",
       "      <td></td>\n",
       "      <td></td>\n",
       "      <td></td>\n",
       "    </tr>\n",
       "    <tr>\n",
       "      <th>1</th>\n",
       "      <td>ARDS</td>\n",
       "      <td>2</td>\n",
       "      <td>ACURASYS</td>\n",
       "      <td>Do patients with severe ARDS being treated with neuromuscular blocking agents have increased muscle weakness?</td>\n",
       "      <td>Replace</td>\n",
       "      <td>fixed</td>\n",
       "      <td></td>\n",
       "      <td></td>\n",
       "    </tr>\n",
       "    <tr>\n",
       "      <th>2</th>\n",
       "      <td>ARDS</td>\n",
       "      <td>3</td>\n",
       "      <td>ROSE</td>\n",
       "      <td>In patients with moderate to severe ARDS, does early use of continuous neuromuscular blockade improve mortality?</td>\n",
       "      <td>Maybe this question: In patients with moderate to severe ARDS, does early use of continuous neuromuscular blockade improve mortality?</td>\n",
       "      <td>fixed</td>\n",
       "      <td></td>\n",
       "      <td></td>\n",
       "    </tr>\n",
       "    <tr>\n",
       "      <th>3</th>\n",
       "      <td>ARDS</td>\n",
       "      <td>4</td>\n",
       "      <td>ROSE</td>\n",
       "      <td>Do patients with moderate-to-severe ARDS have a significance difference in mortality rate beween patients who recieved an early and continous cisatracurium infusion than those with usual care approach with lighter sedation targets?</td>\n",
       "      <td>Local question (not sure if this is the aim of your project) It will be nice as second step after proving the general summarization is working but focusing in general summarization would be priority in my opinion so you can have meanigful tool.</td>\n",
       "      <td>fixed</td>\n",
       "      <td>Wrong concept since PEEP by itself is mandatory component in ventilator.</td>\n",
       "      <td>Does the use of neuromuscular blockers in patients with moderate-to-severe ARDS impact cardiovascular stability, particularly in terms of vasopressor requirements and hemodynamic effects, compared to sedation strategy without routine neuromuscular blockade?</td>\n",
       "    </tr>\n",
       "    <tr>\n",
       "      <th>4</th>\n",
       "      <td>ARDS</td>\n",
       "      <td>5</td>\n",
       "      <td>FACTT</td>\n",
       "      <td>Among patients with ALI/ARDS, does a conservative fluid management strategy improves lung function and decrease ventilator days compared to liberal strategy?</td>\n",
       "      <td>Local question (not sure if this is the aim of your project) consider (WikiJournal): In patients with ALI/ARDS that are intubated and receiving positive pressure ventilation, how does the conservative compare to the liberal fluid management strategy in reducing mortality?</td>\n",
       "      <td>fixed</td>\n",
       "      <td>Check if studies defined conservative by CVP &lt; 4  or elese just dont mention how much the CVP (i prefer the last approach)</td>\n",
       "      <td></td>\n",
       "    </tr>\n",
       "  </tbody>\n",
       "</table>\n",
       "</div>"
      ],
      "text/plain": [
       "  condition  number      docs  \\\n",
       "0      ARDS       1  ACURASYS   \n",
       "1      ARDS       2  ACURASYS   \n",
       "2      ARDS       3      ROSE   \n",
       "3      ARDS       4      ROSE   \n",
       "4      ARDS       5     FACTT   \n",
       "\n",
       "                                                                                                                                                                                                                                  Question  \\\n",
       "0                                                                                                                                           Does early administration of neuromuscular blocking agents increases the ventilator free days?   \n",
       "1                                                                                                                            Do patients with severe ARDS being treated with neuromuscular blocking agents have increased muscle weakness?   \n",
       "2                                                                                                                         In patients with moderate to severe ARDS, does early use of continuous neuromuscular blockade improve mortality?   \n",
       "3  Do patients with moderate-to-severe ARDS have a significance difference in mortality rate beween patients who recieved an early and continous cisatracurium infusion than those with usual care approach with lighter sedation targets?   \n",
       "4                                                                            Among patients with ALI/ARDS, does a conservative fluid management strategy improves lung function and decrease ventilator days compared to liberal strategy?   \n",
       "\n",
       "                                                                                                                                                                                                                                                                       Mahmud's Note  \\\n",
       "0                                                                                                                                                                                                                                                                               Like   \n",
       "1                                                                                                                                                                                                                                                                            Replace   \n",
       "2                                                                                                                                              Maybe this question: In patients with moderate to severe ARDS, does early use of continuous neuromuscular blockade improve mortality?   \n",
       "3                               Local question (not sure if this is the aim of your project) It will be nice as second step after proving the general summarization is working but focusing in general summarization would be priority in my opinion so you can have meanigful tool.   \n",
       "4  Local question (not sure if this is the aim of your project) consider (WikiJournal): In patients with ALI/ARDS that are intubated and receiving positive pressure ventilation, how does the conservative compare to the liberal fluid management strategy in reducing mortality?    \n",
       "\n",
       "  status  \\\n",
       "0          \n",
       "1  fixed   \n",
       "2  fixed   \n",
       "3  fixed   \n",
       "4  fixed   \n",
       "\n",
       "                                                                                                                     comments  \\\n",
       "0                                                                                                                               \n",
       "1                                                                                                                               \n",
       "2                                                                                                                               \n",
       "3                                                   Wrong concept since PEEP by itself is mandatory component in ventilator.    \n",
       "4  Check if studies defined conservative by CVP < 4  or elese just dont mention how much the CVP (i prefer the last approach)   \n",
       "\n",
       "                                                                                                                                                                                                                                                                      \n",
       "0                                                                                                                                                                                                                                                                     \n",
       "1                                                                                                                                                                                                                                                                     \n",
       "2                                                                                                                                                                                                                                                                     \n",
       "3  Does the use of neuromuscular blockers in patients with moderate-to-severe ARDS impact cardiovascular stability, particularly in terms of vasopressor requirements and hemodynamic effects, compared to sedation strategy without routine neuromuscular blockade?  \n",
       "4                                                                                                                                                                                                                                                                     "
      ]
     },
     "execution_count": 14,
     "metadata": {},
     "output_type": "execute_result"
    }
   ],
   "source": [
    "spreadsheet = connect2Googlesheet()\n",
    "\n",
    "# Select the worksheet: relevance\n",
    "worksheet = spreadsheet.get_worksheet(2)  \n",
    "\n",
    "# Get all records as a list of dictionaries\n",
    "data = worksheet.get_all_records()\n",
    "\n",
    "# Convert to Pandas DataFrame\n",
    "df_MedQ = pd.DataFrame(data)\n",
    "df_MedQ.head()"
   ]
  },
  {
   "cell_type": "markdown",
   "metadata": {},
   "source": [
    "## Step 3: Relevance check for top K questions"
   ]
  },
  {
   "cell_type": "code",
   "execution_count": null,
   "metadata": {},
   "outputs": [],
   "source": [
    "def retrieval_rel_docs (graph, questions, top_k=5):\n",
    "    top_k_questions = questions.head(top_k)\n",
    "    # Initialize a list to store the results\n",
    "    results = []\n",
    "    # Iterate over the top k questions\n",
    "    for index, row in top_k_questions.iterrows():\n",
    "        question_number = index + 1  # Assuming the question number is the index + 1\n",
    "        question = row['Question']  # Replace 'Question' with the actual column name for questions in df_MedQ\n",
    "        \n",
    "        # Generate response for the question\n",
    "        # context = context_builder(graph, question, method=\"vector\")\n",
    "        filenames , output = enhanced_chunk_finder(graph, question,similarity_threshold = 0.9)\n",
    "        # Extract relevant documents from the response content\n",
    "        # docs = response.choices[0].message.content  # Adjust this based on the actual response structure\n",
    "        # Iterate over the output to extract chunk details\n",
    "        for chunk in output:\n",
    "            file_name, chunk_text, page_number, position , similarity = chunk\n",
    "            # Append the result to the list\n",
    "            results.append({\n",
    "                'Question number': question_number,\n",
    "                'Question': question,\n",
    "                'Retrieved FileName': file_name,\n",
    "                'Chunk Text': chunk_text,\n",
    "                'Page Number': page_number,\n",
    "                'Position': position,\n",
    "                'Similarity': similarity\n",
    "            })\n",
    "        # Append the result to the list\n",
    "        #results.append({'Question number': question_number, 'Question': question, 'Retrieved FileName': filenames, 'Chunks': output})\n",
    "\n",
    "    # Convert the results to a DataFrame\n",
    "    results_df = pd.DataFrame(results, columns=[\n",
    "        'Question number', 'Question', 'Retrieved FileName', 'Chunk Text', 'Page Number', 'Position' , 'Similarity'\n",
    "    ])\n",
    "    \n",
    "    return results_df , filenames\n",
    "#retrieval_rel_docs (graph, questions, top_k=1)"
   ]
  },
  {
   "cell_type": "code",
   "execution_count": 19,
   "metadata": {},
   "outputs": [
    {
     "data": {
      "text/html": [
       "<div>\n",
       "<style scoped>\n",
       "    .dataframe tbody tr th:only-of-type {\n",
       "        vertical-align: middle;\n",
       "    }\n",
       "\n",
       "    .dataframe tbody tr th {\n",
       "        vertical-align: top;\n",
       "    }\n",
       "\n",
       "    .dataframe thead th {\n",
       "        text-align: right;\n",
       "    }\n",
       "</style>\n",
       "<table border=\"1\" class=\"dataframe\">\n",
       "  <thead>\n",
       "    <tr style=\"text-align: right;\">\n",
       "      <th></th>\n",
       "      <th>Question number</th>\n",
       "      <th>Question</th>\n",
       "      <th>Retrieved FileName</th>\n",
       "      <th>Chunk Text</th>\n",
       "      <th>Page Number</th>\n",
       "      <th>Position</th>\n",
       "      <th>Similarity</th>\n",
       "    </tr>\n",
       "  </thead>\n",
       "  <tbody>\n",
       "    <tr>\n",
       "      <th>0</th>\n",
       "      <td>2</td>\n",
       "      <td>Do patients with severe ARDS being treated with neuromuscular blocking agents have increased muscle weakness?</td>\n",
       "      <td>ACURASYS.pdf</td>\n",
       "      <td>Steroidal  compounds (vecuronium, pancuronium, and ro­ cu­ronium) may carry the highest risk of myopa- thy,23 although myopathy has also been reported  with benzylisoquinolines, including cisatracuri- um besylate.24,25 Muscle weakness was not in- creased significantly by the use of the neuro- muscular blocking agent in our study. The short  duration of use of the neuromuscular blocking  agent probably explains this result. In conclusion, this multicenter trial provides  evidence that the administration of a neuromuscu- lar blocking agent early in the course of severe  ARDS managed with low-tidal-volume ventilation  may improve outcomes. Future studies are need- ed to replicate and expand these findings before  they can be widely adopted in clinical practice. Supported by the Assistance Publique–Hôpitaux de Marseille  and a grant from the Ministère de</td>\n",
       "      <td>9</td>\n",
       "      <td>59</td>\n",
       "      <td>0.930769</td>\n",
       "    </tr>\n",
       "    <tr>\n",
       "      <th>1</th>\n",
       "      <td>2</td>\n",
       "      <td>Do patients with severe ARDS being treated with neuromuscular blocking agents have increased muscle weakness?</td>\n",
       "      <td>ACURASYS.pdf</td>\n",
       "      <td>care unit patients who  require neuromuscular-blocking agents.  Crit Care Med 1995;23:450-8. Testelmans D, Maes K, Wouters P, et  23.\\t al. Rocuronium exacerbates mechanical  ventilation-induced diaphragm dysfunc- tion in rats. Crit Care Med 2006;34:3018- 23. Davis NA, Rodgers JE, Gonzalez ER,  24.\\t Fowler AA III. Prolonged weakness after  cisatracurium infusion: a case report. Crit  Care Med 1998;26:1290-2. Leatherman JW, Fluegel WL, David  25.\\t WS, Davies SF, Iber C. Muscle weakness  in mechanically ventilated patients with  severe asthma. Am J Respir Crit Care Med  1996;153:1686-90. Copyright © 2010 Massachusetts Medical Society. posting presentations at medical meetings on the internet Posting</td>\n",
       "      <td>10</td>\n",
       "      <td>73</td>\n",
       "      <td>0.930769</td>\n",
       "    </tr>\n",
       "    <tr>\n",
       "      <th>2</th>\n",
       "      <td>2</td>\n",
       "      <td>Do patients with severe ARDS being treated with neuromuscular blocking agents have increased muscle weakness?</td>\n",
       "      <td>ACURASYS.pdf</td>\n",
       "      <td>Neuromuscular Blocking Agents in ARDS n engl j med 363;12  nejm.org  september 16, 2010 1115 The mechanisms underlying the beneficial  effect of neuromuscular blocking agents remain  speculative. A brief period of paralysis early in  the course of ARDS may facilitate lung-protective  mechanical ventilation by improving patient– ventilator synchrony and allowing for the accurate  adjustment of tidal volume and pressure levels,  thereby limiting the risk of both asynchrony- related alveolar collapse and regional alveolar- pressure increases with overdistention. Another  possible mechanism of the benefit involves a de- crease in lung or systemic inflammation.15 The main safety concern with the use of a  neuromuscular blocking agent is muscle weak- ness; the risk varies among agents.21,22 Steroidal  compounds (vecuronium, pancuronium, and ro­ cu­ron</td>\n",
       "      <td>9</td>\n",
       "      <td>58</td>\n",
       "      <td>0.930769</td>\n",
       "    </tr>\n",
       "  </tbody>\n",
       "</table>\n",
       "</div>"
      ],
      "text/plain": [
       "   Question number  \\\n",
       "0                2   \n",
       "1                2   \n",
       "2                2   \n",
       "\n",
       "                                                                                                        Question  \\\n",
       "0  Do patients with severe ARDS being treated with neuromuscular blocking agents have increased muscle weakness?   \n",
       "1  Do patients with severe ARDS being treated with neuromuscular blocking agents have increased muscle weakness?   \n",
       "2  Do patients with severe ARDS being treated with neuromuscular blocking agents have increased muscle weakness?   \n",
       "\n",
       "  Retrieved FileName  \\\n",
       "0       ACURASYS.pdf   \n",
       "1       ACURASYS.pdf   \n",
       "2       ACURASYS.pdf   \n",
       "\n",
       "                                                                                                                                                                                                                                                                                                                                                                                                                                                                                                                                                                                                                                                                                                                                                                                                                                                                                        Chunk Text  \\\n",
       "0   Steroidal  compounds (vecuronium, pancuronium, and ro­ cu­ronium) may carry the highest risk of myopa- thy,23 although myopathy has also been reported  with benzylisoquinolines, including cisatracuri- um besylate.24,25 Muscle weakness was not in- creased significantly by the use of the neuro- muscular blocking agent in our study. The short  duration of use of the neuromuscular blocking  agent probably explains this result. In conclusion, this multicenter trial provides  evidence that the administration of a neuromuscu- lar blocking agent early in the course of severe  ARDS managed with low-tidal-volume ventilation  may improve outcomes. Future studies are need- ed to replicate and expand these findings before  they can be widely adopted in clinical practice. Supported by the Assistance Publique–Hôpitaux de Marseille  and a grant from the Ministère de   \n",
       "1                                                                                                                                                             care unit patients who  require neuromuscular-blocking agents.  Crit Care Med 1995;23:450-8. Testelmans D, Maes K, Wouters P, et  23.\\t al. Rocuronium exacerbates mechanical  ventilation-induced diaphragm dysfunc- tion in rats. Crit Care Med 2006;34:3018- 23. Davis NA, Rodgers JE, Gonzalez ER,  24.\\t Fowler AA III. Prolonged weakness after  cisatracurium infusion: a case report. Crit  Care Med 1998;26:1290-2. Leatherman JW, Fluegel WL, David  25.\\t WS, Davies SF, Iber C. Muscle weakness  in mechanically ventilated patients with  severe asthma. Am J Respir Crit Care Med  1996;153:1686-90. Copyright © 2010 Massachusetts Medical Society. posting presentations at medical meetings on the internet Posting   \n",
       "2        Neuromuscular Blocking Agents in ARDS n engl j med 363;12  nejm.org  september 16, 2010 1115 The mechanisms underlying the beneficial  effect of neuromuscular blocking agents remain  speculative. A brief period of paralysis early in  the course of ARDS may facilitate lung-protective  mechanical ventilation by improving patient– ventilator synchrony and allowing for the accurate  adjustment of tidal volume and pressure levels,  thereby limiting the risk of both asynchrony- related alveolar collapse and regional alveolar- pressure increases with overdistention. Another  possible mechanism of the benefit involves a de- crease in lung or systemic inflammation.15 The main safety concern with the use of a  neuromuscular blocking agent is muscle weak- ness; the risk varies among agents.21,22 Steroidal  compounds (vecuronium, pancuronium, and ro­ cu­ron   \n",
       "\n",
       "   Page Number  Position  Similarity  \n",
       "0            9        59    0.930769  \n",
       "1           10        73    0.930769  \n",
       "2            9        58    0.930769  "
      ]
     },
     "execution_count": 19,
     "metadata": {},
     "output_type": "execute_result"
    }
   ],
   "source": [
    "# Set pandas display options to show the full text content\n",
    "pd.set_option('display.max_colwidth', None)\n",
    "pd.set_option('display.max_rows', None)\n",
    "pd.set_option('display.max_columns', None)\n",
    "topk = 5\n",
    "results_df, filenames= retrieval_rel_docs(graph, df_MedQ, top_k=topk)\n",
    "results_df\n",
    "# results_df.to_csv('./outputs/retrieved_docs_results.csv', index=False)"
   ]
  }
 ],
 "metadata": {
  "kernelspec": {
   "display_name": "base",
   "language": "python",
   "name": "python3"
  },
  "language_info": {
   "codemirror_mode": {
    "name": "ipython",
    "version": 3
   },
   "file_extension": ".py",
   "mimetype": "text/x-python",
   "name": "python",
   "nbconvert_exporter": "python",
   "pygments_lexer": "ipython3",
   "version": "3.11.6"
  }
 },
 "nbformat": 4,
 "nbformat_minor": 2
}
