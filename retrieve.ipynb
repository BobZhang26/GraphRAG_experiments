{
 "cells": [
  {
   "cell_type": "markdown",
   "metadata": {},
   "source": [
    "# GraphRAG Relevance, Factuality and Synthesis Evaluation"
   ]
  },
  {
   "cell_type": "markdown",
   "metadata": {},
   "source": [
    "## Step 0: environment set up"
   ]
  },
  {
   "cell_type": "code",
   "execution_count": 1,
   "metadata": {
    "jupyter": {
     "is_executing": true
    }
   },
   "outputs": [
    {
     "data": {
      "text/plain": [
       "True"
      ]
     },
     "execution_count": 1,
     "metadata": {},
     "output_type": "execute_result"
    }
   ],
   "source": [
    "from dotenv import load_dotenv\n",
    "import os\n",
    "from langchain_neo4j import Neo4jGraph\n",
    "from libs import create_vector_index\n",
    "import pandas as pd\n",
    "from conn import connect2Googlesheet,retrieval_rel_docs, get_concatenate_df, apply_metric\n",
    "from libs import context_builder\n",
    "# Force reload of the .env file\n",
    "load_dotenv()"
   ]
  },
  {
   "cell_type": "code",
   "execution_count": 2,
   "metadata": {},
   "outputs": [
    {
     "name": "stdout",
     "output_type": "stream",
     "text": [
      "Connected to Neo4j database successfully.\n"
     ]
    }
   ],
   "source": [
    "# Connect to Neo4j database\n",
    "try:\n",
    "    graph = Neo4jGraph(\n",
    "        url=os.getenv(\"NEO4J_URL\"),\n",
    "        username=os.getenv(\"NEO4J_USERNAME\"),\n",
    "        password=os.getenv(\"NEO4J_PASSWORD\")\n",
    "    )\n",
    "    print(\"Connected to Neo4j database successfully.\")\n",
    "except ValueError as e:\n",
    "    print(f\"Could not connect to Neo4j database: {e}\")"
   ]
  },
  {
   "cell_type": "markdown",
   "metadata": {},
   "source": [
    "## Step 1: Create vector index"
   ]
  },
  {
   "cell_type": "code",
   "execution_count": 3,
   "metadata": {},
   "outputs": [
    {
     "name": "stdout",
     "output_type": "stream",
     "text": [
      "Index 'entities' exists but has incorrect dimensions: None. Recreating...\n"
     ]
    }
   ],
   "source": [
    "create_vector_index(graph, \"entities\")"
   ]
  },
  {
   "cell_type": "markdown",
   "metadata": {},
   "source": [
    "## Step 2: Load questions from google sheet"
   ]
  },
  {
   "cell_type": "code",
   "execution_count": 4,
   "metadata": {},
   "outputs": [
    {
     "data": {
      "text/html": [
       "<div>\n",
       "<style scoped>\n",
       "    .dataframe tbody tr th:only-of-type {\n",
       "        vertical-align: middle;\n",
       "    }\n",
       "\n",
       "    .dataframe tbody tr th {\n",
       "        vertical-align: top;\n",
       "    }\n",
       "\n",
       "    .dataframe thead th {\n",
       "        text-align: right;\n",
       "    }\n",
       "</style>\n",
       "<table border=\"1\" class=\"dataframe\">\n",
       "  <thead>\n",
       "    <tr style=\"text-align: right;\">\n",
       "      <th></th>\n",
       "      <th>condition</th>\n",
       "      <th>number</th>\n",
       "      <th>docs</th>\n",
       "      <th>Question</th>\n",
       "      <th>Mahmud's Note</th>\n",
       "      <th>status</th>\n",
       "      <th>comments</th>\n",
       "      <th></th>\n",
       "    </tr>\n",
       "  </thead>\n",
       "  <tbody>\n",
       "    <tr>\n",
       "      <th>0</th>\n",
       "      <td>ARDS</td>\n",
       "      <td>1</td>\n",
       "      <td>ACURASYS</td>\n",
       "      <td>Does early administration of neuromuscular blo...</td>\n",
       "      <td>Like</td>\n",
       "      <td></td>\n",
       "      <td></td>\n",
       "      <td></td>\n",
       "    </tr>\n",
       "    <tr>\n",
       "      <th>1</th>\n",
       "      <td>ARDS</td>\n",
       "      <td>2</td>\n",
       "      <td>ACURASYS</td>\n",
       "      <td>Do patients with severe ARDS being treated wit...</td>\n",
       "      <td>Replace</td>\n",
       "      <td>fixed</td>\n",
       "      <td></td>\n",
       "      <td></td>\n",
       "    </tr>\n",
       "    <tr>\n",
       "      <th>2</th>\n",
       "      <td>ARDS</td>\n",
       "      <td>3</td>\n",
       "      <td>ROSE</td>\n",
       "      <td>In patients with moderate to severe ARDS, does...</td>\n",
       "      <td>Maybe this question: In patients with moderate...</td>\n",
       "      <td>fixed</td>\n",
       "      <td></td>\n",
       "      <td></td>\n",
       "    </tr>\n",
       "    <tr>\n",
       "      <th>3</th>\n",
       "      <td>ARDS</td>\n",
       "      <td>4</td>\n",
       "      <td>ROSE</td>\n",
       "      <td>Do patients with moderate-to-severe ARDS have ...</td>\n",
       "      <td>Local question (not sure if this is the aim of...</td>\n",
       "      <td>fixed</td>\n",
       "      <td>Wrong concept since PEEP by itself is mandator...</td>\n",
       "      <td>Does the use of neuromuscular blockers in pati...</td>\n",
       "    </tr>\n",
       "    <tr>\n",
       "      <th>4</th>\n",
       "      <td>ARDS</td>\n",
       "      <td>5</td>\n",
       "      <td>FACTT</td>\n",
       "      <td>Among patients with ALI/ARDS, does a conservat...</td>\n",
       "      <td>Local question (not sure if this is the aim of...</td>\n",
       "      <td>fixed</td>\n",
       "      <td>Check if studies defined conservative by CVP &lt;...</td>\n",
       "      <td></td>\n",
       "    </tr>\n",
       "  </tbody>\n",
       "</table>\n",
       "</div>"
      ],
      "text/plain": [
       "  condition  number      docs  \\\n",
       "0      ARDS       1  ACURASYS   \n",
       "1      ARDS       2  ACURASYS   \n",
       "2      ARDS       3      ROSE   \n",
       "3      ARDS       4      ROSE   \n",
       "4      ARDS       5     FACTT   \n",
       "\n",
       "                                            Question  \\\n",
       "0  Does early administration of neuromuscular blo...   \n",
       "1  Do patients with severe ARDS being treated wit...   \n",
       "2  In patients with moderate to severe ARDS, does...   \n",
       "3  Do patients with moderate-to-severe ARDS have ...   \n",
       "4  Among patients with ALI/ARDS, does a conservat...   \n",
       "\n",
       "                                       Mahmud's Note status  \\\n",
       "0                                               Like          \n",
       "1                                            Replace  fixed   \n",
       "2  Maybe this question: In patients with moderate...  fixed   \n",
       "3  Local question (not sure if this is the aim of...  fixed   \n",
       "4  Local question (not sure if this is the aim of...  fixed   \n",
       "\n",
       "                                            comments  \\\n",
       "0                                                      \n",
       "1                                                      \n",
       "2                                                      \n",
       "3  Wrong concept since PEEP by itself is mandator...   \n",
       "4  Check if studies defined conservative by CVP <...   \n",
       "\n",
       "                                                      \n",
       "0                                                     \n",
       "1                                                     \n",
       "2                                                     \n",
       "3  Does the use of neuromuscular blockers in pati...  \n",
       "4                                                     "
      ]
     },
     "execution_count": 4,
     "metadata": {},
     "output_type": "execute_result"
    }
   ],
   "source": [
    "spreadsheet = connect2Googlesheet()\n",
    "\n",
    "# Select the worksheet: relevance\n",
    "worksheet = spreadsheet.get_worksheet(2)  \n",
    "\n",
    "# Get all records as a list of dictionaries\n",
    "data = worksheet.get_all_records()\n",
    "\n",
    "# Convert to Pandas DataFrame\n",
    "df_MedQ = pd.DataFrame(data)\n",
    "df_MedQ.head()"
   ]
  },
  {
   "cell_type": "markdown",
   "metadata": {},
   "source": [
    "## Step 3: Relevance check for top K questions"
   ]
  },
  {
   "cell_type": "code",
   "execution_count": 5,
   "metadata": {},
   "outputs": [],
   "source": [
    "def retrieval_rel_docs (graph, questions, top_k=5):\n",
    "    top_k_questions = questions.head(top_k)\n",
    "    # Initialize a list to store the results\n",
    "    results = []\n",
    "    # Iterate over the top k questions\n",
    "    for index, row in top_k_questions.iterrows():\n",
    "        question_number = index + 1  # Assuming the question number is the index + 1\n",
    "        question = row['Question']  # Replace 'Question' with the actual column name for questions in df_MedQ\n",
    "        \n",
    "        # Generate response for the question\n",
    "        context = context_builder(graph, question, method=\"vector\")\n",
    "        \n",
    "        # Extract relevant documents from the response content\n",
    "        # docs = response.choices[0].message.content  # Adjust this based on the actual response structure\n",
    "        \n",
    "        # Append the result to the list\n",
    "        results.append({'Question number': question_number, 'Question': question, 'Retrieved': context})\n",
    "\n",
    "    # Convert the results to a DataFrame\n",
    "    results_df = pd.DataFrame(results, columns=['Question number', 'Question', 'Retrieved'])\n",
    "    \n",
    "    return results_df\n",
    "#retrieval_rel_docs (graph, questions, top_k=1)"
   ]
  },
  {
   "cell_type": "code",
   "execution_count": 6,
   "metadata": {},
   "outputs": [
    {
     "data": {
      "text/html": [
       "<div>\n",
       "<style scoped>\n",
       "    .dataframe tbody tr th:only-of-type {\n",
       "        vertical-align: middle;\n",
       "    }\n",
       "\n",
       "    .dataframe tbody tr th {\n",
       "        vertical-align: top;\n",
       "    }\n",
       "\n",
       "    .dataframe thead th {\n",
       "        text-align: right;\n",
       "    }\n",
       "</style>\n",
       "<table border=\"1\" class=\"dataframe\">\n",
       "  <thead>\n",
       "    <tr style=\"text-align: right;\">\n",
       "      <th></th>\n",
       "      <th>Question number</th>\n",
       "      <th>Question</th>\n",
       "      <th>Retrieved</th>\n",
       "    </tr>\n",
       "  </thead>\n",
       "  <tbody>\n",
       "    <tr>\n",
       "      <th>0</th>\n",
       "      <td>1</td>\n",
       "      <td>Does early administration of neuromuscular blocking agents increases the ventilator free days?</td>\n",
       "      <td>Given the following context in the format [(File Name, Text),...] \\n[('LSPA.pdf', ' clinical trials have shown that early mobilization in both medical and surgical  critically ill patients is safe and associated with increased ventilator-free days and improved  physical function at hospital discharge.22–25 Early mobilization is limited by use of deep  sedation and development of delirium, which can be minimized through the use of scale- based targeted light sedation is implemented early on.26 After reviewing this literature in 2013, the Society of Critical Care Medicine (SCCM)’s')]</td>\n",
       "    </tr>\n",
       "    <tr>\n",
       "      <th>1</th>\n",
       "      <td>2</td>\n",
       "      <td>Do patients with severe ARDS being treated with neuromuscular blocking agents have increased muscle weakness?</td>\n",
       "      <td>Given the following context in the format [(File Name, Text),...] \\n[('ACURASYS.pdf', ' Steroidal  compounds (vecuronium, pancuronium, and ro\\xad cu\\xadronium) may carry the highest risk of myopa- thy,23 although myopathy has also been reported  with benzylisoquinolines, including cisatracuri- um besylate.24,25 Muscle weakness was not in- creased significantly by the use of the neuro- muscular blocking agent in our study. The short  duration of use of the neuromuscular blocking  agent probably explains this result. In conclusion, this multicenter trial provides  evidence that the administration of a neuromuscu- lar blocking agent early in the course of severe  ARDS managed with low-tidal-volume ventilation  may improve outcomes. Future studies are need- ed to replicate and expand these findings before  they can be widely adopted in clinical practice. Supported by the Assistance Publique–Hôpitaux de Marseille  and a grant from the Ministère de')]</td>\n",
       "    </tr>\n",
       "    <tr>\n",
       "      <th>2</th>\n",
       "      <td>3</td>\n",
       "      <td>In patients with moderate to severe ARDS, does early use of continuous neuromuscular blockade improve mortality?</td>\n",
       "      <td>Given the following context in the format [(File Name, Text),...] \\n[('ACURASYS.pdf', ' Steroidal  compounds (vecuronium, pancuronium, and ro\\xad cu\\xadronium) may carry the highest risk of myopa- thy,23 although myopathy has also been reported  with benzylisoquinolines, including cisatracuri- um besylate.24,25 Muscle weakness was not in- creased significantly by the use of the neuro- muscular blocking agent in our study. The short  duration of use of the neuromuscular blocking  agent probably explains this result. In conclusion, this multicenter trial provides  evidence that the administration of a neuromuscu- lar blocking agent early in the course of severe  ARDS managed with low-tidal-volume ventilation  may improve outcomes. Future studies are need- ed to replicate and expand these findings before  they can be widely adopted in clinical practice. Supported by the Assistance Publique–Hôpitaux de Marseille  and a grant from the Ministère de')]</td>\n",
       "    </tr>\n",
       "    <tr>\n",
       "      <th>3</th>\n",
       "      <td>4</td>\n",
       "      <td>Do patients with moderate-to-severe ARDS have a significance difference in mortality rate beween patients who recieved an early and continous cisatracurium infusion than those with usual care approach with lighter sedation targets?</td>\n",
       "      <td>Given the following context in the format [(File Name, Text),...] \\n[('ROSE.pdf', ' approach to mechanical ventilation  that included lighter sedation targets. This trial  had high adherence to the protocol, including  minimal crossover use of neuromuscular block- ade and high adherence to the recommended  ventilation and fluid strategy. The results of  prespecified subgroup analyses were consistent  with those of the primary analysis across sever- ity and duration of ARDS and across trial sites  with different exclusion rates for previous neuro- muscular blockade use. Several factors may explain why our findings  differed from those of ACURASYS, the previous  multicenter trial that showed a benefit with  early continuous neuromuscular blockade. First,  we used a higher PEEP strategy in both groups  to test our intervention in the context of best  care and to reduce the likelihood of differential  PEEP use across groups. Higher PEEP may itself  reduce mortality among patients with moderate- to-severe ARDS, thereby blunting the potential  treatment effect of early')]</td>\n",
       "    </tr>\n",
       "    <tr>\n",
       "      <th>4</th>\n",
       "      <td>5</td>\n",
       "      <td>Among patients with ALI/ARDS, does a conservative fluid management strategy improves lung function and decrease ventilator days compared to liberal strategy?</td>\n",
       "      <td>Given the following context in the format [(File Name, Text),...] \\n[('FMWSCPARDS.pdf', ' mortality to FACTT Conservative. FACTT Conservative has improved ventilator-free days,  ICU-free days, and prevalence of acute kidney injury than FACTT Liberal. FACTT Lite can  be used as a simplified and safe alternative to FACTT Conservative for the management of  fluid balance in patients with ARDS. Supplementary Material Refer to Web version on PubMed Central for supplementary material. Acknowledgments Supported, in part, by the National Institutes of Health, National')]</td>\n",
       "    </tr>\n",
       "  </tbody>\n",
       "</table>\n",
       "</div>"
      ],
      "text/plain": [
       "   Question number  \\\n",
       "0                1   \n",
       "1                2   \n",
       "2                3   \n",
       "3                4   \n",
       "4                5   \n",
       "\n",
       "                                                                                                                                                                                                                                  Question  \\\n",
       "0                                                                                                                                           Does early administration of neuromuscular blocking agents increases the ventilator free days?   \n",
       "1                                                                                                                            Do patients with severe ARDS being treated with neuromuscular blocking agents have increased muscle weakness?   \n",
       "2                                                                                                                         In patients with moderate to severe ARDS, does early use of continuous neuromuscular blockade improve mortality?   \n",
       "3  Do patients with moderate-to-severe ARDS have a significance difference in mortality rate beween patients who recieved an early and continous cisatracurium infusion than those with usual care approach with lighter sedation targets?   \n",
       "4                                                                            Among patients with ALI/ARDS, does a conservative fluid management strategy improves lung function and decrease ventilator days compared to liberal strategy?   \n",
       "\n",
       "                                                                                                                                                                                                                                                                                                                                                                                                                                                                                                                                                                                                                                                                                                                                                                                                                                                                                                                                                                                                                                                                                                                    Retrieved  \n",
       "0                                                                                                                                                                                                                                                                                                                                                                                                                                                                                                                Given the following context in the format [(File Name, Text),...] \\n[('LSPA.pdf', ' clinical trials have shown that early mobilization in both medical and surgical  critically ill patients is safe and associated with increased ventilator-free days and improved  physical function at hospital discharge.22–25 Early mobilization is limited by use of deep  sedation and development of delirium, which can be minimized through the use of scale- based targeted light sedation is implemented early on.26 After reviewing this literature in 2013, the Society of Critical Care Medicine (SCCM)’s')]  \n",
       "1                                                                                                                             Given the following context in the format [(File Name, Text),...] \\n[('ACURASYS.pdf', ' Steroidal  compounds (vecuronium, pancuronium, and ro\\xad cu\\xadronium) may carry the highest risk of myopa- thy,23 although myopathy has also been reported  with benzylisoquinolines, including cisatracuri- um besylate.24,25 Muscle weakness was not in- creased significantly by the use of the neuro- muscular blocking agent in our study. The short  duration of use of the neuromuscular blocking  agent probably explains this result. In conclusion, this multicenter trial provides  evidence that the administration of a neuromuscu- lar blocking agent early in the course of severe  ARDS managed with low-tidal-volume ventilation  may improve outcomes. Future studies are need- ed to replicate and expand these findings before  they can be widely adopted in clinical practice. Supported by the Assistance Publique–Hôpitaux de Marseille  and a grant from the Ministère de')]  \n",
       "2                                                                                                                             Given the following context in the format [(File Name, Text),...] \\n[('ACURASYS.pdf', ' Steroidal  compounds (vecuronium, pancuronium, and ro\\xad cu\\xadronium) may carry the highest risk of myopa- thy,23 although myopathy has also been reported  with benzylisoquinolines, including cisatracuri- um besylate.24,25 Muscle weakness was not in- creased significantly by the use of the neuro- muscular blocking agent in our study. The short  duration of use of the neuromuscular blocking  agent probably explains this result. In conclusion, this multicenter trial provides  evidence that the administration of a neuromuscu- lar blocking agent early in the course of severe  ARDS managed with low-tidal-volume ventilation  may improve outcomes. Future studies are need- ed to replicate and expand these findings before  they can be widely adopted in clinical practice. Supported by the Assistance Publique–Hôpitaux de Marseille  and a grant from the Ministère de')]  \n",
       "3  Given the following context in the format [(File Name, Text),...] \\n[('ROSE.pdf', ' approach to mechanical ventilation  that included lighter sedation targets. This trial  had high adherence to the protocol, including  minimal crossover use of neuromuscular block- ade and high adherence to the recommended  ventilation and fluid strategy. The results of  prespecified subgroup analyses were consistent  with those of the primary analysis across sever- ity and duration of ARDS and across trial sites  with different exclusion rates for previous neuro- muscular blockade use. Several factors may explain why our findings  differed from those of ACURASYS, the previous  multicenter trial that showed a benefit with  early continuous neuromuscular blockade. First,  we used a higher PEEP strategy in both groups  to test our intervention in the context of best  care and to reduce the likelihood of differential  PEEP use across groups. Higher PEEP may itself  reduce mortality among patients with moderate- to-severe ARDS, thereby blunting the potential  treatment effect of early')]  \n",
       "4                                                                                                                                                                                                                                                                                                                                                                                                                                                                                                                                   Given the following context in the format [(File Name, Text),...] \\n[('FMWSCPARDS.pdf', ' mortality to FACTT Conservative. FACTT Conservative has improved ventilator-free days,  ICU-free days, and prevalence of acute kidney injury than FACTT Liberal. FACTT Lite can  be used as a simplified and safe alternative to FACTT Conservative for the management of  fluid balance in patients with ARDS. Supplementary Material Refer to Web version on PubMed Central for supplementary material. Acknowledgments Supported, in part, by the National Institutes of Health, National')]  "
      ]
     },
     "execution_count": 6,
     "metadata": {},
     "output_type": "execute_result"
    }
   ],
   "source": [
    "# Set pandas display options to show the full text content\n",
    "pd.set_option('display.max_colwidth', None)\n",
    "pd.set_option('display.max_rows', None)\n",
    "pd.set_option('display.max_columns', None)\n",
    "topk = 5\n",
    "results_df = retrieval_rel_docs(graph, df_MedQ, top_k=topk)\n",
    "results_df\n",
    "# results_df.to_csv('./outputs/retrieved_docs_results.csv', index=False)"
   ]
  },
  {
   "cell_type": "code",
   "execution_count": 7,
   "metadata": {},
   "outputs": [
    {
     "data": {
      "text/html": [
       "<div>\n",
       "<style scoped>\n",
       "    .dataframe tbody tr th:only-of-type {\n",
       "        vertical-align: middle;\n",
       "    }\n",
       "\n",
       "    .dataframe tbody tr th {\n",
       "        vertical-align: top;\n",
       "    }\n",
       "\n",
       "    .dataframe thead th {\n",
       "        text-align: right;\n",
       "    }\n",
       "</style>\n",
       "<table border=\"1\" class=\"dataframe\">\n",
       "  <thead>\n",
       "    <tr style=\"text-align: right;\">\n",
       "      <th></th>\n",
       "      <th>Question number</th>\n",
       "      <th>Generated Docs</th>\n",
       "    </tr>\n",
       "  </thead>\n",
       "  <tbody>\n",
       "    <tr>\n",
       "      <th>0</th>\n",
       "      <td>1</td>\n",
       "      <td>\"ACURASYS\"</td>\n",
       "    </tr>\n",
       "    <tr>\n",
       "      <th>1</th>\n",
       "      <td>2</td>\n",
       "      <td>\"ACURASYS\"</td>\n",
       "    </tr>\n",
       "    <tr>\n",
       "      <th>2</th>\n",
       "      <td>3</td>\n",
       "      <td>\"ACURASYS\"</td>\n",
       "    </tr>\n",
       "    <tr>\n",
       "      <th>3</th>\n",
       "      <td>4</td>\n",
       "      <td>\"ROSE\", \"ACURASYS\"</td>\n",
       "    </tr>\n",
       "    <tr>\n",
       "      <th>4</th>\n",
       "      <td>5</td>\n",
       "      <td>\"ARDS\", \"ACURASYS\"</td>\n",
       "    </tr>\n",
       "  </tbody>\n",
       "</table>\n",
       "</div>"
      ],
      "text/plain": [
       "   Question number      Generated Docs\n",
       "0                1          \"ACURASYS\"\n",
       "1                2          \"ACURASYS\"\n",
       "2                3          \"ACURASYS\"\n",
       "3                4  \"ROSE\", \"ACURASYS\"\n",
       "4                5  \"ARDS\", \"ACURASYS\""
      ]
     },
     "execution_count": 7,
     "metadata": {},
     "output_type": "execute_result"
    }
   ],
   "source": [
    "# old results\n",
    "old_results = pd.read_csv('./outputs/retrieved_docs_results.csv')\n",
    "old_results"
   ]
  },
  {
   "cell_type": "code",
   "execution_count": null,
   "metadata": {},
   "outputs": [],
   "source": [
    "# load the relevant documents\n",
    "# topk = 2\n",
    "# results_df = pd.read_csv('./outputs/retrieved_docs_results.csv')\n",
    "# relevant_docs_df = pd.read_csv('./outputs/relevant_docs.csv').rename(columns={'Docs': 'Relevant Docs'})\n",
    "#concatenated_df = get_concatenate_df(results_df, relevant_docs_df, topk)\n",
    "#concatenated_df.head()\n",
    "#relevant_docs_df.head()\n",
    "#context_builder(graph, query, method=\"vector\")\n",
    "#relevant_docs_df.head()"
   ]
  },
  {
   "cell_type": "code",
   "execution_count": 10,
   "metadata": {},
   "outputs": [],
   "source": [
    "# Display the concatenated DataFrame with metrics\n",
    "# concatenated_df = apply_metric(concatenated_df)\n",
    "# concatenated_df\n",
    "# Save the concatenated DataFrame to a CSV file\n",
    "#concatenated_df.to_csv('./outputs/concatenated_results.csv', index=False)"
   ]
  }
 ],
 "metadata": {
  "kernelspec": {
   "display_name": ".venv",
   "language": "python",
   "name": "python3"
  },
  "language_info": {
   "codemirror_mode": {
    "name": "ipython",
    "version": 3
   },
   "file_extension": ".py",
   "mimetype": "text/x-python",
   "name": "python",
   "nbconvert_exporter": "python",
   "pygments_lexer": "ipython3",
   "version": "3.13.0"
  }
 },
 "nbformat": 4,
 "nbformat_minor": 2
}
