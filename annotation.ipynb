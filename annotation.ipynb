{
 "cells": [
  {
   "cell_type": "markdown",
   "metadata": {},
   "source": [
    "## Annotations loaded from Google drive "
   ]
  },
  {
   "cell_type": "markdown",
   "metadata": {},
   "source": [
    "### Step 0: Environment set up"
   ]
  },
  {
   "cell_type": "code",
   "execution_count": null,
   "metadata": {},
   "outputs": [],
   "source": [
    "import gspread\n",
    "import pandas as pd\n",
    "from oauth2client.service_account import ServiceAccountCredentials\n",
    "from dotenv import load_dotenv\n",
    "import os"
   ]
  },
  {
   "cell_type": "code",
   "execution_count": null,
   "metadata": {},
   "outputs": [],
   "source": [
    "# Load environment variables from .env file\n",
    "load_dotenv()\n",
    "# Define scope\n",
    "scope = [\"https://spreadsheets.google.com/feeds\", \"https://www.googleapis.com/auth/drive\"]\n",
    "\n",
    "json_keyfile_path = os.getenv(\"GOOGLE_APPLICATION_CREDENTIALS\")\n",
    "# Load credentials from JSON key file (replace with your file path)\n",
    "creds = ServiceAccountCredentials.from_json_keyfile_name(json_keyfile_path, scope)\n",
    "client = gspread.authorize(creds)\n",
    "sheet_url = 'https://docs.google.com/spreadsheets/d/1GRStLZdPvZTN-DDcxND3xaYaHGGl-wVCQxWdsFRhsqs/edit?gid=408470182#gid=408470182'\n",
    "\n",
    "# Open the Google Sheet (replace with your sheet name or URL)\n",
    "spreadsheet = client.open_by_url(sheet_url)  # Or use .open_by_url('URL')\n",
    "\n",
    "# Select the worksheet\n",
    "worksheet = spreadsheet.sheet1  # First sheet\n",
    "\n",
    "# Get all records as a list of dictionaries\n",
    "data = worksheet.get_all_records()\n",
    "\n",
    "# Convert to Pandas DataFrame\n",
    "df = pd.DataFrame(data)"
   ]
  },
  {
   "cell_type": "code",
   "execution_count": 5,
   "metadata": {},
   "outputs": [
    {
     "data": {
      "text/html": [
       "<div>\n",
       "<style scoped>\n",
       "    .dataframe tbody tr th:only-of-type {\n",
       "        vertical-align: middle;\n",
       "    }\n",
       "\n",
       "    .dataframe tbody tr th {\n",
       "        vertical-align: top;\n",
       "    }\n",
       "\n",
       "    .dataframe thead th {\n",
       "        text-align: right;\n",
       "    }\n",
       "</style>\n",
       "<table border=\"1\" class=\"dataframe\">\n",
       "  <thead>\n",
       "    <tr style=\"text-align: right;\">\n",
       "      <th></th>\n",
       "      <th>Day</th>\n",
       "      <th>8:30-9:45</th>\n",
       "      <th>10:05-11:20</th>\n",
       "      <th>11:45-13:00</th>\n",
       "      <th>13:25-14:40</th>\n",
       "      <th>15:05-16:20</th>\n",
       "      <th>16:40-17:55</th>\n",
       "      <th>18:10-19:25</th>\n",
       "    </tr>\n",
       "  </thead>\n",
       "  <tbody>\n",
       "    <tr>\n",
       "      <th>0</th>\n",
       "      <td>Mon.</td>\n",
       "      <td></td>\n",
       "      <td>Deep Learning (M)</td>\n",
       "      <td></td>\n",
       "      <td></td>\n",
       "      <td></td>\n",
       "      <td>New Ventures Develop (K)</td>\n",
       "      <td></td>\n",
       "    </tr>\n",
       "    <tr>\n",
       "      <th>1</th>\n",
       "      <td>Tue.</td>\n",
       "      <td>LInear Algebra (M)</td>\n",
       "      <td></td>\n",
       "      <td></td>\n",
       "      <td>UDS Class (K)</td>\n",
       "      <td>Database (B, S, K)</td>\n",
       "      <td></td>\n",
       "      <td></td>\n",
       "    </tr>\n",
       "    <tr>\n",
       "      <th>2</th>\n",
       "      <td>Wed.</td>\n",
       "      <td>Algorithms (M)</td>\n",
       "      <td>Deep Learning (M)</td>\n",
       "      <td></td>\n",
       "      <td></td>\n",
       "      <td>Cloud (B, S)\\nUDS (K)</td>\n",
       "      <td>Bass Connection (K)\\nCloud (B, S)</td>\n",
       "      <td></td>\n",
       "    </tr>\n",
       "    <tr>\n",
       "      <th>3</th>\n",
       "      <td>Thu.</td>\n",
       "      <td>LInear Algebra (M)</td>\n",
       "      <td></td>\n",
       "      <td></td>\n",
       "      <td>UDS Class (K)</td>\n",
       "      <td>Database (B, S, K)</td>\n",
       "      <td>Capstone Project (All)</td>\n",
       "      <td>New Ventures (7-9)pm</td>\n",
       "    </tr>\n",
       "    <tr>\n",
       "      <th>4</th>\n",
       "      <td>Fri.</td>\n",
       "      <td>Algorithms (M)</td>\n",
       "      <td></td>\n",
       "      <td>Data Dialogues (All)</td>\n",
       "      <td></td>\n",
       "      <td></td>\n",
       "      <td></td>\n",
       "      <td></td>\n",
       "    </tr>\n",
       "  </tbody>\n",
       "</table>\n",
       "</div>"
      ],
      "text/plain": [
       "    Day           8:30-9:45        10:05-11:20           11:45-13:00  \\\n",
       "0  Mon.                      Deep Learning (M)                         \n",
       "1  Tue.  LInear Algebra (M)                                            \n",
       "2  Wed.      Algorithms (M)  Deep Learning (M)                         \n",
       "3  Thu.  LInear Algebra (M)                                            \n",
       "4  Fri.      Algorithms (M)                     Data Dialogues (All)   \n",
       "\n",
       "     13:25-14:40            15:05-16:20                        16:40-17:55  \\\n",
       "0                                                 New Ventures Develop (K)   \n",
       "1  UDS Class (K)     Database (B, S, K)                                      \n",
       "2                 Cloud (B, S)\\nUDS (K)  Bass Connection (K)\\nCloud (B, S)   \n",
       "3  UDS Class (K)     Database (B, S, K)             Capstone Project (All)   \n",
       "4                                                                            \n",
       "\n",
       "            18:10-19:25  \n",
       "0                        \n",
       "1                        \n",
       "2                        \n",
       "3  New Ventures (7-9)pm  \n",
       "4                        "
      ]
     },
     "execution_count": 5,
     "metadata": {},
     "output_type": "execute_result"
    }
   ],
   "source": [
    "df"
   ]
  }
 ],
 "metadata": {
  "kernelspec": {
   "display_name": "base",
   "language": "python",
   "name": "python3"
  },
  "language_info": {
   "codemirror_mode": {
    "name": "ipython",
    "version": 3
   },
   "file_extension": ".py",
   "mimetype": "text/x-python",
   "name": "python",
   "nbconvert_exporter": "python",
   "pygments_lexer": "ipython3",
   "version": "3.11.6"
  }
 },
 "nbformat": 4,
 "nbformat_minor": 2
}
